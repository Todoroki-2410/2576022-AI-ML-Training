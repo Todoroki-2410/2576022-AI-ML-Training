{
 "cells": [
  {
   "cell_type": "markdown",
   "id": "326873dc",
   "metadata": {},
   "source": [
    "# Day 10 - Exercise 2"
   ]
  },
  {
   "cell_type": "code",
   "execution_count": 51,
   "id": "d79f0ac5",
   "metadata": {},
   "outputs": [
    {
     "name": "stdout",
     "output_type": "stream",
     "text": [
      "\n",
      "#---------- Titles Data-Set Glimpse ----------#\n"
     ]
    },
    {
     "data": {
      "text/html": [
       "<div>\n",
       "<style scoped>\n",
       "    .dataframe tbody tr th:only-of-type {\n",
       "        vertical-align: middle;\n",
       "    }\n",
       "\n",
       "    .dataframe tbody tr th {\n",
       "        vertical-align: top;\n",
       "    }\n",
       "\n",
       "    .dataframe thead th {\n",
       "        text-align: right;\n",
       "    }\n",
       "</style>\n",
       "<table border=\"1\" class=\"dataframe\">\n",
       "  <thead>\n",
       "    <tr style=\"text-align: right;\">\n",
       "      <th></th>\n",
       "      <th>title</th>\n",
       "      <th>year</th>\n",
       "    </tr>\n",
       "  </thead>\n",
       "  <tbody>\n",
       "    <tr>\n",
       "      <th>0</th>\n",
       "      <td>Tasveer Mere Sanam</td>\n",
       "      <td>1996</td>\n",
       "    </tr>\n",
       "    <tr>\n",
       "      <th>1</th>\n",
       "      <td>Only You</td>\n",
       "      <td>1994</td>\n",
       "    </tr>\n",
       "    <tr>\n",
       "      <th>2</th>\n",
       "      <td>El pueblo del terror</td>\n",
       "      <td>1970</td>\n",
       "    </tr>\n",
       "    <tr>\n",
       "      <th>3</th>\n",
       "      <td>Machine</td>\n",
       "      <td>2007</td>\n",
       "    </tr>\n",
       "    <tr>\n",
       "      <th>4</th>\n",
       "      <td>MARy</td>\n",
       "      <td>2008</td>\n",
       "    </tr>\n",
       "  </tbody>\n",
       "</table>\n",
       "</div>"
      ],
      "text/plain": [
       "                  title  year\n",
       "0    Tasveer Mere Sanam  1996\n",
       "1              Only You  1994\n",
       "2  El pueblo del terror  1970\n",
       "3               Machine  2007\n",
       "4                  MARy  2008"
      ]
     },
     "execution_count": 51,
     "metadata": {},
     "output_type": "execute_result"
    }
   ],
   "source": [
    "import pandas as pd\n",
    "\n",
    "#-------------------- Import <Titles> Data-Set --------------------#\n",
    "\n",
    "titles = pd.read_csv('titles.csv')\n",
    "\n",
    "print('\\n#---------- Titles Data-Set Glimpse ----------#')\n",
    "\n",
    "titles.head()"
   ]
  },
  {
   "cell_type": "code",
   "execution_count": 50,
   "id": "18dfba9d",
   "metadata": {},
   "outputs": [
    {
     "name": "stdout",
     "output_type": "stream",
     "text": [
      "\n",
      "#---------- Cast Data-Set Glimpse ----------#\n"
     ]
    },
    {
     "data": {
      "text/html": [
       "<div>\n",
       "<style scoped>\n",
       "    .dataframe tbody tr th:only-of-type {\n",
       "        vertical-align: middle;\n",
       "    }\n",
       "\n",
       "    .dataframe tbody tr th {\n",
       "        vertical-align: top;\n",
       "    }\n",
       "\n",
       "    .dataframe thead th {\n",
       "        text-align: right;\n",
       "    }\n",
       "</style>\n",
       "<table border=\"1\" class=\"dataframe\">\n",
       "  <thead>\n",
       "    <tr style=\"text-align: right;\">\n",
       "      <th></th>\n",
       "      <th>title</th>\n",
       "      <th>year</th>\n",
       "      <th>name</th>\n",
       "      <th>type</th>\n",
       "      <th>character</th>\n",
       "      <th>n</th>\n",
       "    </tr>\n",
       "  </thead>\n",
       "  <tbody>\n",
       "    <tr>\n",
       "      <th>0</th>\n",
       "      <td>Closet Monster</td>\n",
       "      <td>2015</td>\n",
       "      <td>Buffy #1</td>\n",
       "      <td>actor</td>\n",
       "      <td>Buffy 4</td>\n",
       "      <td>31.0</td>\n",
       "    </tr>\n",
       "    <tr>\n",
       "      <th>1</th>\n",
       "      <td>Suuri illusioni</td>\n",
       "      <td>1985</td>\n",
       "      <td>Homo $</td>\n",
       "      <td>actor</td>\n",
       "      <td>Guests</td>\n",
       "      <td>22.0</td>\n",
       "    </tr>\n",
       "    <tr>\n",
       "      <th>2</th>\n",
       "      <td>Battle of the Sexes</td>\n",
       "      <td>2017</td>\n",
       "      <td>$hutter</td>\n",
       "      <td>actor</td>\n",
       "      <td>Bobby Riggs Fan</td>\n",
       "      <td>10.0</td>\n",
       "    </tr>\n",
       "    <tr>\n",
       "      <th>3</th>\n",
       "      <td>Secret in Their Eyes</td>\n",
       "      <td>2015</td>\n",
       "      <td>$hutter</td>\n",
       "      <td>actor</td>\n",
       "      <td>2002 Dodger Fan</td>\n",
       "      <td>NaN</td>\n",
       "    </tr>\n",
       "    <tr>\n",
       "      <th>4</th>\n",
       "      <td>Steve Jobs</td>\n",
       "      <td>2015</td>\n",
       "      <td>$hutter</td>\n",
       "      <td>actor</td>\n",
       "      <td>1988 Opera House Patron</td>\n",
       "      <td>NaN</td>\n",
       "    </tr>\n",
       "    <tr>\n",
       "      <th>5</th>\n",
       "      <td>Straight Outta Compton</td>\n",
       "      <td>2015</td>\n",
       "      <td>$hutter</td>\n",
       "      <td>actor</td>\n",
       "      <td>Club Patron</td>\n",
       "      <td>NaN</td>\n",
       "    </tr>\n",
       "    <tr>\n",
       "      <th>6</th>\n",
       "      <td>Straight Outta Compton</td>\n",
       "      <td>2015</td>\n",
       "      <td>$hutter</td>\n",
       "      <td>actor</td>\n",
       "      <td>Dopeman</td>\n",
       "      <td>NaN</td>\n",
       "    </tr>\n",
       "    <tr>\n",
       "      <th>7</th>\n",
       "      <td>For Thy Love 2</td>\n",
       "      <td>2009</td>\n",
       "      <td>Bee Moe $lim</td>\n",
       "      <td>actor</td>\n",
       "      <td>Thug 1</td>\n",
       "      <td>NaN</td>\n",
       "    </tr>\n",
       "    <tr>\n",
       "      <th>8</th>\n",
       "      <td>Lapis, Ballpen at Diploma, a True to Life Journey</td>\n",
       "      <td>2014</td>\n",
       "      <td>Jori ' Danilo' Jurado Jr.</td>\n",
       "      <td>actor</td>\n",
       "      <td>Jaime (young)</td>\n",
       "      <td>9.0</td>\n",
       "    </tr>\n",
       "    <tr>\n",
       "      <th>9</th>\n",
       "      <td>Desire (III)</td>\n",
       "      <td>2014</td>\n",
       "      <td>Syaiful 'Ariffin</td>\n",
       "      <td>actor</td>\n",
       "      <td>Actor Playing Eteocles from 'Antigone'</td>\n",
       "      <td>NaN</td>\n",
       "    </tr>\n",
       "  </tbody>\n",
       "</table>\n",
       "</div>"
      ],
      "text/plain": [
       "                                               title  year  \\\n",
       "0                                     Closet Monster  2015   \n",
       "1                                    Suuri illusioni  1985   \n",
       "2                                Battle of the Sexes  2017   \n",
       "3                               Secret in Their Eyes  2015   \n",
       "4                                         Steve Jobs  2015   \n",
       "5                             Straight Outta Compton  2015   \n",
       "6                             Straight Outta Compton  2015   \n",
       "7                                     For Thy Love 2  2009   \n",
       "8  Lapis, Ballpen at Diploma, a True to Life Journey  2014   \n",
       "9                                       Desire (III)  2014   \n",
       "\n",
       "                        name   type                               character  \\\n",
       "0                   Buffy #1  actor                                 Buffy 4   \n",
       "1                     Homo $  actor                                  Guests   \n",
       "2                    $hutter  actor                         Bobby Riggs Fan   \n",
       "3                    $hutter  actor                         2002 Dodger Fan   \n",
       "4                    $hutter  actor                 1988 Opera House Patron   \n",
       "5                    $hutter  actor                             Club Patron   \n",
       "6                    $hutter  actor                                 Dopeman   \n",
       "7               Bee Moe $lim  actor                                  Thug 1   \n",
       "8  Jori ' Danilo' Jurado Jr.  actor                           Jaime (young)   \n",
       "9           Syaiful 'Ariffin  actor  Actor Playing Eteocles from 'Antigone'   \n",
       "\n",
       "      n  \n",
       "0  31.0  \n",
       "1  22.0  \n",
       "2  10.0  \n",
       "3   NaN  \n",
       "4   NaN  \n",
       "5   NaN  \n",
       "6   NaN  \n",
       "7   NaN  \n",
       "8   9.0  \n",
       "9   NaN  "
      ]
     },
     "execution_count": 50,
     "metadata": {},
     "output_type": "execute_result"
    }
   ],
   "source": [
    "#-------------------- Import <Cast> Data-Set --------------------#\n",
    "\n",
    "cast = pd.read_csv('cast.csv')\n",
    "\n",
    "print('\\n#---------- Cast Data-Set Glimpse ----------#')\n",
    "\n",
    "cast.head(10)"
   ]
  },
  {
   "cell_type": "markdown",
   "id": "f8a81f33",
   "metadata": {},
   "source": [
    "# What are the ten most common movie names of all time?"
   ]
  },
  {
   "cell_type": "code",
   "execution_count": 19,
   "id": "972749ad",
   "metadata": {},
   "outputs": [],
   "source": [
    "top_ten_movies = titles['title'].value_counts().head(10).reset_index()\n"
   ]
  },
  {
   "cell_type": "code",
   "execution_count": 28,
   "id": "686cc12c",
   "metadata": {},
   "outputs": [
    {
     "name": "stdout",
     "output_type": "stream",
     "text": [
      "Top 10 Common Movies Are:\n",
      "\n",
      "                  title  No_Of_Count\n",
      "0                Hamlet           20\n",
      "1                Carmen           17\n",
      "2               Macbeth           16\n",
      "3            Temptation           12\n",
      "4          The Outsider           12\n",
      "5                  Maya           12\n",
      "6               Freedom           11\n",
      "7             Honeymoon           11\n",
      "8               Othello           11\n",
      "9  The Three Musketeers           11\n"
     ]
    }
   ],
   "source": [
    "top_ten_movies.columns = ['title', 'No_Of_Count']\n",
    "\n",
    "print(\"Top 10 Common Movies Are:\\n\")\n",
    "\n",
    "print(top_ten_movies)"
   ]
  },
  {
   "cell_type": "markdown",
   "id": "149c17a8",
   "metadata": {},
   "source": [
    "# Which three years of the 1930s saw the most films released?"
   ]
  },
  {
   "cell_type": "code",
   "execution_count": 37,
   "id": "1c2b4861",
   "metadata": {},
   "outputs": [],
   "source": [
    "movies_1930s = cast[cast['year'].between(1930, 1939)]\n",
    "\n",
    "top_three_years_1930s = movies_1930s['year'].value_counts().head(3).reset_index()"
   ]
  },
  {
   "cell_type": "code",
   "execution_count": 82,
   "id": "e7153715",
   "metadata": {},
   "outputs": [
    {
     "name": "stdout",
     "output_type": "stream",
     "text": [
      "\n",
      "The most films released in 3 years of 1930s are:\n",
      "\n",
      "   year  No_Of_Films\n",
      "0  1937        27676\n",
      "1  1936        26019\n",
      "2  1938        25450\n"
     ]
    }
   ],
   "source": [
    "top_three_years_1930s.columns = ['year', 'No_Of_Films']\n",
    "\n",
    "print(\"\\nThe most films released in 3 years of 1930s are:\\n\")\n",
    "\n",
    "print(top_three_years_1930s)"
   ]
  },
  {
   "cell_type": "markdown",
   "id": "06d4bd97",
   "metadata": {},
   "source": [
    "# Plot the number of films that have been released each decade over the history of cinema. "
   ]
  },
  {
   "cell_type": "code",
   "execution_count": 29,
   "id": "1afcd4de",
   "metadata": {},
   "outputs": [
    {
     "name": "stdout",
     "output_type": "stream",
     "text": [
      "Requirement already satisfied: matplotlib in c:\\users\\asus\\anaconda3\\lib\\site-packages (3.7.1)\n",
      "Requirement already satisfied: contourpy>=1.0.1 in c:\\users\\asus\\anaconda3\\lib\\site-packages (from matplotlib) (1.0.5)\n",
      "Requirement already satisfied: cycler>=0.10 in c:\\users\\asus\\anaconda3\\lib\\site-packages (from matplotlib) (0.11.0)\n",
      "Requirement already satisfied: fonttools>=4.22.0 in c:\\users\\asus\\anaconda3\\lib\\site-packages (from matplotlib) (4.25.0)\n",
      "Requirement already satisfied: kiwisolver>=1.0.1 in c:\\users\\asus\\anaconda3\\lib\\site-packages (from matplotlib) (1.4.4)\n",
      "Requirement already satisfied: numpy>=1.20 in c:\\users\\asus\\anaconda3\\lib\\site-packages (from matplotlib) (1.26.0)\n",
      "Requirement already satisfied: packaging>=20.0 in c:\\users\\asus\\anaconda3\\lib\\site-packages (from matplotlib) (23.0)\n",
      "Requirement already satisfied: pillow>=6.2.0 in c:\\users\\asus\\anaconda3\\lib\\site-packages (from matplotlib) (9.4.0)\n",
      "Requirement already satisfied: pyparsing>=2.3.1 in c:\\users\\asus\\anaconda3\\lib\\site-packages (from matplotlib) (3.0.9)\n",
      "Requirement already satisfied: python-dateutil>=2.7 in c:\\users\\asus\\anaconda3\\lib\\site-packages (from matplotlib) (2.8.2)\n",
      "Requirement already satisfied: six>=1.5 in c:\\users\\asus\\anaconda3\\lib\\site-packages (from python-dateutil>=2.7->matplotlib) (1.16.0)\n"
     ]
    }
   ],
   "source": [
    "!pip install matplotlib\n"
   ]
  },
  {
   "cell_type": "code",
   "execution_count": 41,
   "id": "30b39d90",
   "metadata": {},
   "outputs": [],
   "source": [
    "import matplotlib.pyplot as plt\n",
    "\n",
    "titles['decade'] = (titles['year'] // 10) * 10"
   ]
  },
  {
   "cell_type": "code",
   "execution_count": 42,
   "id": "f4576e0b",
   "metadata": {},
   "outputs": [],
   "source": [
    "films_per_decade = titles['decade'].value_counts().sort_index()"
   ]
  },
  {
   "cell_type": "code",
   "execution_count": 49,
   "id": "2589e67f",
   "metadata": {},
   "outputs": [
    {
     "data": {
      "image/png": "[encoded data removed]",
      "text/plain": [
       "<Figure size 500x500 with 1 Axes>"
      ]
     },
     "metadata": {},
     "output_type": "display_data"
    }
   ],
   "source": [
    "plt.figure(figsize=(5, 5))\n",
    "\n",
    "films_per_decade.plot(kind='bar', color='green')\n",
    "\n",
    "plt.title('Number of Films Released Each Decade')\n",
    "\n",
    "plt.xlabel('Decade')\n",
    "\n",
    "plt.ylabel('Number of Films')\n",
    "\n",
    "plt.show()"
   ]
  },
  {
   "cell_type": "markdown",
   "id": "0c75bdc8",
   "metadata": {},
   "source": [
    "# Plot the number of \"Hamlet- films made each decade. "
   ]
  },
  {
   "cell_type": "code",
   "execution_count": 53,
   "id": "5a6cf109",
   "metadata": {},
   "outputs": [],
   "source": [
    "hamlet_films = titles[titles['title'] == 'Hamlet']"
   ]
  },
  {
   "cell_type": "code",
   "execution_count": 54,
   "id": "94a22f80",
   "metadata": {},
   "outputs": [
    {
     "name": "stderr",
     "output_type": "stream",
     "text": [
      "C:\\Users\\ASUS\\AppData\\Local\\Temp\\ipykernel_5184\\3095556894.py:1: SettingWithCopyWarning: \n",
      "A value is trying to be set on a copy of a slice from a DataFrame.\n",
      "Try using .loc[row_indexer,col_indexer] = value instead\n",
      "\n",
      "See the caveats in the documentation: https://pandas.pydata.org/pandas-docs/stable/user_guide/indexing.html#returning-a-view-versus-a-copy\n",
      "  hamlet_films['decade'] = (hamlet_films['year'] // 10) * 10\n"
     ]
    }
   ],
   "source": [
    "hamlet_films['decade'] = (hamlet_films['year'] // 10) * 10"
   ]
  },
  {
   "cell_type": "code",
   "execution_count": 55,
   "id": "360131e9",
   "metadata": {},
   "outputs": [
    {
     "data": {
      "image/png": "[encoded data removed]",
      "text/plain": [
       "<Figure size 500x500 with 1 Axes>"
      ]
     },
     "metadata": {},
     "output_type": "display_data"
    }
   ],
   "source": [
    "hamlet_films_per_decade = hamlet_films['decade'].value_counts().sort_index()\n",
    "\n",
    "plt.figure(figsize=(5, 5))\n",
    "\n",
    "hamlet_films_per_decade.plot(kind='bar', color='blue')\n",
    "\n",
    "plt.title('Number of \"Hamlet\" Films Made Each Decade')\n",
    "\n",
    "plt.xlabel('Decade')\n",
    "\n",
    "plt.ylabel('Number of \"Hamlet\" Films')\n",
    "\n",
    "plt.show()"
   ]
  },
  {
   "cell_type": "markdown",
   "id": "2b641fce",
   "metadata": {},
   "source": [
    "# Plot the number of \"Rustler\" characters in each decade of the history of film."
   ]
  },
  {
   "cell_type": "code",
   "execution_count": 58,
   "id": "2a083288",
   "metadata": {},
   "outputs": [],
   "source": [
    "cast['decade'] = (cast['year'] // 10) * 10"
   ]
  },
  {
   "cell_type": "code",
   "execution_count": 59,
   "id": "110b5e24",
   "metadata": {},
   "outputs": [],
   "source": [
    "rustler_characters = cast[cast['character'] == 'Rustler']"
   ]
  },
  {
   "cell_type": "code",
   "execution_count": 63,
   "id": "b476a6ab",
   "metadata": {},
   "outputs": [
    {
     "data": {
      "image/png": "[encoded data removed]",
      "text/plain": [
       "<Figure size 800x800 with 1 Axes>"
      ]
     },
     "metadata": {},
     "output_type": "display_data"
    }
   ],
   "source": [
    "rustlers_per_decade = rustler_characters['decade'].value_counts().sort_index()\n",
    "\n",
    "plt.figure(figsize=(8,8))\n",
    "           \n",
    "rustlers_per_decade.plot(kind='bar', color='green')\n",
    "           \n",
    "plt.title('Number of \"Rustler\" Characters in Each Decade')\n",
    "           \n",
    "plt.xlabel('Decade')\n",
    "           \n",
    "plt.ylabel('Number of \"Rustler\" Characters')\n",
    "\n",
    "plt.show()"
   ]
  },
  {
   "cell_type": "markdown",
   "id": "53b781ce",
   "metadata": {},
   "source": [
    "# Plot the number of \"Hamlet\" characters each decade. "
   ]
  },
  {
   "cell_type": "code",
   "execution_count": 65,
   "id": "0838fcaa",
   "metadata": {},
   "outputs": [],
   "source": [
    "cast['decade'] = (cast['year'] // 10) * 10\n",
    "\n",
    "hamlet_characters = cast[cast['character'] == 'Hamlet']"
   ]
  },
  {
   "cell_type": "code",
   "execution_count": 66,
   "id": "2495a90a",
   "metadata": {},
   "outputs": [
    {
     "data": {
      "image/png": "[encoded data removed]",
      "text/plain": [
       "<Figure size 1000x600 with 1 Axes>"
      ]
     },
     "metadata": {},
     "output_type": "display_data"
    }
   ],
   "source": [
    "hamlet_per_decade = hamlet_characters['decade'].value_counts().sort_index()\n",
    "\n",
    "plt.figure(figsize=(10, 6))\n",
    "\n",
    "hamlet_per_decade.plot(kind='bar', color='blue')\n",
    "\n",
    "plt.title('Number of \"Hamlet\" Characters in Each Decade')\n",
    "\n",
    "plt.xlabel('Decade')\n",
    "\n",
    "plt.ylabel('Number of \"Hamlet\" Characters')\n",
    "\n",
    "plt.show()"
   ]
  },
  {
   "cell_type": "markdown",
   "id": "3785d111",
   "metadata": {},
   "source": [
    "# What are the 11 most common character names in movie history? "
   ]
  },
  {
   "cell_type": "code",
   "execution_count": 67,
   "id": "04599950",
   "metadata": {},
   "outputs": [],
   "source": [
    "comm_character_names = cast['character'].value_counts().head(11).reset_index()\n",
    "\n",
    "comm_character_names.columns = ['character', 'Total_Count']"
   ]
  },
  {
   "cell_type": "code",
   "execution_count": 70,
   "id": "94d218ee",
   "metadata": {},
   "outputs": [
    {
     "name": "stdout",
     "output_type": "stream",
     "text": [
      "11 most common character names in movie history are: \n",
      "\n",
      "      character  Total_Count\n",
      "0       Himself        20746\n",
      "1        Dancer        12477\n",
      "2         Extra        11948\n",
      "3      Reporter         8434\n",
      "4       Student         7773\n",
      "5        Doctor         7669\n",
      "6   Party Guest         7245\n",
      "7     Policeman         7029\n",
      "8         Nurse         6999\n",
      "9     Bartender         6802\n",
      "10      Herself         6705\n"
     ]
    }
   ],
   "source": [
    "print(\"11 most common character names in movie history are: \\n\")\n",
    "\n",
    "print(comm_character_names)"
   ]
  },
  {
   "cell_type": "markdown",
   "id": "b4fad0ee",
   "metadata": {},
   "source": [
    "# Who are the 10 people most often credited as \"Herself\" in film history? "
   ]
  },
  {
   "cell_type": "code",
   "execution_count": 72,
   "id": "072a6df0",
   "metadata": {},
   "outputs": [],
   "source": [
    "people_herself = cast[cast['character'] == 'Herself']\n",
    "\n",
    "top_10_herself = people_herself['name'].value_counts().head(10).reset_index()\n",
    "\n",
    "top_10_herself.columns = ['name', 'Total_count']"
   ]
  },
  {
   "cell_type": "code",
   "execution_count": 77,
   "id": "07df1bac",
   "metadata": {},
   "outputs": [
    {
     "name": "stdout",
     "output_type": "stream",
     "text": [
      "10 people most credited as 'Herself' in film history are: \n",
      "\n",
      "                        name  Total_count\n",
      "0         Queen Elizabeth II           12\n",
      "1             Joyce Brothers            9\n",
      "2                Luisa Horga            9\n",
      "3     Mar?a Luisa (V) Mart?n            9\n",
      "4          Margaret Thatcher            8\n",
      "5            Hillary Clinton            8\n",
      "6           In?s J. Southern            6\n",
      "7  Mar?a Isabel (III) Mart?n            6\n",
      "8             Marta Berrocal            6\n",
      "9                Sumie Sakai            6\n"
     ]
    }
   ],
   "source": [
    "print(\"10 people most credited as 'Herself' in film history are: \\n\")\n",
    "\n",
    "print(top_10_herself)"
   ]
  },
  {
   "cell_type": "markdown",
   "id": "6e204fc2",
   "metadata": {},
   "source": [
    "# Who are the 10 people most often credited as \"Himself\" in film history? "
   ]
  },
  {
   "cell_type": "code",
   "execution_count": 80,
   "id": "d9d7dc7c",
   "metadata": {},
   "outputs": [],
   "source": [
    "people_himself = cast[cast['character'] == 'Himself']\n",
    "\n",
    "top_10_himself = people_himself['name'].value_counts().head(10).reset_index()\n",
    "\n",
    "top_10_himself.columns = ['name', 'Total_count']"
   ]
  },
  {
   "cell_type": "code",
   "execution_count": 84,
   "id": "c3467367",
   "metadata": {},
   "outputs": [
    {
     "name": "stdout",
     "output_type": "stream",
     "text": [
      "\n",
      " 10 people most credited as 'Himself' in film history are: \n",
      "\n",
      "                    name  Total_count\n",
      "0           Adolf Hitler           99\n",
      "1          Richard Nixon           44\n",
      "2          Ronald Reagan           41\n",
      "3        John F. Kennedy           37\n",
      "4         George W. Bush           25\n",
      "5      Winston Churchill           24\n",
      "6     Martin Luther King           23\n",
      "7             Ron Jeremy           22\n",
      "8           Bill Clinton           22\n",
      "9  Franklin D. Roosevelt           21\n"
     ]
    }
   ],
   "source": [
    "print(\"\\n 10 people most credited as 'Himself' in film history are: \\n\")\n",
    "\n",
    "print(top_10_himself)"
   ]
  },
  {
   "cell_type": "markdown",
   "id": "eebdd417",
   "metadata": {},
   "source": [
    "# Which actors or actresses appeared in the most movies in the year 1945? "
   ]
  },
  {
   "cell_type": "code",
   "execution_count": 85,
   "id": "0f463f9e",
   "metadata": {},
   "outputs": [],
   "source": [
    "movies_1945 = cast[cast['year'] == 1945]\n",
    "\n",
    "actor_appearances_1945 = movies_1945['name'].value_counts()\n",
    "\n",
    "top_actor_1945 = actor_appearances_1945.idxmax()\n",
    "\n",
    "most_appearances_1945 = actor_appearances_1945.max()"
   ]
  },
  {
   "cell_type": "code",
   "execution_count": 91,
   "id": "89de3e5b",
   "metadata": {},
   "outputs": [
    {
     "name": "stdout",
     "output_type": "stream",
     "text": [
      "\n",
      " The actor/actress who appeared in the most movies in 1945 is:- \n",
      "\n",
      "Emmett Vogan with 39 appearances.\n"
     ]
    }
   ],
   "source": [
    "print(f\"\\n The actor/actress who appeared in the most movies in 1945 is:- \\n\")\n",
    "\n",
    "print(top_actor_1945, \"with\",most_appearances_1945, \"appearances.\")"
   ]
  },
  {
   "cell_type": "markdown",
   "id": "18a1f814",
   "metadata": {},
   "source": [
    "# Which actors or actresses appeared in the most movies in the year 1985? "
   ]
  },
  {
   "cell_type": "code",
   "execution_count": 92,
   "id": "71ae1974",
   "metadata": {},
   "outputs": [],
   "source": [
    "movies_1945 = cast[cast['year'] == 1985]\n",
    "\n",
    "actor_appearances_1945 = movies_1945['name'].value_counts()\n",
    "\n",
    "top_actor_1945 = actor_appearances_1945.idxmax()\n",
    "\n",
    "most_appearances_1945 = actor_appearances_1945.max()"
   ]
  },
  {
   "cell_type": "code",
   "execution_count": 93,
   "id": "e70a7239",
   "metadata": {},
   "outputs": [
    {
     "name": "stdout",
     "output_type": "stream",
     "text": [
      "\n",
      " The actor/actress who appeared in the most movies in 1985 is:- \n",
      "\n",
      "Mammootty with 22 appearances.\n"
     ]
    }
   ],
   "source": [
    "print(f\"\\n The actor/actress who appeared in the most movies in 1985 is:- \\n\")\n",
    "\n",
    "print(top_actor_1945, \"with\",most_appearances_1945, \"appearances.\")"
   ]
  },
  {
   "cell_type": "markdown",
   "id": "6861ab4d",
   "metadata": {},
   "source": [
    "# Plot how many roles Mammootty has played in each year of his career. "
   ]
  },
  {
   "cell_type": "code",
   "execution_count": 94,
   "id": "9cabcd5c",
   "metadata": {},
   "outputs": [],
   "source": [
    "mammootty_roles = cast[cast['name'] == 'Mammootty']\n",
    "\n",
    "roles_per_year = mammootty_roles['year'].value_counts().sort_index()"
   ]
  },
  {
   "cell_type": "code",
   "execution_count": 95,
   "id": "a3affb36",
   "metadata": {},
   "outputs": [
    {
     "data": {
      "image/png": "[encoded data removed]",
      "text/plain": [
       "<Figure size 800x800 with 1 Axes>"
      ]
     },
     "metadata": {},
     "output_type": "display_data"
    }
   ],
   "source": [
    "plt.figure(figsize=(8, 8))\n",
    "\n",
    "roles_per_year.plot(kind='bar', color='green')\n",
    "\n",
    "plt.title('Number of Roles Played by Mammootty Each Year')\n",
    "\n",
    "plt.xlabel('Year')\n",
    "\n",
    "plt.ylabel('Number of Roles')\n",
    "\n",
    "plt.show()"
   ]
  },
  {
   "cell_type": "markdown",
   "id": "f488bac7",
   "metadata": {},
   "source": [
    "# What are the 10 most frequent roles that start with the phrase \"Patron in\"? "
   ]
  },
  {
   "cell_type": "code",
   "execution_count": 96,
   "id": "1ae37e3c",
   "metadata": {},
   "outputs": [],
   "source": [
    "patron_roles = cast[cast['character'].str.startswith('Patron in')]\n",
    "\n",
    "top_10_patrons = patron_roles['character'].value_counts().head(10).reset_index()\n",
    "\n",
    "top_10_patrons.columns = ['Role', 'Total_Count']"
   ]
  },
  {
   "cell_type": "code",
   "execution_count": 101,
   "id": "6484feb9",
   "metadata": {},
   "outputs": [
    {
     "name": "stdout",
     "output_type": "stream",
     "text": [
      "\n",
      " Top 10 starting phrase Patrons roles are: \n",
      "\n",
      "                           Role  Total_Count\n",
      "0       Patron in Frisky Rabbit           16\n",
      "1  Patron in Chinese Restaurant            9\n",
      "2    Patron in the Coffee House            9\n",
      "3     Patron in Billiard Parlor            5\n",
      "4          Patron in restaurant            4\n",
      "5                 Patron in Bar            4\n",
      "6             Patron in cabaret            3\n",
      "7          Patron in Restaurant            3\n",
      "8                Patron in Club            3\n",
      "9               Patron in booth            2\n"
     ]
    }
   ],
   "source": [
    "print(\"\\n Top 10 starting phrase Patrons roles are: \\n\")\n",
    "\n",
    "print(top_10_patrons)"
   ]
  },
  {
   "cell_type": "markdown",
   "id": "422a2b6c",
   "metadata": {},
   "source": [
    "# What are the 10 most frequent roles that start with the word \"Science\"? "
   ]
  },
  {
   "cell_type": "code",
   "execution_count": 99,
   "id": "6edf1ba4",
   "metadata": {},
   "outputs": [],
   "source": [
    "science_roles = cast[cast['character'].str.startswith('Science')]\n",
    "\n",
    "top_10_science = science_roles['character'].value_counts().head(10).reset_index()\n",
    "\n",
    "top_10_science.columns = ['Role', 'Total_Count']"
   ]
  },
  {
   "cell_type": "code",
   "execution_count": 102,
   "id": "e200769d",
   "metadata": {},
   "outputs": [
    {
     "name": "stdout",
     "output_type": "stream",
     "text": [
      "\n",
      " Top 10 frequent roles starting with 'Science' are: \n",
      "\n",
      "                   Role  Total_Count\n",
      "0       Science Teacher           60\n",
      "1       Science Student            9\n",
      "2  Science Fair Student            9\n",
      "3    Science Fair Judge            6\n",
      "4      Science Fair Kid            5\n",
      "5      Science Reporter            5\n",
      "6           Science Kid            5\n",
      "7   Science Club Member            5\n",
      "8   Science Promo Cadet            5\n",
      "9               Science            4\n"
     ]
    }
   ],
   "source": [
    "print(\"\\n Top 10 frequent roles starting with 'Science' are: \\n\")\n",
    "\n",
    "print(top_10_science)"
   ]
  },
  {
   "cell_type": "markdown",
   "id": "5b6e0590",
   "metadata": {},
   "source": [
    "# Plot the n-values of the roles that Judi Dench has played over her career. "
   ]
  },
  {
   "cell_type": "code",
   "execution_count": 104,
   "id": "eb740420",
   "metadata": {},
   "outputs": [],
   "source": [
    "judi_roles = cast[cast['name'] == 'Judi Dench']\n",
    "\n",
    "#-------------------- NaN Values --------------------#\n",
    "\n",
    "judi_roles = judi_roles.dropna(subset=['n'])\n",
    "\n",
    "#----------------------------------------#\n",
    "\n",
    "judi_roles = judi_roles.sort_values(by='year')"
   ]
  },
  {
   "cell_type": "code",
   "execution_count": 108,
   "id": "aa11d53b",
   "metadata": {},
   "outputs": [
    {
     "data": {
      "image/png": "[encoded data removed]",
      "text/plain": [
       "<Figure size 1200x600 with 1 Axes>"
      ]
     },
     "metadata": {},
     "output_type": "display_data"
    }
   ],
   "source": [
    "plt.figure(figsize=(12, 6))\n",
    "\n",
    "plt.bar(judi_roles['year'], judi_roles['n'], color='pink')\n",
    "\n",
    "plt.title('n-Values of Roles Played by Judi Dench Over Her Career')\n",
    "\n",
    "plt.xlabel('Year')\n",
    "\n",
    "plt.ylabel('n-Value')\n",
    "\n",
    "plt.show()"
   ]
  },
  {
   "cell_type": "markdown",
   "id": "b52e3a5b",
   "metadata": {},
   "source": [
    "# Plot the n-values of Cary Grant's roles through his career. "
   ]
  },
  {
   "cell_type": "code",
   "execution_count": 109,
   "id": "b35aec2c",
   "metadata": {},
   "outputs": [],
   "source": [
    "grant_roles = cast[cast['name'] == 'Cary Grant']\n",
    "\n",
    "#-------------------- NaN Values --------------------#\n",
    "\n",
    "grant_roles = grant_roles.dropna(subset=['n'])\n",
    "\n",
    "#----------------------------------------#\n",
    "\n",
    "grant_roles = grant_roles.sort_values(by='year')"
   ]
  },
  {
   "cell_type": "code",
   "execution_count": 120,
   "id": "203c32db",
   "metadata": {},
   "outputs": [
    {
     "data": {
      "image/png": "[encoded data removed]",
      "text/plain": [
       "<Figure size 800x800 with 1 Axes>"
      ]
     },
     "metadata": {},
     "output_type": "display_data"
    }
   ],
   "source": [
    "plt.figure(figsize=(8, 8))\n",
    "\n",
    "plt.bar(grant_roles['year'], grant_roles['n'], color='yellow')\n",
    "\n",
    "plt.title('n-Values of Roles Played by Cary Grant Over His Career')\n",
    "\n",
    "plt.xlabel('Year')\n",
    "\n",
    "plt.ylabel('n-Value')\n",
    "\n",
    "plt.show()"
   ]
  },
  {
   "cell_type": "markdown",
   "id": "1a2bfc5e",
   "metadata": {},
   "source": [
    "# Plot the n-value of the roles that Sidney Poitier has acted over the years. "
   ]
  },
  {
   "cell_type": "code",
   "execution_count": 116,
   "id": "2b2e5dc0",
   "metadata": {},
   "outputs": [],
   "source": [
    "sidney_roles = cast[cast['name'] == 'Sidney Poitier']\n",
    "\n",
    "#-------------------- NaN Values --------------------#\n",
    "\n",
    "sidney_roles = sidney_roles.dropna(subset=['n'])\n",
    "\n",
    "#----------------------------------------#\n",
    "\n",
    "sidney_roles = sidney_roles.sort_values(by='year')"
   ]
  },
  {
   "cell_type": "code",
   "execution_count": 119,
   "id": "387b6d64",
   "metadata": {},
   "outputs": [
    {
     "data": {
      "image/png": "[encoded data removed]",
      "text/plain": [
       "<Figure size 800x800 with 1 Axes>"
      ]
     },
     "metadata": {},
     "output_type": "display_data"
    }
   ],
   "source": [
    "plt.figure(figsize=(8, 8))\n",
    "\n",
    "plt.bar(sidney_roles['year'], sidney_roles['n'], color='purple')\n",
    "\n",
    "plt.title('n-Values of Roles Played by Sidney Roles Over Her Career')\n",
    "\n",
    "plt.xlabel('Year')\n",
    "\n",
    "plt.ylabel('n-Value')\n",
    "\n",
    "plt.show()"
   ]
  },
  {
   "cell_type": "markdown",
   "id": "28d81786",
   "metadata": {},
   "source": [
    "# How many leading (n=1) roles were available to actors, and how many to actresses, in the 1950s? "
   ]
  },
  {
   "cell_type": "code",
   "execution_count": 121,
   "id": "074d9657",
   "metadata": {},
   "outputs": [],
   "source": [
    "leading_roles_1950s = cast[(cast['n'] == 1) & (cast['year'].between(1950, 1959))]\n",
    "\n",
    "#-------------------- Actors and Actresses leading roles --------------------#\n",
    "\n",
    "leading_roles_actors = leading_roles_1950s[leading_roles_1950s['type'] == 'actor']\n",
    "\n",
    "leading_roles_actresses = leading_roles_1950s[leading_roles_1950s['type'] == 'actress']\n",
    "\n",
    "#-------------------- Total_Counts (Actors and Actresses) --------------------#\n",
    "\n",
    "count_leading_roles_actors = len(leading_roles_actors)\n",
    "\n",
    "count_leading_roles_actresses = len(leading_roles_actresses)\n"
   ]
  },
  {
   "cell_type": "code",
   "execution_count": 123,
   "id": "d9a7cde2",
   "metadata": {},
   "outputs": [
    {
     "name": "stdout",
     "output_type": "stream",
     "text": [
      "\n",
      " No. of leading roles (n=1) available to actors in the 1950s are: 6692\n",
      "\n",
      " No. of leading roles (n=1) available to actresses in the 1950s are: 3040\n"
     ]
    }
   ],
   "source": [
    "print(f\"\\n No. of leading roles (n=1) available to actors in the 1950s are: {count_leading_roles_actors}\")\n",
    "\n",
    "print(f\"\\n No. of leading roles (n=1) available to actresses in the 1950s are: {count_leading_roles_actresses}\")"
   ]
  },
  {
   "cell_type": "markdown",
   "id": "7751b241",
   "metadata": {},
   "source": [
    "# How many supporting (n=2) roles were available to actors, and how many to actresses. in the 1950s? "
   ]
  },
  {
   "cell_type": "code",
   "execution_count": 126,
   "id": "20a842c4",
   "metadata": {},
   "outputs": [],
   "source": [
    "supporting_roles_1950s = cast[(cast['n'] == 2) & (cast['year'].between(1950, 1959))]\n",
    "\n",
    "#-------------------- Actors and Actresses leading roles --------------------#\n",
    "\n",
    "supporting_roles_actors = supporting_roles_1950s[supporting_roles_1950s['type'] == 'actor']\n",
    "\n",
    "supporting_roles_actresses = supporting_roles_1950s[supporting_roles_1950s['type'] == 'actress']\n",
    "\n",
    "#-------------------- Total_Counts (Actors and Actresses) --------------------#\n",
    "\n",
    "total_supporting_roles_actors = len(supporting_roles_actors)\n",
    "\n",
    "total_supporting_roles_actresses = len(supporting_roles_actresses)"
   ]
  },
  {
   "cell_type": "code",
   "execution_count": 127,
   "id": "2635419b",
   "metadata": {},
   "outputs": [
    {
     "name": "stdout",
     "output_type": "stream",
     "text": [
      "\n",
      " No. of supporting roles (n=2) available to actors in the 1950s are: 4640\n",
      "\n",
      " No. of supporting roles (n=2) available to actresses in the 1950s are: 4635\n"
     ]
    }
   ],
   "source": [
    "print(f\"\\n No. of supporting roles (n=2) available to actors in the 1950s are: {total_supporting_roles_actors}\")\n",
    "\n",
    "print(f\"\\n No. of supporting roles (n=2) available to actresses in the 1950s are: {total_supporting_roles_actresses}\")"
   ]
  },
  {
   "cell_type": "code",
   "execution_count": null,
   "id": "7f4c11e2",
   "metadata": {},
   "outputs": [],
   "source": []
  }
 ],
 "metadata": {
  "kernelspec": {
   "display_name": "Python 3 (ipykernel)",
   "language": "python",
   "name": "python3"
  },
  "language_info": {
   "codemirror_mode": {
    "name": "ipython",
    "version": 3
   },
   "file_extension": ".py",
   "mimetype": "text/x-python",
   "name": "python",
   "nbconvert_exporter": "python",
   "pygments_lexer": "ipython3",
   "version": "3.11.4"
  }
 },
 "nbformat": 4,
 "nbformat_minor": 5
}
