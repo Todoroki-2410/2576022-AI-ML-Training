{
 "cells": [
  {
   "cell_type": "markdown",
   "id": "f5e91a17",
   "metadata": {},
   "source": [
    "# Day 10 - Exercise 1"
   ]
  },
  {
   "cell_type": "code",
   "execution_count": 1,
   "id": "42c2109c",
   "metadata": {
    "scrolled": true
   },
   "outputs": [
    {
     "name": "stdout",
     "output_type": "stream",
     "text": [
      "Requirement already satisfied: pandas in c:\\users\\asus\\anaconda3\\lib\\site-packages (1.5.3)\n",
      "Requirement already satisfied: python-dateutil>=2.8.1 in c:\\users\\asus\\anaconda3\\lib\\site-packages (from pandas) (2.8.2)\n",
      "Requirement already satisfied: pytz>=2020.1 in c:\\users\\asus\\anaconda3\\lib\\site-packages (from pandas) (2022.7)\n",
      "Requirement already satisfied: numpy>=1.21.0 in c:\\users\\asus\\anaconda3\\lib\\site-packages (from pandas) (1.26.0)\n",
      "Requirement already satisfied: six>=1.5 in c:\\users\\asus\\anaconda3\\lib\\site-packages (from python-dateutil>=2.8.1->pandas) (1.16.0)\n"
     ]
    }
   ],
   "source": [
    "!pip install pandas"
   ]
  },
  {
   "cell_type": "code",
   "execution_count": 2,
   "id": "1723ab79",
   "metadata": {},
   "outputs": [],
   "source": [
    "import pandas as pd"
   ]
  },
  {
   "cell_type": "code",
   "execution_count": 75,
   "id": "e64b361e",
   "metadata": {},
   "outputs": [
    {
     "name": "stdout",
     "output_type": "stream",
     "text": [
      "Data-Set Glimpse.. "
     ]
    },
    {
     "data": {
      "text/html": [
       "<div>\n",
       "<style scoped>\n",
       "    .dataframe tbody tr th:only-of-type {\n",
       "        vertical-align: middle;\n",
       "    }\n",
       "\n",
       "    .dataframe tbody tr th {\n",
       "        vertical-align: top;\n",
       "    }\n",
       "\n",
       "    .dataframe thead th {\n",
       "        text-align: right;\n",
       "    }\n",
       "</style>\n",
       "<table border=\"1\" class=\"dataframe\">\n",
       "  <thead>\n",
       "    <tr style=\"text-align: right;\">\n",
       "      <th></th>\n",
       "      <th>title</th>\n",
       "      <th>year</th>\n",
       "    </tr>\n",
       "  </thead>\n",
       "  <tbody>\n",
       "    <tr>\n",
       "      <th>0</th>\n",
       "      <td>Tasveer Mere Sanam</td>\n",
       "      <td>1996</td>\n",
       "    </tr>\n",
       "    <tr>\n",
       "      <th>1</th>\n",
       "      <td>Only You</td>\n",
       "      <td>1994</td>\n",
       "    </tr>\n",
       "    <tr>\n",
       "      <th>2</th>\n",
       "      <td>El pueblo del terror</td>\n",
       "      <td>1970</td>\n",
       "    </tr>\n",
       "    <tr>\n",
       "      <th>3</th>\n",
       "      <td>Machine</td>\n",
       "      <td>2007</td>\n",
       "    </tr>\n",
       "    <tr>\n",
       "      <th>4</th>\n",
       "      <td>MARy</td>\n",
       "      <td>2008</td>\n",
       "    </tr>\n",
       "  </tbody>\n",
       "</table>\n",
       "</div>"
      ],
      "text/plain": [
       "                  title  year\n",
       "0    Tasveer Mere Sanam  1996\n",
       "1              Only You  1994\n",
       "2  El pueblo del terror  1970\n",
       "3               Machine  2007\n",
       "4                  MARy  2008"
      ]
     },
     "execution_count": 75,
     "metadata": {},
     "output_type": "execute_result"
    }
   ],
   "source": [
    "titles = pd.read_csv('titles.csv')\n",
    "\n",
    "print(\"Data-Set Glimpse..\", end=' ')\n",
    "\n",
    "titles.head()"
   ]
  },
  {
   "cell_type": "markdown",
   "id": "d82c8465",
   "metadata": {},
   "source": [
    "# 1. How many movies are listed in the titles dataframe?"
   ]
  },
  {
   "cell_type": "code",
   "execution_count": 73,
   "id": "5cfb65b6",
   "metadata": {},
   "outputs": [
    {
     "name": "stdout",
     "output_type": "stream",
     "text": [
      "Total movies in the data-frame are: 244914\n"
     ]
    }
   ],
   "source": [
    "total_movies = titles.shape[0]\n",
    "\n",
    "print(\"Total movies in the data-frame are:\",total_movies)"
   ]
  },
  {
   "cell_type": "markdown",
   "id": "92e89ffa",
   "metadata": {},
   "source": [
    "# 2. What are the earliest two films llisted in the titles dataframe?"
   ]
  },
  {
   "cell_type": "code",
   "execution_count": 8,
   "id": "06981e99",
   "metadata": {},
   "outputs": [
    {
     "name": "stdout",
     "output_type": "stream",
     "text": [
      "0    Tasveer Mere Sanam\n",
      "1              Only You\n",
      "Name: title, dtype: object\n"
     ]
    }
   ],
   "source": [
    "import pandas as pd\n",
    "\n",
    "earliest_films = titles['title'].iloc[0:2]\n",
    "\n",
    "print(earliest_films)"
   ]
  },
  {
   "cell_type": "markdown",
   "id": "d5b2da8f",
   "metadata": {},
   "source": [
    "# 3. How many movies have the title \"Hamlet\"?"
   ]
  },
  {
   "cell_type": "code",
   "execution_count": 71,
   "id": "8e08398e",
   "metadata": {},
   "outputs": [
    {
     "name": "stdout",
     "output_type": "stream",
     "text": [
      "Total number of movies with the title \"Hamlet\" are: 20\n"
     ]
    }
   ],
   "source": [
    "hamlet_movies = titles[titles['title'] == 'Hamlet']\n",
    "\n",
    "num_hamlet_movies = hamlet_movies.shape[0]\n",
    "\n",
    "print(f'Total number of movies with the title \"Hamlet\" are: {num_hamlet_movies}')"
   ]
  },
  {
   "cell_type": "markdown",
   "id": "78188bf0",
   "metadata": {},
   "source": [
    "# 4. How many movies are titled \"North by Northwest\"?"
   ]
  },
  {
   "cell_type": "code",
   "execution_count": 11,
   "id": "c2207283",
   "metadata": {},
   "outputs": [
    {
     "name": "stdout",
     "output_type": "stream",
     "text": [
      "Total number of movies titled \"North by Northwest\": 1\n"
     ]
    }
   ],
   "source": [
    "north_by_northwest_movies = titles[titles['title'] == 'North by Northwest']\n",
    "\n",
    "num_north_by_northwest_movies = north_by_northwest_movies.shape[0]\n",
    "\n",
    "print(f'Total number of movies titled \"North by Northwest\": {num_north_by_northwest_movies}')"
   ]
  },
  {
   "cell_type": "markdown",
   "id": "4ed8b798",
   "metadata": {},
   "source": [
    "# 5. When was the first movie titled \"Hamlet made?"
   ]
  },
  {
   "cell_type": "code",
   "execution_count": 12,
   "id": "2e85d484",
   "metadata": {},
   "outputs": [
    {
     "name": "stdout",
     "output_type": "stream",
     "text": [
      "The first movie titled 'Hamlet' was made in the year 1910.\n"
     ]
    }
   ],
   "source": [
    "hamlet_movies = titles[titles['title'] == 'Hamlet']\n",
    "\n",
    "first_hamlet_movie_year = hamlet_movies['year'].min()\n",
    "\n",
    "print(f\"The first movie titled 'Hamlet' was made in the year {first_hamlet_movie_year}.\")"
   ]
  },
  {
   "cell_type": "markdown",
   "id": "06f2be0e",
   "metadata": {},
   "source": [
    "# 6. List all of the Treasure Island\" movies from earliest to most recent."
   ]
  },
  {
   "cell_type": "code",
   "execution_count": 13,
   "id": "6daee2e4",
   "metadata": {},
   "outputs": [
    {
     "name": "stdout",
     "output_type": "stream",
     "text": [
      "                  title  year\n",
      "55686   Treasure Island  1918\n",
      "196514  Treasure Island  1920\n",
      "141822  Treasure Island  1934\n",
      "77354   Treasure Island  1950\n",
      "65051   Treasure Island  1972\n",
      "37238   Treasure Island  1973\n",
      "173051  Treasure Island  1985\n",
      "27076   Treasure Island  1999\n"
     ]
    }
   ],
   "source": [
    "treasure_island_movies = titles[titles['title'] == 'Treasure Island']\n",
    "\n",
    "treasure_island_movies_sorted = treasure_island_movies.sort_values(by='year')\n",
    "\n",
    "print(treasure_island_movies_sorted[['title', 'year']])"
   ]
  },
  {
   "cell_type": "markdown",
   "id": "592eab33",
   "metadata": {},
   "source": [
    "# 7. How many movies were made In the year 1950?"
   ]
  },
  {
   "cell_type": "code",
   "execution_count": 14,
   "id": "4a2b41b9",
   "metadata": {},
   "outputs": [
    {
     "name": "stdout",
     "output_type": "stream",
     "text": [
      "Total number of movies made in the year 1950: 1113\n"
     ]
    }
   ],
   "source": [
    "movies_1950 = titles[titles['year'] == 1950]\n",
    "\n",
    "num_movies_1950 = len(movies_1950)\n",
    "\n",
    "print(f'Total number of movies made in the year 1950: {num_movies_1950}')"
   ]
  },
  {
   "cell_type": "markdown",
   "id": "0fc52770",
   "metadata": {},
   "source": [
    "# 8. How many movies were made In the year 1960?"
   ]
  },
  {
   "cell_type": "code",
   "execution_count": 15,
   "id": "1181c749",
   "metadata": {},
   "outputs": [
    {
     "name": "stdout",
     "output_type": "stream",
     "text": [
      "Total number of movies made in the year 1960: 1549\n"
     ]
    }
   ],
   "source": [
    "movies_1960 = titles[titles['year'] == 1960]\n",
    "\n",
    "num_movies_1960 = len(movies_1960)\n",
    "\n",
    "print(f'Total number of movies made in the year 1960: {num_movies_1960}')"
   ]
  },
  {
   "cell_type": "markdown",
   "id": "1e3e3862",
   "metadata": {},
   "source": [
    "# 9. How many movies were made from 1950 through 1959? "
   ]
  },
  {
   "cell_type": "code",
   "execution_count": 16,
   "id": "876f1eb7",
   "metadata": {},
   "outputs": [
    {
     "name": "stdout",
     "output_type": "stream",
     "text": [
      "Total number of movies made from 1950 through 1959: 12934\n"
     ]
    }
   ],
   "source": [
    "movies_1950s = titles[(titles['year'] >= 1950) & (titles['year'] <= 1959)]\n",
    "\n",
    "num_movies_1950s = len(movies_1950s)\n",
    "\n",
    "print(f'Total number of movies made from 1950 through 1959: {num_movies_1950s}')"
   ]
  },
  {
   "cell_type": "markdown",
   "id": "9d1f375a",
   "metadata": {},
   "source": [
    "# 10. In what years has a movie titled \"Batman\" been released? "
   ]
  },
  {
   "cell_type": "code",
   "execution_count": 22,
   "id": "d3a65657",
   "metadata": {},
   "outputs": [
    {
     "name": "stdout",
     "output_type": "stream",
     "text": [
      "Years in which a movie titled 'Batman' has been released are: 1943, 1989\n"
     ]
    }
   ],
   "source": [
    "batman_movies = titles[titles['title'] == 'Batman']\n",
    "\n",
    "release_years = batman_movies['year'].unique()\n",
    "\n",
    "print(f\"Years in which a movie titled 'Batman' has been released are: {', '.join(map(str, release_years))}\")"
   ]
  },
  {
   "cell_type": "markdown",
   "id": "e784b46d",
   "metadata": {},
   "source": [
    "# 11. How many roles were there in the movie \"Inception'? "
   ]
  },
  {
   "cell_type": "code",
   "execution_count": 25,
   "id": "cc5c4f09",
   "metadata": {},
   "outputs": [
    {
     "name": "stdout",
     "output_type": "stream",
     "text": [
      "Total number of roles in the movie \"Inception is \": 78\n"
     ]
    }
   ],
   "source": [
    "#--------------- Import Cast Dataset ---------------#\n",
    "\n",
    "cast = pd.read_csv('cast.csv')\n",
    "\n",
    "inception_roles = cast[cast['title'] == 'Inception']\n",
    "\n",
    "num_roles_inception = len(inception_roles)\n",
    "\n",
    "print(f'Total number of roles in the movie \"Inception is \": {num_roles_inception}')"
   ]
  },
  {
   "cell_type": "markdown",
   "id": "0c57502f",
   "metadata": {},
   "source": [
    "# 12. How many roles In the movie Inception\" are NOT ranked by an \"n\" value? "
   ]
  },
  {
   "cell_type": "code",
   "execution_count": 59,
   "id": "a3b4e097",
   "metadata": {},
   "outputs": [
    {
     "name": "stdout",
     "output_type": "stream",
     "text": [
      "Total number of unranked roles in the movie \"Inception\" are: 27\n"
     ]
    }
   ],
   "source": [
    "inception_roles = cast[cast['title'] == 'Inception']\n",
    "\n",
    "num_unranked_roles_inception = inception_roles['n'].isnull().sum()\n",
    "\n",
    "print(f'Total number of unranked roles in the movie \"Inception\" are: {num_unranked_roles_inception}')"
   ]
  },
  {
   "cell_type": "markdown",
   "id": "878f4411",
   "metadata": {},
   "source": [
    "# 13. But how many roles in the movie \"Inception\" did receive an \"n\" value? "
   ]
  },
  {
   "cell_type": "code",
   "execution_count": 60,
   "id": "2c9a7a0d",
   "metadata": {},
   "outputs": [
    {
     "name": "stdout",
     "output_type": "stream",
     "text": [
      "Total number of roles in the movie \"Inception\" with an \"n\" value are: 51\n"
     ]
    }
   ],
   "source": [
    "inception_roles = cast[cast['title'] == 'Inception']\n",
    "\n",
    "num_ranked_roles_inception = inception_roles['n'].count()\n",
    "\n",
    "print(f'Total number of roles in the movie \"Inception\" with an \"n\" value are: {num_ranked_roles_inception}')"
   ]
  },
  {
   "cell_type": "markdown",
   "id": "4f9c3661",
   "metadata": {},
   "source": [
    "# 14. Display the cast of \"North by Northwest\" in their correct \"n\"-value order, ignoring roles that did not earn a numeric \"n\" value. "
   ]
  },
  {
   "cell_type": "code",
   "execution_count": 29,
   "id": "07ed54bf",
   "metadata": {},
   "outputs": [
    {
     "name": "stdout",
     "output_type": "stream",
     "text": [
      "            n                  name\n",
      "871426    1.0            Cary Grant\n",
      "3518333   2.0       Eva Marie Saint\n",
      "1457165   3.0           James Mason\n",
      "3157232   4.0   Jessie Royce Landis\n",
      "356707    5.0        Leo G. Carroll\n",
      "3048272   6.0  Josephine Hutchinson\n",
      "1695173   7.0           Philip Ober\n",
      "1275337   8.0         Martin Landau\n",
      "2447081   9.0         Adam Williams\n",
      "1811387  10.0          Edward Platt\n",
      "665768   11.0     Robert Ellenstein\n",
      "2295714  12.0          Les Tremayne\n",
      "464736   13.0       Philip Coolidge\n",
      "1508344  14.0         Patrick McVey\n",
      "206471   15.0          Edward Binns\n",
      "1384780  16.0             Ken Lynch\n"
     ]
    }
   ],
   "source": [
    "north_by_northwest_cast = cast[(cast['title'] == 'North by Northwest') & (cast['n'].notna())]\n",
    "\n",
    "north_cast_sorted = north_by_northwest_cast.sort_values(by='n')\n",
    "\n",
    "print(north_cast_sorted[['n', 'name']])"
   ]
  },
  {
   "cell_type": "markdown",
   "id": "2d87b90c",
   "metadata": {},
   "source": [
    "# 15. Display the entire cast, in \"n\"-order, of the 1972 film \"Sleuth\". "
   ]
  },
  {
   "cell_type": "code",
   "execution_count": 30,
   "id": "82a25f48",
   "metadata": {},
   "outputs": [
    {
     "name": "stdout",
     "output_type": "stream",
     "text": [
      "           n                name\n",
      "1705394  1.0    Laurence Olivier\n",
      "326773   2.0       Michael Caine\n",
      "373876   3.0      Alec Cawthorne\n",
      "1465483  4.0  John (II) Matthews\n",
      "2724553  5.0  Eve (III) Channing\n",
      "1448690  6.0        Teddy Martin\n"
     ]
    }
   ],
   "source": [
    "sleuth_1972_cast = cast[(cast['title'] == 'Sleuth') & (cast['year'] == 1972)]\n",
    "\n",
    "sleuth_cast_sorted = sleuth_1972_cast.sort_values(by='n')\n",
    "\n",
    "print(sleuth_cast_sorted[['n', 'name']])"
   ]
  },
  {
   "cell_type": "markdown",
   "id": "616016c3",
   "metadata": {},
   "source": [
    "# 16. Now display the entire cast, in \"n\"-order. of the 2007 version of \"Sleuth\".  "
   ]
  },
  {
   "cell_type": "code",
   "execution_count": 31,
   "id": "0dc5d6f4",
   "metadata": {},
   "outputs": [
    {
     "name": "stdout",
     "output_type": "stream",
     "text": [
      "           n                 name\n",
      "326774   1.0        Michael Caine\n",
      "1293634  2.0             Jude Law\n",
      "1805907  3.0        Harold Pinter\n",
      "260242   NaN      Kenneth Branagh\n",
      "373877   NaN  Alec (II) Cawthorne\n",
      "2724552  NaN    Eve (II) Channing\n",
      "3370424  NaN    Carmel O'Sullivan\n"
     ]
    }
   ],
   "source": [
    "sleuth_2007_cast = cast.query('title == \"Sleuth\" and year == 2007')\n",
    "\n",
    "sleuth_2007_cast_sorted = sleuth_2007_cast.sort_values(by='n')\n",
    "\n",
    "print(sleuth_2007_cast_sorted[['n', 'name']])"
   ]
  },
  {
   "cell_type": "markdown",
   "id": "db30c584",
   "metadata": {},
   "source": [
    "# 17. How many roles were credited in the silent 1921 version of Hamlet? "
   ]
  },
  {
   "cell_type": "code",
   "execution_count": 32,
   "id": "447c0b9a",
   "metadata": {},
   "outputs": [
    {
     "name": "stdout",
     "output_type": "stream",
     "text": [
      "Total number of credited roles in the silent 1921 version of \"Hamlet are\": 9\n"
     ]
    }
   ],
   "source": [
    "hamlet_1921_cast = cast[(cast['title'] == 'Hamlet') & (cast['year'] == 1921)]\n",
    "\n",
    "creditedroles_hamlet_1921 = len(hamlet_1921_cast)\n",
    "\n",
    "print(f'Total number of credited roles in the silent 1921 version of \"Hamlet are\": {creditedroles_hamlet_1921}')"
   ]
  },
  {
   "cell_type": "markdown",
   "id": "aa60de03",
   "metadata": {},
   "source": [
    "# 18. How many roles were credited in Branagh's 1996 Hamlet? "
   ]
  },
  {
   "cell_type": "code",
   "execution_count": 36,
   "id": "d851e2ef",
   "metadata": {},
   "outputs": [
    {
     "name": "stdout",
     "output_type": "stream",
     "text": [
      "Total number of credited roles in Branaghs 1996 \"Hamlet\" are: 1\n"
     ]
    }
   ],
   "source": [
    "branagh_hamlet_cast = cast[(cast['title'] == 'Hamlet') & (cast['year'] == 1996) & (cast['name'] == 'Kenneth Branagh')]\n",
    "\n",
    "creditedroles_branagh_hamlet = len(branagh_hamlet_cast)\n",
    "\n",
    "print(f'Total number of credited roles in Branaghs 1996 \"Hamlet\" are: {creditedroles_branagh_hamlet}')"
   ]
  },
  {
   "cell_type": "markdown",
   "id": "0663833d",
   "metadata": {},
   "source": [
    "# 19. How many \"Hamlet\" roles have been listed in all film credits through history? "
   ]
  },
  {
   "cell_type": "code",
   "execution_count": 38,
   "id": "939eb5b0",
   "metadata": {},
   "outputs": [
    {
     "name": "stdout",
     "output_type": "stream",
     "text": [
      "Total number of \"Hamlet\" roles in all film credits through history are: 342\n"
     ]
    }
   ],
   "source": [
    "hamlet_roles = cast[cast['title'] == 'Hamlet']\n",
    "\n",
    "total_hamlet_roles = len(hamlet_roles)\n",
    "\n",
    "print(f'Total number of \"Hamlet\" roles in all film credits through history are: {total_hamlet_roles}')"
   ]
  },
  {
   "cell_type": "markdown",
   "id": "c6739e41",
   "metadata": {},
   "source": [
    "# 20. How many people have played an \"Ophelia\"? "
   ]
  },
  {
   "cell_type": "code",
   "execution_count": 42,
   "id": "f8f61b92",
   "metadata": {},
   "outputs": [
    {
     "name": "stdout",
     "output_type": "stream",
     "text": [
      "Total number of people who have played \"Ophelia\" are: 115\n"
     ]
    }
   ],
   "source": [
    "ophelia_people = cast[cast['character'] == 'Ophelia']\n",
    "\n",
    "num_ophelia_people = ophelia_people['name'].nunique()\n",
    "\n",
    "print(f'Total number of people who have played \"Ophelia\" are: {num_ophelia_people}')"
   ]
  },
  {
   "cell_type": "markdown",
   "id": "b7c6248e",
   "metadata": {},
   "source": [
    "# 21. How many people have played a role called \"The Dude\"? "
   ]
  },
  {
   "cell_type": "code",
   "execution_count": 41,
   "id": "d1336f12",
   "metadata": {},
   "outputs": [
    {
     "name": "stdout",
     "output_type": "stream",
     "text": [
      "Total number of people who have played a role called \"The Dude\" are: 19\n"
     ]
    }
   ],
   "source": [
    "the_dude_people = cast[cast['character'] == 'The Dude']\n",
    "\n",
    "total_dude_people = the_dude_people['name'].nunique()\n",
    "\n",
    "print(f'Total number of people who have played a role called \"The Dude\" are: {total_dude_people}')"
   ]
  },
  {
   "cell_type": "markdown",
   "id": "fd0ef86f",
   "metadata": {},
   "source": [
    "# 22. How many people have played a role called \"The Stranger\"? "
   ]
  },
  {
   "cell_type": "code",
   "execution_count": 44,
   "id": "c81b55e5",
   "metadata": {},
   "outputs": [
    {
     "name": "stdout",
     "output_type": "stream",
     "text": [
      "Total number of actors who have played a role called \"The Stranger\" are: 202\n"
     ]
    }
   ],
   "source": [
    "stranger_role_actors = cast[cast['character'] == 'The Stranger']\n",
    "\n",
    "total_stranger_actors = stranger_role_actors['name'].nunique()\n",
    "\n",
    "print(f'Total number of actors who have played a role called \"The Stranger\" are: {total_stranger_actors}')"
   ]
  },
  {
   "cell_type": "markdown",
   "id": "ec06bc59",
   "metadata": {},
   "source": [
    "# 23. How many roles has Sidney Poitier played throughout his career? "
   ]
  },
  {
   "cell_type": "code",
   "execution_count": 46,
   "id": "25fad4f8",
   "metadata": {},
   "outputs": [
    {
     "name": "stdout",
     "output_type": "stream",
     "text": [
      "Total number of roles played by Sidney Poitier throughout his career are: 43\n"
     ]
    }
   ],
   "source": [
    "sidney_poitier_roles = cast[cast['name'] == 'Sidney Poitier']\n",
    "\n",
    "total_sidney_poitier_roles = len(sidney_poitier_roles)\n",
    "\n",
    "print(f'Total number of roles played by Sidney Poitier throughout his career are: {total_sidney_poitier_roles}')"
   ]
  },
  {
   "cell_type": "markdown",
   "id": "9dc70b15",
   "metadata": {},
   "source": [
    "# 24. How many roles has Judi Dench played? "
   ]
  },
  {
   "cell_type": "code",
   "execution_count": 48,
   "id": "9d0ebf2d",
   "metadata": {},
   "outputs": [
    {
     "name": "stdout",
     "output_type": "stream",
     "text": [
      "Total number of roles played by Judi Dench are: 55\n"
     ]
    }
   ],
   "source": [
    "judi_dench_roles = cast[cast['name'] == 'Judi Dench']\n",
    "\n",
    "total_judi_dench_roles = len(judi_dench_roles)\n",
    "\n",
    "print(f'Total number of roles played by Judi Dench are: {total_judi_dench_roles}')"
   ]
  },
  {
   "cell_type": "markdown",
   "id": "0bc5c798",
   "metadata": {},
   "source": [
    "# 25. List the supporting roles (having n=.2) played by Cary Grant in the 1940s. in order by year. "
   ]
  },
  {
   "cell_type": "code",
   "execution_count": 56,
   "id": "46064be9",
   "metadata": {},
   "outputs": [
    {
     "name": "stdout",
     "output_type": "stream",
     "text": [
      "Empty DataFrame\n",
      "Columns: [character, year]\n",
      "Index: []\n"
     ]
    }
   ],
   "source": [
    "cary_supp_roles = cast[(cast['name'] == 'Cary Grant') & (cast['n'] == 0.2) & (cast['year'].between(1940, 1949))]\n",
    "\n",
    "cary_supp_roles = cary_supp_roles.sort_values(by='year')\n",
    "\n",
    "print(cary_supp_roles[['character', 'year']])"
   ]
  },
  {
   "cell_type": "markdown",
   "id": "c7559214",
   "metadata": {},
   "source": [
    "# 26. List the leading roles that Cary Grant played in the 1940s in order by year."
   ]
  },
  {
   "cell_type": "code",
   "execution_count": 58,
   "id": "90d2e93e",
   "metadata": {},
   "outputs": [
    {
     "name": "stdout",
     "output_type": "stream",
     "text": [
      "        year                             character\n",
      "871448  1940                           Matt Howard\n",
      "871407  1940                          Walter Burns\n",
      "871450  1940                    C. K. Dexter Haven\n",
      "871438  1941                      Johnnie Aysgarth\n",
      "871452  1942                          Leopold Dilg\n",
      "871429  1942                 Patrick 'Pat' O'Toole\n",
      "871398  1943                         Capt. Cassidy\n",
      "871422  1943  Joe Adams -posing as Joe Bascopolous\n",
      "871430  1944                           Jerry Flynn\n",
      "871390  1944                     Mortimer Brewster\n",
      "871425  1944                            Ernie Mott\n",
      "871424  1946                           Cole Porter\n",
      "871427  1946                                Devlin\n",
      "871444  1947                           Dick Nugent\n",
      "871445  1947                                Dudley\n",
      "871421  1948                         Jim Blandings\n",
      "871402  1948                     Dr. Madison Brown\n",
      "871411  1949                 Captain Henri Rochard\n"
     ]
    }
   ],
   "source": [
    "cary_leading_roles = cast[(cast['name'] == 'Cary Grant') & (cast['n'] == 1.0) & (cast['year'].between(1940, 1949))]\n",
    "\n",
    "total_leading_roles = cary_leading_roles.sort_values(by='year')\n",
    "\n",
    "print(total_leading_roles[['year', 'character']])"
   ]
  },
  {
   "cell_type": "markdown",
   "id": "91a23612",
   "metadata": {},
   "source": [
    "# 27. How many roles were available for actors in the 1950s? "
   ]
  },
  {
   "cell_type": "code",
   "execution_count": 62,
   "id": "4efbd2a2",
   "metadata": {},
   "outputs": [
    {
     "name": "stdout",
     "output_type": "stream",
     "text": [
      "Total number of roles available for actors in the 1950s are: 215471\n"
     ]
    }
   ],
   "source": [
    "roles_in_1950s = cast[cast['year'].between(1950, 1959)]\n",
    "\n",
    "total_roles_in_1950s = len(roles_in_1950s)\n",
    "\n",
    "print(f'Total number of roles available for actors in the 1950s are: {total_roles_in_1950s}')"
   ]
  },
  {
   "cell_type": "markdown",
   "id": "5633346a",
   "metadata": {},
   "source": [
    "# 28. How many roles were available for actresses in the 1950s? "
   ]
  },
  {
   "cell_type": "code",
   "execution_count": 63,
   "id": "1f9f9b37",
   "metadata": {},
   "outputs": [
    {
     "name": "stdout",
     "output_type": "stream",
     "text": [
      "Total number of roles available for actresses in the 1950s are: 57733\n"
     ]
    }
   ],
   "source": [
    "actress_roles_in_1950s = cast[(cast['year'].between(1950, 1959)) & (cast['type'] == 'actress')]\n",
    "\n",
    "total_actress_roles_in_1950s = len(actress_roles_in_1950s)\n",
    "\n",
    "print(f'Total number of roles available for actresses in the 1950s are: {total_actress_roles_in_1950s}')"
   ]
  },
  {
   "cell_type": "markdown",
   "id": "569387fc",
   "metadata": {},
   "source": [
    "# 29. How many leading roles (n=1) were available from the beginning of film history through 1980? "
   ]
  },
  {
   "cell_type": "code",
   "execution_count": 68,
   "id": "f6674521",
   "metadata": {},
   "outputs": [
    {
     "name": "stdout",
     "output_type": "stream",
     "text": [
      "Total number of leading roles available through 1980 are: 65140\n"
     ]
    }
   ],
   "source": [
    "leading_roles_1980 = cast[(cast['n'] == 1.0) & (cast['year'] <= 1980)]\n",
    "\n",
    "total_leading_roles_1980 = len(leading_roles_1980)\n",
    "\n",
    "print(f'Total number of leading roles available through 1980 are: {total_leading_roles_1980}')"
   ]
  },
  {
   "cell_type": "markdown",
   "id": "365062af",
   "metadata": {},
   "source": [
    "# 30. How many non-leading roles were available through from the beginning of film history through 1980?  "
   ]
  },
  {
   "cell_type": "code",
   "execution_count": 67,
   "id": "e805664b",
   "metadata": {},
   "outputs": [
    {
     "name": "stdout",
     "output_type": "stream",
     "text": [
      "Total number of non-leading roles through 1980 are: 1117667\n"
     ]
    }
   ],
   "source": [
    "non_leading_roles_1980 = cast[(cast['n'] != 1.0) & (cast['year'] <= 1980)]\n",
    "\n",
    "total_non_leading_roles = len(non_leading_roles_1980)\n",
    "\n",
    "print(f'Total number of non-leading roles through 1980 are: {total_non_leading_roles}')"
   ]
  },
  {
   "cell_type": "markdown",
   "id": "77786838",
   "metadata": {},
   "source": [
    "# 31. How many roles through 1980 were minor enough that they did not warrant a numeric \"n\" rank?"
   ]
  },
  {
   "cell_type": "code",
   "execution_count": 70,
   "id": "b31ebd01",
   "metadata": {},
   "outputs": [
    {
     "name": "stdout",
     "output_type": "stream",
     "text": [
      "Total number of Minor roles through 1980 are: 448347\n"
     ]
    }
   ],
   "source": [
    "roles_minor = cast[(cast['n'].isna()) & (cast['year'] <= 1980)]\n",
    "\n",
    "total_minor_roles = len(roles_minor)\n",
    "\n",
    "print(f'Total number of Minor roles through 1980 are: {total_minor_roles}')"
   ]
  },
  {
   "cell_type": "code",
   "execution_count": null,
   "id": "caa255fc",
   "metadata": {},
   "outputs": [],
   "source": []
  }
 ],
 "metadata": {
  "kernelspec": {
   "display_name": "Python 3 (ipykernel)",
   "language": "python",
   "name": "python3"
  },
  "language_info": {
   "codemirror_mode": {
    "name": "ipython",
    "version": 3
   },
   "file_extension": ".py",
   "mimetype": "text/x-python",
   "name": "python",
   "nbconvert_exporter": "python",
   "pygments_lexer": "ipython3",
   "version": "3.11.4"
  }
 },
 "nbformat": 4,
 "nbformat_minor": 5
}
