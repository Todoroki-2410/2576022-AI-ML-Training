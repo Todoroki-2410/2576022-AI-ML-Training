{
 "cells": [
  {
   "cell_type": "markdown",
   "id": "b78541a0",
   "metadata": {},
   "source": [
    "# Day 10 - Exercise 3"
   ]
  },
  {
   "cell_type": "code",
   "execution_count": 7,
   "id": "b6031851",
   "metadata": {},
   "outputs": [
    {
     "name": "stdout",
     "output_type": "stream",
     "text": [
      "\n",
      "#---------- Titles Data-Set Glimpse ----------#\n"
     ]
    },
    {
     "data": {
      "text/html": [
       "<div>\n",
       "<style scoped>\n",
       "    .dataframe tbody tr th:only-of-type {\n",
       "        vertical-align: middle;\n",
       "    }\n",
       "\n",
       "    .dataframe tbody tr th {\n",
       "        vertical-align: top;\n",
       "    }\n",
       "\n",
       "    .dataframe thead th {\n",
       "        text-align: right;\n",
       "    }\n",
       "</style>\n",
       "<table border=\"1\" class=\"dataframe\">\n",
       "  <thead>\n",
       "    <tr style=\"text-align: right;\">\n",
       "      <th></th>\n",
       "      <th>title</th>\n",
       "      <th>year</th>\n",
       "    </tr>\n",
       "  </thead>\n",
       "  <tbody>\n",
       "    <tr>\n",
       "      <th>0</th>\n",
       "      <td>Tasveer Mere Sanam</td>\n",
       "      <td>1996</td>\n",
       "    </tr>\n",
       "    <tr>\n",
       "      <th>1</th>\n",
       "      <td>Only You</td>\n",
       "      <td>1994</td>\n",
       "    </tr>\n",
       "    <tr>\n",
       "      <th>2</th>\n",
       "      <td>El pueblo del terror</td>\n",
       "      <td>1970</td>\n",
       "    </tr>\n",
       "    <tr>\n",
       "      <th>3</th>\n",
       "      <td>Machine</td>\n",
       "      <td>2007</td>\n",
       "    </tr>\n",
       "    <tr>\n",
       "      <th>4</th>\n",
       "      <td>MARy</td>\n",
       "      <td>2008</td>\n",
       "    </tr>\n",
       "  </tbody>\n",
       "</table>\n",
       "</div>"
      ],
      "text/plain": [
       "                  title  year\n",
       "0    Tasveer Mere Sanam  1996\n",
       "1              Only You  1994\n",
       "2  El pueblo del terror  1970\n",
       "3               Machine  2007\n",
       "4                  MARy  2008"
      ]
     },
     "execution_count": 7,
     "metadata": {},
     "output_type": "execute_result"
    }
   ],
   "source": [
    "import pandas as pd\n",
    "\n",
    "import matplotlib.pyplot as plt\n",
    "\n",
    "\n",
    "#-------------------- Import <Titles> Data-Set --------------------#\n",
    "\n",
    "titles = pd.read_csv('titles.csv')\n",
    "\n",
    "print('\\n#---------- Titles Data-Set Glimpse ----------#')\n",
    "\n",
    "titles.head()"
   ]
  },
  {
   "cell_type": "code",
   "execution_count": 2,
   "id": "31154b14",
   "metadata": {},
   "outputs": [
    {
     "name": "stdout",
     "output_type": "stream",
     "text": [
      "\n",
      "#---------- Cast Data-Set Glimpse ----------#\n"
     ]
    },
    {
     "data": {
      "text/html": [
       "<div>\n",
       "<style scoped>\n",
       "    .dataframe tbody tr th:only-of-type {\n",
       "        vertical-align: middle;\n",
       "    }\n",
       "\n",
       "    .dataframe tbody tr th {\n",
       "        vertical-align: top;\n",
       "    }\n",
       "\n",
       "    .dataframe thead th {\n",
       "        text-align: right;\n",
       "    }\n",
       "</style>\n",
       "<table border=\"1\" class=\"dataframe\">\n",
       "  <thead>\n",
       "    <tr style=\"text-align: right;\">\n",
       "      <th></th>\n",
       "      <th>title</th>\n",
       "      <th>year</th>\n",
       "      <th>name</th>\n",
       "      <th>type</th>\n",
       "      <th>character</th>\n",
       "      <th>n</th>\n",
       "    </tr>\n",
       "  </thead>\n",
       "  <tbody>\n",
       "    <tr>\n",
       "      <th>0</th>\n",
       "      <td>Closet Monster</td>\n",
       "      <td>2015</td>\n",
       "      <td>Buffy #1</td>\n",
       "      <td>actor</td>\n",
       "      <td>Buffy 4</td>\n",
       "      <td>31.0</td>\n",
       "    </tr>\n",
       "    <tr>\n",
       "      <th>1</th>\n",
       "      <td>Suuri illusioni</td>\n",
       "      <td>1985</td>\n",
       "      <td>Homo $</td>\n",
       "      <td>actor</td>\n",
       "      <td>Guests</td>\n",
       "      <td>22.0</td>\n",
       "    </tr>\n",
       "    <tr>\n",
       "      <th>2</th>\n",
       "      <td>Battle of the Sexes</td>\n",
       "      <td>2017</td>\n",
       "      <td>$hutter</td>\n",
       "      <td>actor</td>\n",
       "      <td>Bobby Riggs Fan</td>\n",
       "      <td>10.0</td>\n",
       "    </tr>\n",
       "    <tr>\n",
       "      <th>3</th>\n",
       "      <td>Secret in Their Eyes</td>\n",
       "      <td>2015</td>\n",
       "      <td>$hutter</td>\n",
       "      <td>actor</td>\n",
       "      <td>2002 Dodger Fan</td>\n",
       "      <td>NaN</td>\n",
       "    </tr>\n",
       "    <tr>\n",
       "      <th>4</th>\n",
       "      <td>Steve Jobs</td>\n",
       "      <td>2015</td>\n",
       "      <td>$hutter</td>\n",
       "      <td>actor</td>\n",
       "      <td>1988 Opera House Patron</td>\n",
       "      <td>NaN</td>\n",
       "    </tr>\n",
       "    <tr>\n",
       "      <th>5</th>\n",
       "      <td>Straight Outta Compton</td>\n",
       "      <td>2015</td>\n",
       "      <td>$hutter</td>\n",
       "      <td>actor</td>\n",
       "      <td>Club Patron</td>\n",
       "      <td>NaN</td>\n",
       "    </tr>\n",
       "    <tr>\n",
       "      <th>6</th>\n",
       "      <td>Straight Outta Compton</td>\n",
       "      <td>2015</td>\n",
       "      <td>$hutter</td>\n",
       "      <td>actor</td>\n",
       "      <td>Dopeman</td>\n",
       "      <td>NaN</td>\n",
       "    </tr>\n",
       "    <tr>\n",
       "      <th>7</th>\n",
       "      <td>For Thy Love 2</td>\n",
       "      <td>2009</td>\n",
       "      <td>Bee Moe $lim</td>\n",
       "      <td>actor</td>\n",
       "      <td>Thug 1</td>\n",
       "      <td>NaN</td>\n",
       "    </tr>\n",
       "    <tr>\n",
       "      <th>8</th>\n",
       "      <td>Lapis, Ballpen at Diploma, a True to Life Journey</td>\n",
       "      <td>2014</td>\n",
       "      <td>Jori ' Danilo' Jurado Jr.</td>\n",
       "      <td>actor</td>\n",
       "      <td>Jaime (young)</td>\n",
       "      <td>9.0</td>\n",
       "    </tr>\n",
       "    <tr>\n",
       "      <th>9</th>\n",
       "      <td>Desire (III)</td>\n",
       "      <td>2014</td>\n",
       "      <td>Syaiful 'Ariffin</td>\n",
       "      <td>actor</td>\n",
       "      <td>Actor Playing Eteocles from 'Antigone'</td>\n",
       "      <td>NaN</td>\n",
       "    </tr>\n",
       "  </tbody>\n",
       "</table>\n",
       "</div>"
      ],
      "text/plain": [
       "                                               title  year  \\\n",
       "0                                     Closet Monster  2015   \n",
       "1                                    Suuri illusioni  1985   \n",
       "2                                Battle of the Sexes  2017   \n",
       "3                               Secret in Their Eyes  2015   \n",
       "4                                         Steve Jobs  2015   \n",
       "5                             Straight Outta Compton  2015   \n",
       "6                             Straight Outta Compton  2015   \n",
       "7                                     For Thy Love 2  2009   \n",
       "8  Lapis, Ballpen at Diploma, a True to Life Journey  2014   \n",
       "9                                       Desire (III)  2014   \n",
       "\n",
       "                        name   type                               character  \\\n",
       "0                   Buffy #1  actor                                 Buffy 4   \n",
       "1                     Homo $  actor                                  Guests   \n",
       "2                    $hutter  actor                         Bobby Riggs Fan   \n",
       "3                    $hutter  actor                         2002 Dodger Fan   \n",
       "4                    $hutter  actor                 1988 Opera House Patron   \n",
       "5                    $hutter  actor                             Club Patron   \n",
       "6                    $hutter  actor                                 Dopeman   \n",
       "7               Bee Moe $lim  actor                                  Thug 1   \n",
       "8  Jori ' Danilo' Jurado Jr.  actor                           Jaime (young)   \n",
       "9           Syaiful 'Ariffin  actor  Actor Playing Eteocles from 'Antigone'   \n",
       "\n",
       "      n  \n",
       "0  31.0  \n",
       "1  22.0  \n",
       "2  10.0  \n",
       "3   NaN  \n",
       "4   NaN  \n",
       "5   NaN  \n",
       "6   NaN  \n",
       "7   NaN  \n",
       "8   9.0  \n",
       "9   NaN  "
      ]
     },
     "execution_count": 2,
     "metadata": {},
     "output_type": "execute_result"
    }
   ],
   "source": [
    "#-------------------- Import <Cast> Data-Set --------------------#\n",
    "\n",
    "cast = pd.read_csv('cast.csv')\n",
    "\n",
    "print('\\n#---------- Cast Data-Set Glimpse ----------#')\n",
    "\n",
    "cast.head(10)"
   ]
  },
  {
   "cell_type": "markdown",
   "id": "c23c9b5b",
   "metadata": {},
   "source": [
    "# 1. Using groupby(), plot the number of films that have been released each decade in the history of cinema. "
   ]
  },
  {
   "cell_type": "code",
   "execution_count": 3,
   "id": "b56bc520",
   "metadata": {},
   "outputs": [],
   "source": [
    "cast['decade'] = (cast['year'] // 10) * 10\n",
    "\n",
    "films_decade = cast.groupby('decade')['title'].count()"
   ]
  },
  {
   "cell_type": "code",
   "execution_count": 9,
   "id": "b37390cc",
   "metadata": {},
   "outputs": [
    {
     "data": {
      "image/png": "[encoded data removed]",
      "text/plain": [
       "<Figure size 800x800 with 1 Axes>"
      ]
     },
     "metadata": {},
     "output_type": "display_data"
    }
   ],
   "source": [
    "plt.figure(figsize=(8, 8))\n",
    "\n",
    "films_decade.plot(kind='bar', color='orange')\n",
    "\n",
    "plt.title('Number of Films Released Each Decade in the History of Cinema')\n",
    "\n",
    "plt.xlabel('Decade')\n",
    "\n",
    "plt.ylabel('Number of Films')\n",
    "\n",
    "plt.show()"
   ]
  },
  {
   "cell_type": "markdown",
   "id": "11d4ceac",
   "metadata": {},
   "source": [
    "# 2. Use groupby() to plot the number of \"Hamlet\" films made each decade. "
   ]
  },
  {
   "cell_type": "code",
   "execution_count": 10,
   "id": "5cb66e11",
   "metadata": {},
   "outputs": [
    {
     "name": "stderr",
     "output_type": "stream",
     "text": [
      "C:\\Users\\ASUS\\AppData\\Local\\Temp\\ipykernel_16444\\3594648006.py:3: SettingWithCopyWarning: \n",
      "A value is trying to be set on a copy of a slice from a DataFrame.\n",
      "Try using .loc[row_indexer,col_indexer] = value instead\n",
      "\n",
      "See the caveats in the documentation: https://pandas.pydata.org/pandas-docs/stable/user_guide/indexing.html#returning-a-view-versus-a-copy\n",
      "  hamlet_films['decade'] = (hamlet_films['year'] // 10) * 10\n"
     ]
    }
   ],
   "source": [
    "hamlet_films = titles[titles['title'] == 'Hamlet']\n",
    "\n",
    "hamlet_films['decade'] = (hamlet_films['year'] // 10) * 10\n",
    "\n",
    "hamlet_decade = hamlet_films.groupby('decade')['title'].count()"
   ]
  },
  {
   "cell_type": "code",
   "execution_count": 13,
   "id": "3fb9ec0d",
   "metadata": {},
   "outputs": [
    {
     "data": {
      "image/png": "[encoded data removed]",
      "text/plain": [
       "<Figure size 800x600 with 1 Axes>"
      ]
     },
     "metadata": {},
     "output_type": "display_data"
    }
   ],
   "source": [
    "plt.figure(figsize=(8, 6))\n",
    "\n",
    "hamlet_decade.plot(kind='bar', color='gray')\n",
    "\n",
    "plt.title('Number of \"Hamlet\" Films Made Each Decade')\n",
    "\n",
    "plt.xlabel('Decade')\n",
    "\n",
    "plt.ylabel('Number of \"Hamlet\" Films')\n",
    "\n",
    "plt.show()"
   ]
  },
  {
   "cell_type": "markdown",
   "id": "8984317a",
   "metadata": {},
   "source": [
    "# 3. How many leading (n=1) roles were available to actors, and how many to actresses, in each year of the 1950s? "
   ]
  },
  {
   "cell_type": "code",
   "execution_count": 14,
   "id": "602b3a99",
   "metadata": {},
   "outputs": [],
   "source": [
    "leading_roles_1950s = cast[(cast['n'] == 1) & (cast['year'].between(1950, 1959))]\n",
    "\n",
    "#-------------------- Pivot Tables --------------------#\n",
    "\n",
    "leading_roles_by_1950s = leading_roles_1950s.pivot_table(index='year', \n",
    "                                                         columns='type', \n",
    "                                                         values='title', \n",
    "                                                         aggfunc='count', \n",
    "                                                         fill_value=0)"
   ]
  },
  {
   "cell_type": "code",
   "execution_count": 15,
   "id": "ef2cd466",
   "metadata": {},
   "outputs": [
    {
     "name": "stdout",
     "output_type": "stream",
     "text": [
      "\n",
      " No. of leading roles (n=1) available to actors and actresses in each year of the 1950s are:\n",
      "\n",
      "type  actor  actress\n",
      "year                \n",
      "1950    625      288\n",
      "1951    651      285\n",
      "1952    613      304\n",
      "1953    664      312\n",
      "1954    636      316\n",
      "1955    648      285\n",
      "1956    668      307\n",
      "1957    739      315\n",
      "1958    715      301\n",
      "1959    733      327\n"
     ]
    }
   ],
   "source": [
    "print(\"\\n No. of leading roles (n=1) available to actors and actresses in each year of the 1950s are:\\n\")\n",
    "\n",
    "print(leading_roles_by_1950s)"
   ]
  },
  {
   "cell_type": "markdown",
   "id": "3a18ea68",
   "metadata": {},
   "source": [
    "# 4. In the 1950s decade taken as a whole. how many total roles were available to actors, and how many to actresses, for each \"n\" number 1 through 5? "
   ]
  },
  {
   "cell_type": "code",
   "execution_count": 19,
   "id": "fd841f73",
   "metadata": {},
   "outputs": [],
   "source": [
    "roles_1950s = cast[(cast['n'].between(1, 5)) & (cast['year'].between(1950, 1959))]\n",
    "\n",
    "\n",
    "#-------------------- Pivot Tables --------------------#\n",
    "\n",
    "\n",
    "n_roles = roles_1950s.pivot_table(index='n', \n",
    "                                     columns='type', \n",
    "                                     values='title', \n",
    "                                     aggfunc='count', \n",
    "                                     fill_value=0)"
   ]
  },
  {
   "cell_type": "code",
   "execution_count": 20,
   "id": "6eb29e99",
   "metadata": {},
   "outputs": [
    {
     "name": "stdout",
     "output_type": "stream",
     "text": [
      "\n",
      " Total No. of roles available to actors and actresses in the 1950s are: \n",
      "\n",
      "type  actor  actress\n",
      "n                   \n",
      "1.0    6692     3040\n",
      "2.0    4640     4635\n",
      "3.0    5654     3201\n",
      "4.0    5663     2881\n",
      "5.0    5674     2592\n"
     ]
    }
   ],
   "source": [
    "print(\"\\n Total No. of roles available to actors and actresses in the 1950s are: \\n\")\n",
    "\n",
    "print(n_roles)"
   ]
  },
  {
   "cell_type": "markdown",
   "id": "14915562",
   "metadata": {},
   "source": [
    "# 5. Use groupby() to determine how many roles are listed for each of the Pink Panther movies. "
   ]
  },
  {
   "cell_type": "code",
   "execution_count": 25,
   "id": "3576dae4",
   "metadata": {},
   "outputs": [],
   "source": [
    "panther_roles = cast[cast['title'].str.contains('Pink Panther', case=False)]\n",
    "\n",
    "\n",
    "#-------------------- Group by Movie Title --------------------#\n",
    "\n",
    "\n",
    "total_roles_per_movie = panther_roles.groupby('title')['character'].count().reset_index()"
   ]
  },
  {
   "cell_type": "code",
   "execution_count": 26,
   "id": "5fca7da5",
   "metadata": {},
   "outputs": [
    {
     "name": "stdout",
     "output_type": "stream",
     "text": [
      "\n",
      " No. of roles listed for each 'Pink Panther' movie are: \n",
      "\n",
      "                            title  character\n",
      "0       Curse of the Pink Panther         67\n",
      "1     Revenge of the Pink Panther         68\n",
      "2         Son of the Pink Panther         46\n",
      "3                The Pink Panther        111\n",
      "4              The Pink Panther 2         84\n",
      "5  The Pink Panther Strikes Again         70\n",
      "6  The Return of the Pink Panther         30\n",
      "7       Trail of the Pink Panther         41\n"
     ]
    }
   ],
   "source": [
    "print(\"\\n No. of roles listed for each 'Pink Panther' movie are: \\n\")\n",
    "\n",
    "print(total_roles_per_movie)"
   ]
  },
  {
   "cell_type": "markdown",
   "id": "99a4dcef",
   "metadata": {},
   "source": [
    "# 6. List. in order by year, each of the films in which Frank Oz has played more than 1 role. "
   ]
  },
  {
   "cell_type": "code",
   "execution_count": 27,
   "id": "7f90019a",
   "metadata": {},
   "outputs": [],
   "source": [
    "frank_roles = cast[cast['name'] == 'Frank Oz']\n",
    "\n",
    "\n",
    "#-------------------- Group by Movie Title --------------------#\n",
    "\n",
    "\n",
    "roles_per_movie = frank_roles.groupby(['title', 'year'])['character'].count().reset_index()\n",
    "\n",
    "\n",
    "#-------------------- Character Played More Than 1 --------------------#\n",
    "\n",
    "\n",
    "movies_with_multiple_roles = roles_per_movie[roles_per_movie['character'] > 1]"
   ]
  },
  {
   "cell_type": "code",
   "execution_count": 32,
   "id": "c2fd8f7c",
   "metadata": {},
   "outputs": [
    {
     "name": "stdout",
     "output_type": "stream",
     "text": [
      "\n",
      " Total Films in which 'Frank Oz' has played more than one role are: \n",
      "\n",
      "                                   title  year  character\n",
      "0         An American Werewolf in London  1981          2\n",
      "2                       Follow That Bird  1985          3\n",
      "7                 Muppet Treasure Island  1996          4\n",
      "8                     Muppets from Space  1999          4\n",
      "18  The Adventures of Elmo in Grouchland  1999          3\n",
      "20                      The Dark Crystal  1982          2\n",
      "22                The Great Muppet Caper  1981          6\n",
      "23            The Muppet Christmas Carol  1992          7\n",
      "24                      The Muppet Movie  1979          8\n",
      "25            The Muppets Take Manhattan  1984          7\n"
     ]
    }
   ],
   "source": [
    "print(\"\\n Total Films in which 'Frank Oz' has played more than one role are: \\n\")\n",
    "\n",
    "print(movies_with_multiple_roles)"
   ]
  },
  {
   "cell_type": "markdown",
   "id": "1fe332bf",
   "metadata": {},
   "source": [
    "# 7. List each of the characters that Frank Oz has portrayed at least twice. "
   ]
  },
  {
   "cell_type": "code",
   "execution_count": 30,
   "id": "db0b778e",
   "metadata": {},
   "outputs": [],
   "source": [
    "frank_role = cast[cast['name'] == 'Frank Oz']\n",
    "\n",
    "\n",
    "#-------------------- Group by Movie Title --------------------#\n",
    "\n",
    "\n",
    "character_counts = frank_role['character'].value_counts()\n",
    "\n",
    "\n",
    "#-------------------- Character Played More Than 1 --------------------#\n",
    "\n",
    "\n",
    "played_twice = character_counts[character_counts >= 2]"
   ]
  },
  {
   "cell_type": "code",
   "execution_count": 33,
   "id": "28c1cc51",
   "metadata": {},
   "outputs": [
    {
     "name": "stdout",
     "output_type": "stream",
     "text": [
      "\n",
      " Total Characters portrayed by 'Frank Oz' at least twice are: \n",
      "\n",
      "Miss Piggy        6\n",
      "Yoda              6\n",
      "Animal            6\n",
      "Cookie Monster    5\n",
      "Sam the Eagle     5\n",
      "Fozzie Bear       4\n",
      "Bert              3\n",
      "Grover            2\n",
      "Name: character, dtype: int64\n"
     ]
    }
   ],
   "source": [
    "print(\"\\n Total Characters portrayed by 'Frank Oz' at least twice are: \\n\")\n",
    "\n",
    "print(played_twice)"
   ]
  }
 ],
 "metadata": {
  "kernelspec": {
   "display_name": "Python 3 (ipykernel)",
   "language": "python",
   "name": "python3"
  },
  "language_info": {
   "codemirror_mode": {
    "name": "ipython",
    "version": 3
   },
   "file_extension": ".py",
   "mimetype": "text/x-python",
   "name": "python",
   "nbconvert_exporter": "python",
   "pygments_lexer": "ipython3",
   "version": "3.11.4"
  }
 },
 "nbformat": 4,
 "nbformat_minor": 5
}
