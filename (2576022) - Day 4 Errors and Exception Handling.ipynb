{
 "cells": [
  {
   "cell_type": "markdown",
   "id": "cdc7544c",
   "metadata": {},
   "source": [
    "# Exceptions and Command-Line Arguments"
   ]
  },
  {
   "cell_type": "markdown",
   "id": "c933b106",
   "metadata": {},
   "source": [
    "# 1. Write a python program with Exception handling to input marks for five subjects \n",
    "Physics, Chemistry, Biology, Mathematics, and Computer. \n",
    "Calculate the percentage and grade according to the following: \n",
    "i) Percentage >= 90%: Grade A \n",
    "ii) Percentage >= 80%: Grade B \n",
    "iii) Percentage >= 70%: Grade C \n",
    "iv) Percentage >= 60%: Grade D \n",
    "v) Percentage >= 40%: Grade E \n",
    "vi) Percentage < 40%: Grade F \n"
   ]
  },
  {
   "cell_type": "code",
   "execution_count": 2,
   "id": "f614de1a",
   "metadata": {},
   "outputs": [
    {
     "name": "stdout",
     "output_type": "stream",
     "text": [
      "Enter Physics marks: 80\n",
      "Enter Chemistry marks: 85\n",
      "Enter Biology marks: 90\n",
      "Enter Mathematics marks: 88\n",
      "Enter Computer marks: 90\n",
      "Scored Percentage is: 86.60%\n",
      "Scored Grade is: B\n"
     ]
    }
   ],
   "source": [
    "#1\n",
    "\n",
    "try:\n",
    "    \n",
    "    physics_marks = float(input(\"Enter Physics marks: \"))\n",
    "    \n",
    "    chemistry_marks = float(input(\"Enter Chemistry marks: \"))\n",
    "    \n",
    "    biology_marks = float(input(\"Enter Biology marks: \"))\n",
    "    \n",
    "    mathematics_marks = float(input(\"Enter Mathematics marks: \"))\n",
    "    \n",
    "    computer_marks = float(input(\"Enter Computer marks: \"))\n",
    "    \n",
    "except ValueError:\n",
    "    \n",
    "    print(\"Invalid input. Please enter a number.\")\n",
    "    \n",
    "    exit()\n",
    "\n",
    "total_marks = physics_marks + chemistry_marks + biology_marks + mathematics_marks + computer_marks\n",
    "\n",
    "total_percentage = (total_marks / 500) * 100\n",
    "\n",
    "if total_percentage >= 90:\n",
    "    \n",
    "    grade = \"A\"\n",
    "    \n",
    "elif total_percentage >= 80:\n",
    "    \n",
    "    grade = \"B\"\n",
    "    \n",
    "elif total_percentage >= 70:\n",
    "    \n",
    "    grade = \"C\"\n",
    "    \n",
    "elif total_percentage >= 60:\n",
    "    \n",
    "    grade = \"D\"\n",
    "    \n",
    "elif total_percentage >= 40:\n",
    "    \n",
    "    grade = \"E\"\n",
    "    \n",
    "else:\n",
    "    \n",
    "    grade = \"F\"\n",
    "\n",
    "print(\"Scored Percentage is: {:.2f}%\".format(total_percentage))\n",
    "\n",
    "print(\"Scored Grade is: {}\".format(grade))"
   ]
  },
  {
   "cell_type": "markdown",
   "id": "42e81dde",
   "metadata": {},
   "source": [
    "# 2. Write a python program with Exception handling to input electricity unit charges and calculate the total electricity bill according to the given condition: \n",
    "i) For the first 50 units Rs. 0.50/unit \n",
    "ii) For the next 100 units Rs. 0.75/unit \n",
    "iii) For the next 100 units Rs. 1.20/unit \n",
    "iv) For units above 250 Rs. 1.50/unit \n",
    "v) An additional surcharge of 20% is added to the bill. \n"
   ]
  },
  {
   "cell_type": "code",
   "execution_count": 3,
   "id": "e185fc9e",
   "metadata": {},
   "outputs": [
    {
     "name": "stdout",
     "output_type": "stream",
     "text": [
      "Enter the electricity unit charges: 420\n",
      "Total Electricity Bill is Rs. 570.00\n"
     ]
    }
   ],
   "source": [
    "#2\n",
    "\n",
    "try:\n",
    "    \n",
    "    units = float(input(\"Enter the electricity unit charges: \"))\n",
    "\n",
    "    total_bill = 0.0\n",
    "    \n",
    "    additional_surcharge_rate = 0.20 \n",
    "\n",
    "    if units <= 50:\n",
    "        \n",
    "        total_bill = units * 0.50\n",
    "        \n",
    "    elif units <= 150:\n",
    "        \n",
    "        total_bill = (50 * 0.50) + ((units - 50) * 0.75)\n",
    "        \n",
    "    elif units <= 250:\n",
    "        \n",
    "        total_bill = (50 * 0.50) + (100 * 0.75) + ((units - 150) * 1.20)\n",
    "        \n",
    "    else:\n",
    "        \n",
    "        total_bill = (50 * 0.50) + (100 * 0.75) + (100 * 1.20) + ((units - 250) * 1.50)\n",
    "\n",
    "    total_surcharge = total_bill * additional_surcharge_rate\n",
    "\n",
    "    # Add the surcharge to the total bill\n",
    "    total_bill += total_surcharge\n",
    "\n",
    "    # Display the total electricity bill\n",
    "    print(f\"Total Electricity Bill is Rs. {total_bill:.2f}\")\n",
    "\n",
    "except ValueError:\n",
    "    \n",
    "    print(\"Enter valid input for Units please.\")"
   ]
  },
  {
   "cell_type": "markdown",
   "id": "e531b635",
   "metadata": {},
   "source": [
    "# 3. Write a python program with exception handling to input the week number and print the week day."
   ]
  },
  {
   "cell_type": "code",
   "execution_count": 4,
   "id": "bf065850",
   "metadata": {},
   "outputs": [
    {
     "name": "stdout",
     "output_type": "stream",
     "text": [
      "Choose a Week Number between (1-7): 7\n",
      "The Day is: Sunday\n"
     ]
    }
   ],
   "source": [
    "#3\n",
    "\n",
    "days_in_week = [\"Monday\", \"Tuesday\", \"Wednesday\", \"Thursday\", \"Friday\", \"Saturday\", \"Sunday\"]\n",
    "\n",
    "while True:\n",
    "    \n",
    "    try:\n",
    "        \n",
    "        week_no = int(input(\"Choose a Week Number between (1-7): \"))\n",
    "        \n",
    "        if 1 <= week_no <= 7:\n",
    "            \n",
    "            print(f\"The Day is: {days_in_week[week_no - 1]}\")\n",
    "\n",
    "            break\n",
    "            \n",
    "        else:\n",
    "            \n",
    "            print(\"Invalid week number. Please enter a number between 1 and 7.\")\n",
    "            \n",
    "    except ValueError:\n",
    "        \n",
    "        print(\"Invalid input. Please enter a number.\")\n"
   ]
  },
  {
   "cell_type": "markdown",
   "id": "440662fb",
   "metadata": {},
   "source": [
    "# 4. Write a Python program to implement word count using command line arguments. \n",
    "\n",
    "i) Create a text document \"apple.txt\"- which contains text for wordcount. \n",
    "ii) Create a wordcount program which calls the \"apple.txt document by opening the file. \n",
    "iii) If the word is present again in the \"apple.txt\"- the wordcount is incremented by 1 until all the words are counted in the document.\n",
    "iv) Close the file. \n",
    "v) Create a \"command.py\" program which imports the wordcount.py program. \n",
    "vi) Count the number of words using command line arguments. \n",
    "vii) Print each word and its count. \n"
   ]
  },
  {
   "cell_type": "code",
   "execution_count": null,
   "id": "7b4b18f1",
   "metadata": {},
   "outputs": [],
   "source": [
    "#4\n",
    "\n",
    "import os\n",
    "os.getcwd()\n",
    "file_name= open('command.py', 'r')\n",
    "\n",
    "def word_count(file_name):\n",
    "    try:\n",
    "        with open(file_name, 'r') as file:\n",
    "            words = file.read().split()\n",
    "            word_count = {}\n",
    "            for word in words:\n",
    "                if word in word_count:\n",
    "                    word_count[word] += 1\n",
    "                else:\n",
    "                    word_count[word] = 1\n",
    "        return word_count\n",
    "    except FileNotFoundError:\n",
    "        print(\"File not found.\")\n",
    "\n",
    "    \n",
    "from wordcount import word_count\n",
    "\n",
    "if __name__ == '__main__':\n",
    "    \n",
    "    import sys\n",
    "    \n",
    "    file_name = sys.argv[1]\n",
    "    \n",
    "    word_count_dict = word_count(file_name)\n",
    "    \n",
    "    for word, count in word_count_dict.items():\n",
    "        \n",
    "        print(word, count)\n",
    "        \n"
   ]
  },
  {
   "cell_type": "markdown",
   "id": "20307940",
   "metadata": {},
   "source": [
    "# 5. Write a Python program for finding the most frequent words in a text read from a file. \n",
    "i) Initially open the text file in read mode. \n",
    "ii) Make all the letters in the document into lowercase letters and split the words in each line. \n",
    "iii) Get the words in an order. \n",
    "iv) Sort the words for finding the most frequent words in the file.\n",
    "v) Print the most frequent words in the file.\n"
   ]
  },
  {
   "cell_type": "code",
   "execution_count": 11,
   "id": "ca6ac0ec",
   "metadata": {},
   "outputs": [
    {
     "name": "stdout",
     "output_type": "stream",
     "text": [
      "\n",
      "Enter how frequent number of words you want? (1-10):5\n",
      "\n",
      "The 5 most frequent words are:\n",
      "\n",
      "hello: 1\n",
      "world: 1\n",
      "openai: 1\n",
      "computer: 1\n",
      "data: 1\n"
     ]
    }
   ],
   "source": [
    "#5\n",
    "\n",
    "try:\n",
    "    # Step 1: Open the text file in read mode\n",
    "    \n",
    "    with open('testexample.txt', 'r') as file:\n",
    "        \n",
    "    # Step 2: Read the content, make it lowercase, and split into words\n",
    "        \n",
    "        content = file.read().lower().split()\n",
    "\n",
    "    # Step 3: Get the words in order\n",
    "    \n",
    "    word_count = {}\n",
    "    \n",
    "    for word in content:\n",
    "        \n",
    "        if word in word_count:\n",
    "            \n",
    "            word_count[word] += 1\n",
    "            \n",
    "        else:\n",
    "            \n",
    "            word_count[word] = 1\n",
    "\n",
    "    # Step 4: ASCENDING ORDER SORTING\n",
    "    \n",
    "    # Least Appearing Words\n",
    "    \n",
    "    sorted_words = sorted(word_count.items(), key=lambda x: x[1], reverse=False)\n",
    "\n",
    "\n",
    "    # Step 5: Print the most frequent words\n",
    "    \n",
    "    num_most_frequent = int(input(\"\\nEnter how frequent number of words you want? (1-10):\"))\n",
    "    \n",
    "    print(f\"\\nThe {num_most_frequent} most frequent words are:\\n\")\n",
    "    \n",
    "    \n",
    "    for word, count in sorted_words[:num_most_frequent]:\n",
    "        \n",
    "        print(f\"{word}: {count}\")\n",
    "\n",
    "except FileNotFoundError:\n",
    "    \n",
    "    print(\"Error: The specified file was not found.\")\n",
    "    \n",
    "except Exception as e:\n",
    "    \n",
    "    print(f\"An error occurred: {e}\")\n"
   ]
  }
 ],
 "metadata": {
  "kernelspec": {
   "display_name": "Python 3 (ipykernel)",
   "language": "python",
   "name": "python3"
  },
  "language_info": {
   "codemirror_mode": {
    "name": "ipython",
    "version": 3
   },
   "file_extension": ".py",
   "mimetype": "text/x-python",
   "name": "python",
   "nbconvert_exporter": "python",
   "pygments_lexer": "ipython3",
   "version": "3.11.4"
  }
 },
 "nbformat": 4,
 "nbformat_minor": 5
}
