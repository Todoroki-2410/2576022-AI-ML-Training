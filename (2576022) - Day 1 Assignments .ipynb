{
 "cells": [
  {
   "cell_type": "markdown",
   "id": "2172e15d",
   "metadata": {},
   "source": [
    "# Language Fundamentals:"
   ]
  },
  {
   "cell_type": "markdown",
   "id": "68742c1c",
   "metadata": {},
   "source": [
    "# 1. Manipulate using a list."
   ]
  },
  {
   "cell_type": "code",
   "execution_count": 12,
   "id": "34048de9",
   "metadata": {},
   "outputs": [
    {
     "name": "stdout",
     "output_type": "stream",
     "text": [
      "[10, 20, 30, 40]\n"
     ]
    }
   ],
   "source": [
    "#1(i) \n",
    "\n",
    "list1 = [10, 20, 30]\n",
    "\n",
    "element = 40    \n",
    "\n",
    "list1.append(element)\n",
    "\n",
    "print(list1)"
   ]
  },
  {
   "cell_type": "code",
   "execution_count": 20,
   "id": "852729a0",
   "metadata": {},
   "outputs": [
    {
     "name": "stdout",
     "output_type": "stream",
     "text": [
      "[5, 4, 3, 2, 1]\n"
     ]
    }
   ],
   "source": [
    "#1(ii)\n",
    "\n",
    "list2 = [1, 2, 3, 4, 5]\n",
    "\n",
    "list2.reverse()\n",
    "\n",
    "print(list2)"
   ]
  },
  {
   "cell_type": "code",
   "execution_count": 14,
   "id": "4643d2ce",
   "metadata": {},
   "outputs": [
    {
     "data": {
      "text/plain": [
       "[5, 4, 3, 2, 1, 5, 4, 3, 2, 1, 5, 4, 3, 2, 1]"
      ]
     },
     "execution_count": 14,
     "metadata": {},
     "output_type": "execute_result"
    }
   ],
   "source": [
    "#1(iii)\n",
    "\n",
    "list2*3"
   ]
  },
  {
   "cell_type": "code",
   "execution_count": 17,
   "id": "dff787ec",
   "metadata": {},
   "outputs": [
    {
     "name": "stdout",
     "output_type": "stream",
     "text": [
      "[10, 20, 30, 40, 5, 4, 3, 2, 1]\n"
     ]
    }
   ],
   "source": [
    "#1(iv)\n",
    "\n",
    "print(list1 + list2)"
   ]
  },
  {
   "cell_type": "code",
   "execution_count": 27,
   "id": "b2819226",
   "metadata": {},
   "outputs": [
    {
     "name": "stdout",
     "output_type": "stream",
     "text": [
      "[5, 8, 9, 11, 15, 21]\n"
     ]
    }
   ],
   "source": [
    "#1(v)\n",
    "\n",
    "list3 = [9, 5, 11, 8, 21, 15]\n",
    "\n",
    "list3.sort()\n",
    "\n",
    "print(list3)"
   ]
  },
  {
   "cell_type": "markdown",
   "id": "d41b3984",
   "metadata": {},
   "source": [
    "# 2. Write a Python program to do in the tuples(Manipulate using tuple)."
   ]
  },
  {
   "cell_type": "code",
   "execution_count": 29,
   "id": "b7ef216f",
   "metadata": {},
   "outputs": [
    {
     "name": "stdout",
     "output_type": "stream",
     "text": [
      "(10, 20, 30, 40, 50, 60, 70, 80, 90, 100)\n"
     ]
    }
   ],
   "source": [
    "#2(ii)\n",
    "\n",
    "tuple1 = (10, 20, 30)\n",
    "\n",
    "new_tuple = tuple1 + (40, 50, 60, 70, 80, 90, 100)\n",
    "\n",
    "print(new_tuple)"
   ]
  },
  {
   "cell_type": "code",
   "execution_count": 30,
   "id": "4c4e7230",
   "metadata": {},
   "outputs": [
    {
     "name": "stdout",
     "output_type": "stream",
     "text": [
      "(50, 40, 30, 20, 10)\n"
     ]
    }
   ],
   "source": [
    "#2(iii)\n",
    "\n",
    "tuple2 = (10, 20, 30, 40, 50)\n",
    "\n",
    "tuple_reversed = tuple2[::-1]\n",
    "\n",
    "print(tuple_reversed)"
   ]
  },
  {
   "cell_type": "code",
   "execution_count": 33,
   "id": "c35a7798",
   "metadata": {},
   "outputs": [
    {
     "name": "stdout",
     "output_type": "stream",
     "text": [
      "('T', 'U', 'P', 'L', 'E', 'S', 'T', 'U', 'P', 'L', 'E', 'S')\n"
     ]
    }
   ],
   "source": [
    "#2(iv)\n",
    "\n",
    "tuple3 = ('T', 'U', 'P', 'L', 'E', 'S')\n",
    "\n",
    "tuple_repeated = tuple3 * 2\n",
    "\n",
    "print(tuple_repeated)"
   ]
  },
  {
   "cell_type": "code",
   "execution_count": 34,
   "id": "7eefab0e",
   "metadata": {},
   "outputs": [
    {
     "name": "stdout",
     "output_type": "stream",
     "text": [
      "('C', 'O', 'N', 'C', 'A', 'T')\n"
     ]
    }
   ],
   "source": [
    "#2(v)\n",
    "\n",
    "tuple4 = ('C', 'O', 'N')\n",
    "\n",
    "tuple5 = ('C', 'A', 'T')\n",
    "\n",
    "tuple_concat = tuple4 + tuple5\n",
    "\n",
    "print(tuple_concat)"
   ]
  },
  {
   "cell_type": "code",
   "execution_count": 38,
   "id": "6cf9818c",
   "metadata": {},
   "outputs": [
    {
     "name": "stdout",
     "output_type": "stream",
     "text": [
      "[5, 8, 10, 20, 40]\n"
     ]
    }
   ],
   "source": [
    "#2(vi)\n",
    "\n",
    "tuple_unsorted = (5, 10, 8, 40, 20)\n",
    "\n",
    "tuple_sorted = sorted(tuple_unsorted)\n",
    "\n",
    "print(tuple_sorted)"
   ]
  },
  {
   "cell_type": "markdown",
   "id": "9567e9c4",
   "metadata": {},
   "source": [
    "# 3. Write a python program to implement the following using list:"
   ]
  },
  {
   "cell_type": "code",
   "execution_count": 39,
   "id": "9dfdb47e",
   "metadata": {},
   "outputs": [],
   "source": [
    "#3(i)\n",
    "\n",
    "list_int = [10, 20, 30, 40, 50, 60, 70, 80, 90, 100]"
   ]
  },
  {
   "cell_type": "code",
   "execution_count": 40,
   "id": "23b2a64a",
   "metadata": {},
   "outputs": [
    {
     "name": "stdout",
     "output_type": "stream",
     "text": [
      "100\n"
     ]
    }
   ],
   "source": [
    "#3(ii)\n",
    "\n",
    "print(list_int[-1])"
   ]
  },
  {
   "cell_type": "code",
   "execution_count": 41,
   "id": "83bf2599",
   "metadata": {},
   "outputs": [
    {
     "name": "stdout",
     "output_type": "stream",
     "text": [
      "[10, 20, 30, 40]\n"
     ]
    }
   ],
   "source": [
    "#3(iii)\n",
    "\n",
    "print(list_int[0:4])"
   ]
  },
  {
   "cell_type": "code",
   "execution_count": 42,
   "id": "3bfb7da1",
   "metadata": {},
   "outputs": [
    {
     "name": "stdout",
     "output_type": "stream",
     "text": [
      "[30, 40, 50, 60, 70, 80, 90, 100]\n"
     ]
    }
   ],
   "source": [
    "#3(iv)\n",
    "\n",
    "print(list_int[2:])"
   ]
  },
  {
   "cell_type": "code",
   "execution_count": 43,
   "id": "b44245c3",
   "metadata": {},
   "outputs": [
    {
     "name": "stdout",
     "output_type": "stream",
     "text": [
      "[10, 20, 30, 40, 50, 60]\n"
     ]
    }
   ],
   "source": [
    "#3(v)\n",
    "\n",
    "print(list_int[:6])"
   ]
  },
  {
   "cell_type": "markdown",
   "id": "c6c6ba00",
   "metadata": {},
   "source": [
    "# 4. Write a python program: tuple1 = (10, 50, 20, 40, 30)"
   ]
  },
  {
   "cell_type": "code",
   "execution_count": 45,
   "id": "c9638ee5",
   "metadata": {},
   "outputs": [
    {
     "name": "stdout",
     "output_type": "stream",
     "text": [
      "(10, 50)\n"
     ]
    }
   ],
   "source": [
    "#4(i)\n",
    "\n",
    "tuple1 = (10, 50, 20, 40, 30)\n",
    "\n",
    "print(tuple1[:2])"
   ]
  },
  {
   "cell_type": "code",
   "execution_count": 47,
   "id": "0dd1bf4b",
   "metadata": {},
   "outputs": [
    {
     "name": "stdout",
     "output_type": "stream",
     "text": [
      "5\n"
     ]
    }
   ],
   "source": [
    "#4(ii)\n",
    "\n",
    "tuple1_length = len(tuple1)\n",
    "\n",
    "print(tuple1_length)"
   ]
  },
  {
   "cell_type": "code",
   "execution_count": 48,
   "id": "ef3fa998",
   "metadata": {},
   "outputs": [
    {
     "name": "stdout",
     "output_type": "stream",
     "text": [
      "10\n"
     ]
    }
   ],
   "source": [
    "#4(iii)\n",
    "\n",
    "min_tuple1 = min(tuple1)\n",
    "\n",
    "print(min_tuple1)"
   ]
  },
  {
   "cell_type": "code",
   "execution_count": 49,
   "id": "0595c1f3",
   "metadata": {},
   "outputs": [
    {
     "name": "stdout",
     "output_type": "stream",
     "text": [
      "150\n"
     ]
    }
   ],
   "source": [
    "#4(iv)\n",
    "\n",
    "sum_tuple1 = sum(tuple1)\n",
    "\n",
    "print(sum_tuple1)"
   ]
  },
  {
   "cell_type": "code",
   "execution_count": 50,
   "id": "38d6a154",
   "metadata": {},
   "outputs": [
    {
     "name": "stdout",
     "output_type": "stream",
     "text": [
      "(10, 50, 20, 40, 30, 10, 50, 20, 40, 30)\n"
     ]
    }
   ],
   "source": [
    "#4(v)\n",
    "\n",
    "repeated_tuple1 = tuple1 * 2\n",
    "\n",
    "print(repeated_tuple1)"
   ]
  },
  {
   "cell_type": "markdown",
   "id": "2a8cc02d",
   "metadata": {},
   "source": [
    "# 5. Write a Python Program:"
   ]
  },
  {
   "cell_type": "code",
   "execution_count": 2,
   "id": "d751a6f1",
   "metadata": {},
   "outputs": [
    {
     "name": "stdout",
     "output_type": "stream",
     "text": [
      "Enter a String: Python Fundamentals\n",
      "The length of Python Fundamentals is 19\n"
     ]
    }
   ],
   "source": [
    "#5(i)\n",
    "\n",
    "string1 = input('Enter a String: ')\n",
    "\n",
    "length_string1 = len(string1)\n",
    "\n",
    "print(f'The length of {string1} is', length_string1)"
   ]
  },
  {
   "cell_type": "code",
   "execution_count": 3,
   "id": "5b1b0e8a",
   "metadata": {},
   "outputs": [
    {
     "name": "stdout",
     "output_type": "stream",
     "text": [
      "slatnemadnuF nohtyP\n"
     ]
    }
   ],
   "source": [
    "#5(ii)\n",
    "\n",
    "string_reversed = string1[::-1]\n",
    "\n",
    "print(string_reversed)"
   ]
  },
  {
   "cell_type": "code",
   "execution_count": 5,
   "id": "2e7bb672",
   "metadata": {},
   "outputs": [
    {
     "name": "stdout",
     "output_type": "stream",
     "text": [
      "Python FundamentalsPython FundamentalsPython FundamentalsPython Fundamentals\n"
     ]
    }
   ],
   "source": [
    "#5(iii)\n",
    "\n",
    "repeated_string1 = string1 * 4\n",
    "\n",
    "print(repeated_string1)"
   ]
  },
  {
   "cell_type": "code",
   "execution_count": 18,
   "id": "8691b210",
   "metadata": {},
   "outputs": [
    {
     "name": "stdout",
     "output_type": "stream",
     "text": [
      "Hello, Python!\n"
     ]
    }
   ],
   "source": [
    "#5(iv)\n",
    "\n",
    "firstString = \"Hello, \"\n",
    "\n",
    "secondString1 = \"Python!\"\n",
    "\n",
    "new_StringFormed = firstString + secondString1\n",
    "\n",
    "print(new_StringFormed)\n"
   ]
  },
  {
   "cell_type": "code",
   "execution_count": 19,
   "id": "6a1e5741",
   "metadata": {},
   "outputs": [
    {
     "name": "stdout",
     "output_type": "stream",
     "text": [
      " India\n"
     ]
    }
   ],
   "source": [
    "#5(v)\n",
    "\n",
    "userStr1 = \"South India\"\n",
    "\n",
    "strSliced = userStr1[5:]\n",
    "\n",
    "print(strSliced)"
   ]
  },
  {
   "cell_type": "markdown",
   "id": "97f5da56",
   "metadata": {},
   "source": [
    "# 6. Perform the following"
   ]
  },
  {
   "cell_type": "code",
   "execution_count": 20,
   "id": "0db0d6b9",
   "metadata": {},
   "outputs": [
    {
     "name": "stdout",
     "output_type": "stream",
     "text": [
      "{'Name': 'Python', 'Feature': 'Can be used in analysis and data-science field', 'Founded': 1991}\n"
     ]
    }
   ],
   "source": [
    "#6(i)\n",
    "\n",
    "dict1 = {\"Name\": \"Python\", \"Feature\": \"Can be used in analysis and data-science field\", \"Founded\": 1991}\n",
    "\n",
    "print(dict1)"
   ]
  },
  {
   "cell_type": "code",
   "execution_count": 25,
   "id": "14282c54",
   "metadata": {},
   "outputs": [
    {
     "name": "stdout",
     "output_type": "stream",
     "text": [
      "Python\n",
      "Can be used in analysis and data-science field\n",
      "1991\n"
     ]
    }
   ],
   "source": [
    "#6(ii)\n",
    "\n",
    "dict1Name = dict1[\"Name\"]\n",
    "\n",
    "print(dict1Name)\n",
    "\n",
    "dict1Feature = dict1[\"Feature\"]\n",
    "\n",
    "print(dict1Feature)\n",
    "\n",
    "dict1Founded = dict1[\"Founded\"]\n",
    "\n",
    "print(dict1Founded)"
   ]
  },
  {
   "cell_type": "code",
   "execution_count": 42,
   "id": "1c0201f6",
   "metadata": {},
   "outputs": [
    {
     "name": "stdout",
     "output_type": "stream",
     "text": [
      "{'name': 'User1', 'prgLang': 'Python', 'Exp': 1, 'organization': 'Mphasis'}\n"
     ]
    }
   ],
   "source": [
    "#6(iii)\n",
    "\n",
    "def updatedDict(user_dict, key, value):\n",
    "    \n",
    "    user_dict[key] = value\n",
    "\n",
    "user_dict = {\n",
    "    \n",
    "    \"name\": \"User1\",\n",
    "    \n",
    "    \"prgLang\": \"Python\",\n",
    "    \n",
    "    \"Exp\": 1\n",
    "}\n",
    "\n",
    "\n",
    "updatedDict(user_dict, \"organization\", \"Mphasis\")\n",
    "\n",
    "print(user_dict)\n"
   ]
  },
  {
   "cell_type": "code",
   "execution_count": 44,
   "id": "c14b7622",
   "metadata": {},
   "outputs": [
    {
     "name": "stdout",
     "output_type": "stream",
     "text": [
      "Modified Dictionary {'name': 'User1', 'organization': 'Mphasis'}\n"
     ]
    }
   ],
   "source": [
    "#6(iv)\n",
    "\n",
    "del user_dict[\"prgLang\"]\n",
    "\n",
    "del user_dict[\"Exp\"]\n",
    "\n",
    "print(\"Modified Dictionary\", user_dict)"
   ]
  },
  {
   "cell_type": "code",
   "execution_count": 45,
   "id": "257f3484",
   "metadata": {},
   "outputs": [
    {
     "name": "stdout",
     "output_type": "stream",
     "text": [
      "Initial List:  [20, 40, 60, 80, 100]\n",
      "Modified List:  [20, 40, 60, 80, 100, 120]\n"
     ]
    }
   ],
   "source": [
    "#7\n",
    "\n",
    "list5 = [20, 40, 60, 80, 100]\n",
    "\n",
    "def numberInsertion(num, pos):\n",
    "    \n",
    "    list5.insert(pos, num)\n",
    "\n",
    "print(\"Initial List: \", list5)\n",
    "\n",
    "numberInsertion(120, 5)\n",
    "\n",
    "print(\"Modified List: \", list5)"
   ]
  },
  {
   "cell_type": "code",
   "execution_count": 59,
   "id": "f54c06a1",
   "metadata": {},
   "outputs": [
    {
     "name": "stdout",
     "output_type": "stream",
     "text": [
      "Initial List:  [100, 200, 300, 400, 500]\n",
      "Enter a position you like to delete element: 2\n",
      "Element present at index 2 is deleted i.e:  300\n",
      "Updated List: [100, 200, 400, 500]\n"
     ]
    }
   ],
   "source": [
    "#8\n",
    "\n",
    "list6 = [100, 200, 300, 400, 500]\n",
    "\n",
    "print(\"Initial List: \", list6)\n",
    "\n",
    "def elementDelByIndex(index):\n",
    "    \n",
    "    if index < len(list6):\n",
    "        \n",
    "        deletedNumber = list6[index]\n",
    "        \n",
    "        del list6[index]\n",
    "        \n",
    "        print(\"Element present at index\", index, \"is deleted i.e: \", deletedNumber)\n",
    "        \n",
    "    else:\n",
    "        \n",
    "        print(\"Entered Index is beyond length of the list..\")\n",
    "\n",
    "\n",
    "\n",
    "userInput = int(input('Enter a position you like to delete element: '))\n",
    "\n",
    "elementDelByIndex(userInput)  \n",
    "\n",
    "print(\"Updated List:\", list6)"
   ]
  },
  {
   "cell_type": "code",
   "execution_count": 56,
   "id": "88ce504b",
   "metadata": {},
   "outputs": [
    {
     "name": "stdout",
     "output_type": "stream",
     "text": [
      "1\n",
      "2\n",
      "3\n",
      "4\n",
      "5\n",
      "6\n",
      "7\n",
      "8\n",
      "9\n",
      "10\n",
      "11\n",
      "12\n",
      "13\n",
      "14\n",
      "15\n",
      "16\n",
      "17\n",
      "18\n",
      "19\n",
      "20\n",
      "21\n",
      "22\n",
      "23\n",
      "24\n",
      "25\n",
      "26\n",
      "27\n",
      "28\n",
      "29\n",
      "30\n",
      "31\n",
      "32\n",
      "33\n",
      "34\n",
      "35\n",
      "36\n",
      "37\n",
      "38\n",
      "39\n",
      "40\n",
      "41\n",
      "42\n",
      "43\n",
      "44\n",
      "45\n",
      "46\n",
      "47\n",
      "48\n",
      "49\n",
      "50\n",
      "51\n",
      "52\n",
      "53\n",
      "54\n",
      "55\n",
      "56\n",
      "57\n",
      "58\n",
      "59\n",
      "60\n",
      "61\n",
      "62\n",
      "63\n",
      "64\n",
      "65\n",
      "66\n",
      "67\n",
      "68\n",
      "69\n",
      "70\n",
      "71\n",
      "72\n",
      "73\n",
      "74\n",
      "75\n",
      "76\n",
      "77\n",
      "78\n",
      "79\n",
      "80\n",
      "81\n",
      "82\n",
      "83\n",
      "84\n",
      "85\n",
      "86\n",
      "87\n",
      "88\n",
      "89\n",
      "90\n",
      "91\n",
      "92\n",
      "93\n",
      "94\n",
      "95\n",
      "96\n",
      "97\n",
      "98\n",
      "99\n",
      "100\n"
     ]
    }
   ],
   "source": [
    "#9\n",
    "\n",
    "for i in range(1, 101):\n",
    "    \n",
    "    print(i)"
   ]
  },
  {
   "cell_type": "code",
   "execution_count": 58,
   "id": "3e1b843a",
   "metadata": {},
   "outputs": [
    {
     "name": "stdout",
     "output_type": "stream",
     "text": [
      "Sum of tuple elements is:  30\n"
     ]
    }
   ],
   "source": [
    "#10\n",
    "\n",
    "user_tuple = (2, 4, 6, 8, 10)\n",
    "\n",
    "tuple_sum = sum(user_tuple)\n",
    "\n",
    "print(\"Sum of tuple elements is: \", tuple_sum)"
   ]
  },
  {
   "cell_type": "code",
   "execution_count": 17,
   "id": "0c751217",
   "metadata": {},
   "outputs": [
    {
     "name": "stdout",
     "output_type": "stream",
     "text": [
      "Enter a number: 10\n",
      "Enter another number: 20\n",
      "The sum of the outputs is: 1104.4721359549997\n"
     ]
    }
   ],
   "source": [
    "#11\n",
    "\n",
    "import math\n",
    "\n",
    "my_dict = {\n",
    "    \n",
    "    'Square': lambda x: x**2,\n",
    "    \n",
    "    'Cube': lambda x: x**3,\n",
    "    \n",
    "    'SquareRoot': lambda x: math.sqrt(x)\n",
    "}\n",
    "\n",
    "\n",
    "num1 = float(input(\"Enter a number: \"))\n",
    "\n",
    "num2 = float(input(\"Enter another number: \"))\n",
    "\n",
    "result = my_dict['Square'](num1) + my_dict['Cube'](num1) + my_dict['SquareRoot'](num2)\n",
    "\n",
    "print(\"The sum of the outputs is:\", result)"
   ]
  },
  {
   "cell_type": "code",
   "execution_count": 63,
   "id": "23ead4a7",
   "metadata": {},
   "outputs": [
    {
     "name": "stdout",
     "output_type": "stream",
     "text": [
      "Elements from the list with 2nd letter UpperCase:  ['hOw', 'ARe']\n"
     ]
    }
   ],
   "source": [
    "#12\n",
    "\n",
    "listElements = [\"hello\", \"Dear\", \"hOw\", \"ARe\", \"You\"]\n",
    "\n",
    "tempList = []\n",
    "\n",
    "for word in listElements:\n",
    "    \n",
    "        if word[1].isupper() and len(word) >= 2:\n",
    "            \n",
    "            tempList.append(word)\n",
    "\n",
    "\n",
    "print(\"Elements from the list with 2nd letter UpperCase: \", tempList)\n"
   ]
  },
  {
   "cell_type": "code",
   "execution_count": 3,
   "id": "0e5d76ff",
   "metadata": {},
   "outputs": [
    {
     "name": "stdout",
     "output_type": "stream",
     "text": [
      "John's weight on the moon is: 7.44 kg\n",
      "Shelly's weight on the moon is: 10.75 kg\n",
      "Marry's weight on the moon is: 5.79 kg\n"
     ]
    }
   ],
   "source": [
    "#13\n",
    "\n",
    "WeightsOnEarth = {'John': 45, 'Shelly': 65, 'Marry': 35}\n",
    "\n",
    "GMoon = 1.622\n",
    "\n",
    "GEarth = 9.81\n",
    "\n",
    "WeightOnMoon = {}\n",
    "\n",
    "for name, weight in WeightsOnEarth.items():\n",
    "    \n",
    "    weight_on_moon = (weight * GMoon) / GEarth\n",
    "    \n",
    "    WeightOnMoon[name] = weight_on_moon\n",
    "\n",
    "for name, weight_moon in WeightOnMoon.items():\n",
    "    \n",
    "    print(f\"{name}'s weight on the moon is: {weight_moon:.2f} kg\")\n"
   ]
  },
  {
   "cell_type": "markdown",
   "id": "f718c3e5",
   "metadata": {},
   "source": [
    "# Control Structures:\n"
   ]
  },
  {
   "cell_type": "code",
   "execution_count": 71,
   "id": "d6a7dd9a",
   "metadata": {},
   "outputs": [
    {
     "name": "stdout",
     "output_type": "stream",
     "text": [
      "Enter a number to print Prime Numbers up to that limit: 4\n",
      "The first 4 Prime Numbers are:\n",
      "2\n",
      "3\n",
      "5\n",
      "7\n"
     ]
    }
   ],
   "source": [
    "#1\n",
    "\n",
    "def primeCheck(num):\n",
    "    \n",
    "    if num <= 1:\n",
    "        \n",
    "        return False\n",
    "    \n",
    "    for i in range(2, int(num ** 0.5) + 1):\n",
    "        \n",
    "        if num % i == 0:\n",
    "            \n",
    "            return False\n",
    "        \n",
    "    return True\n",
    "\n",
    "def firstNPrimes(n):\n",
    "    \n",
    "    primes = []\n",
    "    \n",
    "    num = 2\n",
    "    \n",
    "    while len(primes) < n:\n",
    "        \n",
    "        if primeCheck(num):\n",
    "            \n",
    "            primes.append(num)\n",
    "            \n",
    "        num += 1\n",
    "        \n",
    "    return primes\n",
    "\n",
    "\n",
    "userInput = int(input(\"Enter a number to print Prime Numbers up to that limit: \"))\n",
    "\n",
    "prime_numbers = firstNPrimes(userInput)\n",
    "\n",
    "print(\"The first\", userInput, \"Prime Numbers are:\")\n",
    "\n",
    "for resultPrime in prime_numbers:\n",
    "    \n",
    "    print(resultPrime)"
   ]
  },
  {
   "cell_type": "code",
   "execution_count": 20,
   "id": "cf62425b",
   "metadata": {},
   "outputs": [
    {
     "name": "stdout",
     "output_type": "stream",
     "text": [
      "Enter the Basic Salary: 40000\n",
      "Enter HRA: 20\n",
      "Enter TA: 20\n",
      "Enter DA: 10\n",
      "Gross Salary: 40050.00\n",
      "Tax: 4005.00\n",
      "Net Salary: 36045.00\n"
     ]
    }
   ],
   "source": [
    "#2\n",
    "\n",
    "\n",
    "emp_basic_salary = float(input(\"Enter the Basic Salary: \"))\n",
    "\n",
    "emp_hra = float(input(\"Enter HRA: \"))\n",
    "\n",
    "emp_ta = float(input(\"Enter TA: \"))\n",
    "\n",
    "emp_da = float(input(\"Enter DA: \"))\n",
    "\n",
    "\n",
    "emp_gross_salary = emp_basic_salary + emp_hra + emp_ta + emp_da\n",
    "\n",
    "initial_tax = 0.1 * emp_gross_salary\n",
    "\n",
    "net_salary = emp_gross_salary - initial_tax\n",
    "\n",
    "print(f\"Gross Salary: {emp_gross_salary:.2f}\")\n",
    "\n",
    "print(f\"Tax: {initial_tax:.2f}\")\n",
    "\n",
    "print(f\"Net Salary: {net_salary:.2f}\")"
   ]
  },
  {
   "cell_type": "code",
   "execution_count": 90,
   "id": "4d91e3a9",
   "metadata": {},
   "outputs": [
    {
     "name": "stdout",
     "output_type": "stream",
     "text": [
      "Enter a string to search from the list: Painting\n",
      "Painting is found in the list at position: 3\n"
     ]
    }
   ],
   "source": [
    "#3\n",
    "\n",
    "userList2 = [\"Anime\", \"Movies\", \"Music\", \"Painting\", \"Crafts\"]\n",
    "\n",
    "userString = str(input(\"Enter a string to search from the list: \"))\n",
    "\n",
    "if userString in userList2:\n",
    "    \n",
    "    \n",
    "    print(f\"{userString} is found in the list at position: {userList2.index(userString)}\")\n",
    "    \n",
    "else:\n",
    "    \n",
    "    print(userString, \" is not found in the list.\")\n"
   ]
  },
  {
   "cell_type": "code",
   "execution_count": 107,
   "id": "5c37c058",
   "metadata": {},
   "outputs": [
    {
     "name": "stdout",
     "output_type": "stream",
     "text": [
      "Enter a sentence to count for Uppercase and Lowercase letters: PYTHon\n",
      "Number of UpperCase Letters are: 4\n",
      "Number of LowerCase Letters are: 2\n"
     ]
    }
   ],
   "source": [
    "#4\n",
    "\n",
    "def upper_and_lower_case_check(string):\n",
    "    \n",
    "    tempUpperCase = 0\n",
    "    \n",
    "    tempLowerCase = 0\n",
    "\n",
    "    for char in string:\n",
    "        \n",
    "        if char.isupper():\n",
    "            \n",
    "            tempUpperCase = tempUpperCase + 1\n",
    "            \n",
    "        elif char.islower():\n",
    "            \n",
    "            tempLowerCase = tempLowerCase + 1\n",
    "\n",
    "    return tempUpperCase, tempLowerCase\n",
    "\n",
    "userString3 = str(input(\"Enter a sentence to count for Uppercase and Lowercase letters: \"))\n",
    "\n",
    "uppercaseCount, lowercaseCount = upper_and_lower_case_check(userString3)\n",
    "\n",
    "print(f\"Number of UpperCase Letters are: {uppercaseCount}\\nNumber of LowerCase Letters are: {lowercaseCount}\")"
   ]
  },
  {
   "cell_type": "code",
   "execution_count": 128,
   "id": "0a967cb7",
   "metadata": {},
   "outputs": [
    {
     "name": "stdout",
     "output_type": "stream",
     "text": [
      "The Sum of EVEN numbers between 12-37 is: 312\n",
      "The Sum of ODD numbers between 12-37 is: 325\n"
     ]
    }
   ],
   "source": [
    "#5\n",
    "\n",
    "\n",
    "tempEvenSum = 0\n",
    "\n",
    "tempOddSum = 0\n",
    "\n",
    "\n",
    "for number in range(12, 38):\n",
    "    \n",
    "    if number % 2 == 0:\n",
    "        \n",
    "        tempEvenSum += number\n",
    "        \n",
    "    \n",
    "    else:\n",
    "        \n",
    "        tempOddSum += number\n",
    "\n",
    "\n",
    "print(\"The Sum of EVEN numbers between 12-37 is:\", tempEvenSum)\n",
    "\n",
    "print(\"The Sum of ODD numbers between 12-37 is:\", tempOddSum)"
   ]
  },
  {
   "cell_type": "code",
   "execution_count": 133,
   "id": "713c6fd6",
   "metadata": {},
   "outputs": [
    {
     "name": "stdout",
     "output_type": "stream",
     "text": [
      "Enter a number to print its Multiplication Table: 4\n",
      "4 x 1 = 4\n",
      "4 x 2 = 8\n",
      "4 x 3 = 12\n",
      "4 x 4 = 16\n",
      "4 x 5 = 20\n",
      "4 x 6 = 24\n",
      "4 x 7 = 28\n",
      "4 x 8 = 32\n",
      "4 x 9 = 36\n",
      "4 x 10 = 40\n"
     ]
    }
   ],
   "source": [
    "#6\n",
    "\n",
    "userTableNum = int(input(\"Enter a number to print its Multiplication Table: \"))\n",
    "\n",
    "for i in range(1, 11):\n",
    "    \n",
    "    multiples = userTableNum * i\n",
    "    \n",
    "    print(userTableNum ,\"x\", i, \"=\", multiples)"
   ]
  },
  {
   "cell_type": "code",
   "execution_count": 144,
   "id": "1649d281",
   "metadata": {},
   "outputs": [
    {
     "name": "stdout",
     "output_type": "stream",
     "text": [
      "The Sum of the first 10 [2, 3, 5, 7, 11, 13, 17, 19, 23, 29] prime numbers is: 129\n"
     ]
    }
   ],
   "source": [
    "#7\n",
    "\n",
    "def primeCheck(n):\n",
    "    \n",
    "    if n <= 1:\n",
    "        \n",
    "        return False\n",
    "    \n",
    "    for i in range(2, int(n ** 0.5) + 1):\n",
    "        \n",
    "        if n % i == 0:\n",
    "            \n",
    "            return False\n",
    "    \n",
    "    return True\n",
    "\n",
    "primesSum = 0\n",
    "\n",
    "count = 0\n",
    "\n",
    "num = 2\n",
    "\n",
    "listPrimeNumbers = []\n",
    "\n",
    "while count < 10:\n",
    "    \n",
    "    if primeCheck(num):\n",
    "        \n",
    "        primesSum += num\n",
    "        \n",
    "        listPrimeNumbers.append(num)\n",
    "        \n",
    "        count += 1\n",
    "    \n",
    "    num += 1\n",
    "\n",
    "print(f\"The Sum of the first 10 {listPrimeNumbers} prime numbers is:\", primesSum)"
   ]
  },
  {
   "cell_type": "code",
   "execution_count": 150,
   "id": "26212a79",
   "metadata": {},
   "outputs": [
    {
     "name": "stdout",
     "output_type": "stream",
     "text": [
      "Enter 1st number: 10\n",
      "Enter 2nd number: 2\n",
      "Choose one Arithmetic Operator (+, -, *, /): /\n",
      "Result: 5.0\n"
     ]
    }
   ],
   "source": [
    "#8\n",
    "\n",
    "userInputNum1 = float(input(\"Enter 1st number: \"))\n",
    "\n",
    "userInputNum2 = float(input(\"Enter 2nd number: \"))\n",
    "\n",
    "arithmeticOP = input(\"Choose one Arithmetic Operator (+, -, *, /): \")\n",
    "\n",
    "\n",
    "if arithmeticOP == \"+\":\n",
    "    \n",
    "    result = userInputNum1 + userInputNum2\n",
    "    \n",
    "elif arithmeticOP == \"-\":\n",
    "    \n",
    "    result = userInputNum1 - userInputNum2\n",
    "    \n",
    "elif arithmeticOP == \"*\":\n",
    "    \n",
    "    result = userInputNum1 * userInputNum2\n",
    "    \n",
    "elif arithmeticOP == \"/\":\n",
    "    \n",
    "    if userInputNum2 != 0:\n",
    "        \n",
    "        result = userInputNum1 / userInputNum2\n",
    "        \n",
    "    else:\n",
    "        \n",
    "        result = \"Error: Division by zero!\"\n",
    "        \n",
    "else:\n",
    "    \n",
    "    result = \"Error: Invalid operator!\"\n",
    "\n",
    "print(\"Result:\", result)"
   ]
  },
  {
   "cell_type": "code",
   "execution_count": 156,
   "id": "44bbca6a",
   "metadata": {},
   "outputs": [
    {
     "name": "stdout",
     "output_type": "stream",
     "text": [
      "Enter the temperature in Celsius: 100\n",
      "Converted temperature of 100.0 C into Fahrenheit is: 212.0\n"
     ]
    }
   ],
   "source": [
    "#9\n",
    "\n",
    "inputCelsius = float(input(\"Enter the temperature in Celsius: \"))\n",
    "\n",
    "resultFahrenheit = (inputCelsius * 9/5) + 32\n",
    "\n",
    "print(\"Converted temperature of\",inputCelsius, \"C\", \"into Fahrenheit is:\", resultFahrenheit)\n"
   ]
  },
  {
   "cell_type": "code",
   "execution_count": 159,
   "id": "3a646196",
   "metadata": {},
   "outputs": [
    {
     "name": "stdout",
     "output_type": "stream",
     "text": [
      "The Maximum value from list is:  45\n",
      "The Minimum value from list is:  4\n"
     ]
    }
   ],
   "source": [
    "#10\n",
    "\n",
    "list10 = [5, 20, 4, 36, 45, 15]\n",
    "\n",
    "\n",
    "listMaxValue = list10[0]\n",
    "\n",
    "listMinValue = list10[0]\n",
    "\n",
    "for number in list10:\n",
    "    \n",
    "    if number > listMaxValue:\n",
    "        \n",
    "        listMaxValue = number\n",
    "        \n",
    "    if number < listMinValue:\n",
    "        \n",
    "        listMinValue = number\n",
    "\n",
    "print(\"The Maximum value from list is: \", listMaxValue)\n",
    "\n",
    "print(\"The Minimum value from list is: \", listMinValue)"
   ]
  },
  {
   "cell_type": "code",
   "execution_count": 163,
   "id": "87bdb824",
   "metadata": {},
   "outputs": [
    {
     "name": "stdout",
     "output_type": "stream",
     "text": [
      "Number of Seconds in a 30-day month is:  2592000 seconds\n"
     ]
    }
   ],
   "source": [
    "#11\n",
    "\n",
    "days = 30\n",
    "\n",
    "hours = 24\n",
    "\n",
    "minutes = 60\n",
    "\n",
    "seconds = 60\n",
    "\n",
    "totalSecondsInMonth = days * hours * minutes * seconds\n",
    "\n",
    "print(\"Number of Seconds in a 30-day month is: \", totalSecondsInMonth,'seconds')"
   ]
  },
  {
   "cell_type": "code",
   "execution_count": 168,
   "id": "d06facf4",
   "metadata": {},
   "outputs": [
    {
     "name": "stdout",
     "output_type": "stream",
     "text": [
      "Number of seconds in a year (365 days) is:  31536000 seconds\n"
     ]
    }
   ],
   "source": [
    "#12\n",
    "\n",
    "days = 365 #Regular Year (For Leap Year :- 366)\n",
    "\n",
    "hours = 24\n",
    "\n",
    "minutes = 60\n",
    "\n",
    "seconds = 60\n",
    "\n",
    "totalSecondsInYear = days * hours * minutes * seconds\n",
    "\n",
    "print(\"Number of seconds in a year (365 days) is: \",totalSecondsInYear,\"seconds\")\n"
   ]
  },
  {
   "cell_type": "code",
   "execution_count": 174,
   "id": "9a1390d7",
   "metadata": {},
   "outputs": [
    {
     "name": "stdout",
     "output_type": "stream",
     "text": [
      "Time it took to travel from London to Glasgow is: 2 hours and 45 minutes\n"
     ]
    }
   ],
   "source": [
    "#13\n",
    "\n",
    "initialDistance = 414  # miles\n",
    "\n",
    "avgSpeed = 150  # mph\n",
    "\n",
    "timeInHours = initialDistance / avgSpeed\n",
    "\n",
    "inHours = int(timeInHours)\n",
    "\n",
    "inMinutes = int((timeInHours - inHours) * 60)\n",
    "\n",
    "print(\"Time it took to travel from London to Glasgow is:\", inHours ,\"hours and\", inMinutes, \"minutes\")"
   ]
  },
  {
   "cell_type": "code",
   "execution_count": 179,
   "id": "708c6521",
   "metadata": {},
   "outputs": [
    {
     "name": "stdout",
     "output_type": "stream",
     "text": [
      "Total amount of hours spent in school from 7 - 11 year is:  5760 hours\n"
     ]
    }
   ],
   "source": [
    "#14\n",
    "\n",
    "days_in_each_school_year = 192\n",
    "\n",
    "hours_per_day = 6\n",
    "\n",
    "# From 7 to 11 year => ( 11 - 7 + 1 = 5 )\n",
    "\n",
    "total_hours_in_school_year = (days_in_each_school_year * 5) * hours_per_day\n",
    "\n",
    "print(\"Total amount of hours spent in school from 7 - 11 year is: \", total_hours_in_school_year, \"hours\")"
   ]
  },
  {
   "cell_type": "code",
   "execution_count": 185,
   "id": "03be3fb8",
   "metadata": {},
   "outputs": [
    {
     "name": "stdout",
     "output_type": "stream",
     "text": [
      "Enter Age for Ram: 20\n",
      "Enter Age for Sam: 30\n",
      "Enter Age for khan: 21\n",
      "Youngest Age among Ram, Sam, Khan is:  20\n",
      "Eldest Age among Ram, Sam, Khan is:  30\n"
     ]
    }
   ],
   "source": [
    "#15\n",
    "\n",
    "ram_age = int(input(\"Enter Age for Ram: \"))\n",
    "\n",
    "sam_age = int(input(\"Enter Age for Sam: \"))\n",
    "\n",
    "khan_age = int(input(\"Enter Age for khan: \"))\n",
    "\n",
    "age_List = [ram_age, sam_age, khan_age]\n",
    "\n",
    "print(\"Youngest Age among Ram, Sam, Khan is: \", min(age_List))\n",
    "\n",
    "print(\"Eldest Age among Ram, Sam, Khan is: \", max(age_List))\n",
    "    "
   ]
  },
  {
   "cell_type": "code",
   "execution_count": 4,
   "id": "d4bb6b94",
   "metadata": {},
   "outputs": [
    {
     "name": "stdout",
     "output_type": "stream",
     "text": [
      "[4, 5, 1, 2, 3]\n"
     ]
    }
   ],
   "source": [
    "#16\n",
    "\n",
    "def rotate_list_without_slicing(lst, n):\n",
    "    \n",
    "    for _ in range(n):\n",
    "        \n",
    "        last_element = lst.pop()\n",
    "        \n",
    "        lst.insert(0, last_element)\n",
    "\n",
    "my_list = [1, 2, 3, 4, 5]\n",
    "\n",
    "n = 2\n",
    "\n",
    "rotate_list_without_slicing(my_list, n)\n",
    "\n",
    "print(my_list)  "
   ]
  },
  {
   "cell_type": "code",
   "execution_count": 11,
   "id": "b550a47b",
   "metadata": {},
   "outputs": [
    {
     "name": "stdout",
     "output_type": "stream",
     "text": [
      "1 \n",
      "1 1 \n",
      "1 2 1 \n",
      "1 3 3 1 \n",
      "1 4 6 4 1 \n",
      "1 5 10 10 5 1 \n",
      "1 6 15 20 15 6 1 \n"
     ]
    }
   ],
   "source": [
    "#17(i)\n",
    "\n",
    "def print_pattern(n):\n",
    "    \n",
    "    for i in range(n):\n",
    "        \n",
    "        num = 1\n",
    "        \n",
    "        for j in range(i + 1):\n",
    "            \n",
    "            print(num, end=\" \")\n",
    "            \n",
    "            num = num * (i - j) // (j + 1)\n",
    "            \n",
    "        print(end = '\\n')\n",
    "\n",
    "print_pattern(7)\n"
   ]
  },
  {
   "cell_type": "code",
   "execution_count": 13,
   "id": "c81b8351",
   "metadata": {},
   "outputs": [
    {
     "name": "stdout",
     "output_type": "stream",
     "text": [
      "* \n",
      "* * \n",
      "* * * \n",
      "* * * * \n",
      "* * * * * \n"
     ]
    }
   ],
   "source": [
    "#17(ii)\n",
    "\n",
    "def print_asterisk_pattern(n):\n",
    "    \n",
    "    for i in range(1, n + 1):\n",
    "        \n",
    "        for j in range(i):\n",
    "            \n",
    "            print(\"*\", end=\" \")\n",
    "            \n",
    "        print(end = '\\n')\n",
    "\n",
    "print_asterisk_pattern(5)\n"
   ]
  },
  {
   "cell_type": "code",
   "execution_count": 15,
   "id": "f3cb8c8c",
   "metadata": {},
   "outputs": [
    {
     "name": "stdout",
     "output_type": "stream",
     "text": [
      "    * \n",
      "   * * \n",
      "  * * * \n",
      " * * * * \n",
      "* * * * * \n"
     ]
    }
   ],
   "source": [
    "#17(iii)\n",
    "\n",
    "def print_pattern(n):\n",
    "    \n",
    "    for i in range(1, n + 1):\n",
    "        \n",
    "        print(\" \" * (n - i) + \"* \" * i)\n",
    "\n",
    "print_pattern(5)\n"
   ]
  },
  {
   "cell_type": "code",
   "execution_count": 16,
   "id": "7e28095a",
   "metadata": {},
   "outputs": [
    {
     "name": "stdout",
     "output_type": "stream",
     "text": [
      "P\n",
      "Py\n",
      "Pyt\n",
      "Pyth\n",
      "Pytho\n",
      "Python\n"
     ]
    }
   ],
   "source": [
    "#17(iv)\n",
    "\n",
    "userWord = \"Python\"\n",
    "\n",
    "for i in range(1, len(userWord) + 1):\n",
    "    \n",
    "    print(userWord[:i])\n"
   ]
  }
 ],
 "metadata": {
  "kernelspec": {
   "display_name": "Python 3 (ipykernel)",
   "language": "python",
   "name": "python3"
  },
  "language_info": {
   "codemirror_mode": {
    "name": "ipython",
    "version": 3
   },
   "file_extension": ".py",
   "mimetype": "text/x-python",
   "name": "python",
   "nbconvert_exporter": "python",
   "pygments_lexer": "ipython3",
   "version": "3.11.4"
  }
 },
 "nbformat": 4,
 "nbformat_minor": 5
}
