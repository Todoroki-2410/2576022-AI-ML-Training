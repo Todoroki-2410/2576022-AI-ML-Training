{
 "cells": [
  {
   "cell_type": "markdown",
   "id": "88cd9a14",
   "metadata": {},
   "source": [
    "# File Handling"
   ]
  },
  {
   "cell_type": "code",
   "execution_count": 10,
   "id": "30a5c5e0",
   "metadata": {
    "scrolled": true
   },
   "outputs": [
    {
     "name": "stdout",
     "output_type": "stream",
     "text": [
      "In the world of technology, curiosity is your compass. Explore the digital frontier, and you'll discover endless possibilities waiting to be coded.\n"
     ]
    }
   ],
   "source": [
    "def file_copy(main_file, copied_file):\n",
    "    \n",
    "    with open(main_file, 'r') as main_src, open(copied_file, 'w') as copied_src:\n",
    "        \n",
    "        while True:\n",
    "            \n",
    "            temp_data = main_src.read(50)\n",
    "            \n",
    "            if not temp_data:\n",
    "                \n",
    "                break\n",
    "                \n",
    "            copied_src.write(temp_data)\n",
    "\n",
    "source_file = 'source.txt'\n",
    "\n",
    "destination_file = 'destination.txt'\n",
    "\n",
    "file_copy(source_file, destination_file)\n",
    "\n",
    "# Read and display the contents of the destination file\n",
    "\n",
    "with open(destination_file, 'r') as copied_file:\n",
    "    \n",
    "    copied_contents = copied_file.read()\n",
    "    \n",
    "print(copied_contents)\n"
   ]
  },
  {
   "cell_type": "code",
   "execution_count": 8,
   "id": "11d105cc",
   "metadata": {},
   "outputs": [
    {
     "name": "stdout",
     "output_type": "stream",
     "text": [
      "The file contains ['1']: numbers\n",
      "The Number of blank spaces in the file: 128\n"
     ]
    }
   ],
   "source": [
    "#2\n",
    " \n",
    "with open(\"Test2.txt\", \"r\") as file:\n",
    "    \n",
    "    content = file.read()\n",
    "\n",
    "numbers_count = []\n",
    "\n",
    "blank_space_count = 0\n",
    "\n",
    "for i in content:\n",
    "    \n",
    "    if i.isdigit():\n",
    "        \n",
    "        numbers_count.append(i)\n",
    "        \n",
    "    elif i == ' ':\n",
    "   \n",
    "        blank_space_count += 1\n",
    "\n",
    "print(f\"The file contains {numbers_count}: numbers\")\n",
    "\n",
    "print(\"The Number of blank spaces in the file:\", blank_space_count)\n"
   ]
  },
  {
   "cell_type": "code",
   "execution_count": 7,
   "id": "c0dba263",
   "metadata": {},
   "outputs": [
    {
     "name": "stdout",
     "output_type": "stream",
     "text": [
      "Original Content in Input File: \n",
      "Python is a new programming language. \n",
      "\n",
      "Modified Content in Output File:\n",
      "Python is a old programming language.\n"
     ]
    }
   ],
   "source": [
    "#3\n",
    "\n",
    "import os\n",
    "\n",
    "#file_in = File to read\n",
    "#file_out = File to show modified output\n",
    "\n",
    "def sed(search_pattern, input_replacement, file_in, file_out):\n",
    "    \n",
    "    try:\n",
    "        \n",
    "        with open(file_in, 'r') as in_file:\n",
    "            \n",
    "            original_content = in_file.read()\n",
    "\n",
    "        \n",
    "        modified_content = original_content.replace(search_pattern, input_replacement)\n",
    "\n",
    "\n",
    "        with open(file_out, 'w') as out_file:\n",
    "            \n",
    "            out_file.write(modified_content)\n",
    "            \n",
    "        print(\"Original Content in Input File: \")\n",
    "        \n",
    "        print(original_content, \"\\n\")\n",
    "\n",
    "        print(\"Modified Content in Output File:\")\n",
    "        \n",
    "        print(modified_content)\n",
    "\n",
    "    except Exception as e:\n",
    "        \n",
    "        print(f\"An error occurred during operation, input_pattern is not recognized: {str(e)}\")\n",
    "        \n",
    "        exit(1)\n",
    "\n",
    "\n",
    "sed(\"new\", \"old\", \"input.txt\", \"output.txt\")"
   ]
  },
  {
   "cell_type": "code",
   "execution_count": 14,
   "id": "5bf1daad",
   "metadata": {},
   "outputs": [],
   "source": [
    "#4\n",
    "\n",
    "# Function to parse a Log file and extract relevant information\n",
    "def parse_log_file(log_file_path):\n",
    "    # Create a dictionary to store Log entries by date\n",
    "    log_entries_by_date = {}\n",
    "    with open(log_file_path, 'r') as log_file:\n",
    "        for line in log_file:\n",
    "            # Split each Line into timestamp and message\n",
    "            parts = line.strip().split(\", \", 1)  # Corrected the split delimiter\n",
    "            if len(parts) == 2:\n",
    "                timestamp, message = parts\n",
    "                date = timestamp[:10]\n",
    "                # Extract the date portion\n",
    "                if date in log_entries_by_date:\n",
    "                    log_entries_by_date[date].append(message)\n",
    "                else:\n",
    "                    log_entries_by_date[date] = [message]\n",
    "    return log_entries_by_date\n",
    "\n",
    "# Function to analyze Log data (you can customize this based on your needs)\n",
    "def analyze_log_data(log_entries_by_date):\n",
    "    for date, entries in log_entries_by_date.items():\n",
    "        print(f\"Date: {date}\")\n",
    "        print(f\"Total Entries: {len(entries)}\")\n",
    "        print(\"Sample Entries:\")\n",
    "        for i, entry in enumerate(entries[:5], start=1):\n",
    "            print(f\"{i}. {entry}\")\n",
    "        print(\" -----\")\n",
    "        \n",
    "\n",
    "\n"
   ]
  },
  {
   "cell_type": "code",
   "execution_count": 17,
   "id": "c9315041",
   "metadata": {},
   "outputs": [],
   "source": [
    "if __name__ == \"__main__\":\n",
    "    log_file_path = \"DEMO_LOG_FILE.log\"\n",
    "    log_entries_by_date = parse_log_file(log_file_path)\n",
    "    analyze_log_data(log_entries_by_date)"
   ]
  },
  {
   "cell_type": "code",
   "execution_count": 1,
   "id": "cccfa99c",
   "metadata": {},
   "outputs": [
    {
     "name": "stdout",
     "output_type": "stream",
     "text": [
      "Yola, GenZ! is the iconic, timeless phrase that has become the traditional starting point for programming beginners. It serves as a simple yet powerful introduction to a new programming language or environment. The Yola, GenZ! program typically consists of just a few lines of code, designed to display this friendly greeting on the screen. While it may seem trivial, this humble program marks the beginning of a programmer's journey, laying the foundation for more complex and exciting coding adventures. It's a universal symbol of exploration and learning in the world of computer science and software development, uniting programmers of all levels in the shared experience of saying, Yola, GenZ!\n"
     ]
    }
   ],
   "source": [
    "#5(i)\n",
    "\n",
    "# Making use of Regular Expression\n",
    "\n",
    "import re\n",
    "\n",
    "main_text_content = open(\"changeWithin.txt\").read()\n",
    "\n",
    "search_pattern = r\"\\bWorld\\b\" # Hello World => Hello Universe\n",
    "\n",
    "changed_content = re.sub(search_pattern, \"Universe\", main_text_content)\n",
    "\n",
    "print(changed_content)"
   ]
  },
  {
   "cell_type": "code",
   "execution_count": 5,
   "id": "b51ce8e6",
   "metadata": {},
   "outputs": [
    {
     "name": "stdout",
     "output_type": "stream",
     "text": [
      "\n",
      " Yola, GenZ! is the iconic, timeless phrase that has become the traditional starting point for programming beginners. It serves as a simple yet powerful introduction to a new programming language or environment. The Yola, GenZ! program typically consists of just a few lines of code, designed to display this friendly greeting on the screen. While it may seem trivial, this humble program marks the beginning of a programmer's journey, laying the foundation for more complex and exciting coding adventures. It's a universal symbol of exploration and learning in the world of computer science and software development, uniting programmers of all levels in the shared experience of saying, Yola, GenZ!\n"
     ]
    }
   ],
   "source": [
    "#5(ii)\n",
    "\n",
    "# Multiple Replacements within a file\n",
    "\n",
    "import re\n",
    "\n",
    "def search_and_replace_multiple(org_file_path, content_replacements):\n",
    "    \n",
    "    with open(org_file_path, 'r') as org_file:\n",
    "        \n",
    "        filedata = org_file.read()\n",
    "        \n",
    "    for search_text, replace_text in content_replacements.items():\n",
    "        \n",
    "        filedata = re.sub(search_text, replace_text, filedata)\n",
    "        \n",
    "    with open(org_file_path, 'w') as output_file:\n",
    "        \n",
    "        output_file.write(filedata)\n",
    "    \n",
    "    return filedata\n",
    "        \n",
    "content_replacements = {'Hello': 'Yola', 'World': 'GenZ'}\n",
    "\n",
    "modified_data_within = search_and_replace_multiple('changeWithin.txt', content_replacements)\n",
    "\n",
    "print(\"\\n\", modified_data_within)"
   ]
  },
  {
   "cell_type": "code",
   "execution_count": 6,
   "id": "17188b85",
   "metadata": {},
   "outputs": [
    {
     "name": "stdout",
     "output_type": "stream",
     "text": [
      "Enter name of 1st File: winter.txt\n",
      "Enter name of 2nd File: autumn.txt\n",
      "New File to Merge Contents of File 1 & 2: seasons.txt\n",
      "\n",
      "Merged Contents of winter.txt and autumn.txt is: \n",
      "\n",
      "Winter is a captivating season that transforms the world into a serene wonderland. As temperatures drop, nature undergoes a breathtaking metamorphosis. Snow blankets the landscape, adorning trees and rooftops with glistening frost. The air becomes crisp and invigorating, encouraging cozy gatherings around crackling fires and sips of hot cocoa. Winter is a time of contrasts â€“ the quiet serenity of a snowfall and the exhilaration of skiing down pristine slopes. It's a season of reflection and renewal, as we retreat indoors to reflect on the past year and make resolutions for the future. Winter's beauty and tranquility make it a cherished and magical time of year.\n",
      "\n",
      "Autumn, often referred to as fall, is a season of transition and transformation. As summer's warmth gives way to cooler breezes, trees shed their vibrant green leaves in a breathtaking display of reds, yellows, and oranges. The earth is adorned with a mosaic of colors, creating a picturesque landscape. Crisp air fills the atmosphere, carrying the scent of fallen leaves and the promise of cozy evenings by the fire. Autumn is a time for harvest festivals, pumpkin patches, and apple picking, celebrating nature's abundance. It's a season of reflection, as we prepare for the quietude of winter. Autumn's beauty and sense of change make it a cherished and contemplative time of year.\n",
      "\n"
     ]
    }
   ],
   "source": [
    "#6 Python Script\n",
    "\n",
    "def multiple_merging(user_file1, user_file2, output_file):\n",
    "        \n",
    "        # Opening\n",
    "        file1 = open(user_file1)\n",
    "        \n",
    "        file2 = open(user_file2)\n",
    "        \n",
    "        new_file = open(output_file, 'w')\n",
    "\n",
    "        file1_contents = file1.read()\n",
    "        \n",
    "        file2_contents = file2.read()\n",
    "\n",
    "        new_file.write(file1_contents)\n",
    "        \n",
    "        new_file.write(file2_contents)\n",
    "        \n",
    "        # Closing\n",
    "        \n",
    "        file1.close()\n",
    "        \n",
    "        file2.close()\n",
    "        \n",
    "        new_file.close()\n",
    "\n",
    "        return output_file\n",
    "\n",
    "\n",
    "user_file1 = input(\"Enter name of 1st File: \")\n",
    "\n",
    "user_file2 = input(\"Enter name of 2nd File: \")\n",
    "\n",
    "output_file = input(\"New File to Merge Contents of File 1 & 2: \")\n",
    "\n",
    "result_content = multiple_merging(user_file1, user_file2, output_file)\n",
    "\n",
    "with open(result_content, 'r') as show_now:\n",
    "    \n",
    "    display_now = show_now.read()\n",
    "    \n",
    "print(f\"\\nMerged Contents of {user_file1} and {user_file2} is: \\n\")\n",
    "\n",
    "print(display_now)"
   ]
  },
  {
   "cell_type": "code",
   "execution_count": null,
   "id": "6c3fc2cf",
   "metadata": {},
   "outputs": [],
   "source": [
    "import os\n",
    "\n",
    "def input_grades(subject_name):\n",
    "    try:\n",
    "        with open(f\"{subject_name}.txt\", \"a\") as grades_file:\n",
    "            student_name = input(\"Enter Name of Student: \")\n",
    "            grade = input(\"Enter Scored Grade: \")\n",
    "            grades_file.write(f\"{student_name}: {grade}\\n\")\n",
    "    except Exception as e:\n",
    "        print(\"Error:\", e)\n",
    "\n",
    "def view_grades(subject_name):\n",
    "    try:\n",
    "        with open(f\"{subject_name}.txt\", \"r\") as grades_file:\n",
    "            grades = grades_file.read()\n",
    "            print(grades)\n",
    "    except FileNotFoundError:\n",
    "        print(f\"Grades for {subject_name} are not found on the record.\")\n",
    "    except Exception as e:\n",
    "        print(\"Error:\", e)\n",
    "\n",
    "num_subjects = int(input(\"Enter how many Subjects: \"))\n",
    "subject_names_list = []\n",
    "\n",
    "for i in range(num_subjects):\n",
    "    subject_name = input(f\"Enter the name of subject {i + 1}: \")\n",
    "    subject_names_list.append(subject_name)\n",
    "\n",
    "while True:\n",
    "    print(\"\\nChoose an operation from below: \")\n",
    "    print(\"1. Input grades for Student\")\n",
    "    print(\"2. View grades for Student\")\n",
    "    print(\"3. Exit Program\")\n",
    "\n",
    "    user_choice = input(\"Choose a Number: \")\n",
    "\n",
    "    if user_choice == \"1\":\n",
    "        subject_name = input(\"Enter the name of the subject: \")\n",
    "        if subject_name in subject_names_list:\n",
    "            input_grades(subject_name)\n",
    "        else:\n",
    "            print(\"Subject Name not found. Re-Enter.\")\n",
    "    elif user_choice == \"2\":\n",
    "        subject_name = input(\"Enter the name of the subject: \")\n",
    "        if subject_name in subject_names_list:\n",
    "            view_grades(subject_name)\n",
    "        else:\n",
    "            print(\"Subject Name not found.\")\n",
    "    elif user_choice == \"3\":\n",
    "        break\n",
    "    else:\n",
    "        print(\"Wrong choice made\")\n"
   ]
  },
  {
   "cell_type": "code",
   "execution_count": null,
   "id": "3efa0a76",
   "metadata": {},
   "outputs": [],
   "source": []
  }
 ],
 "metadata": {
  "kernelspec": {
   "display_name": "Python 3 (ipykernel)",
   "language": "python",
   "name": "python3"
  },
  "language_info": {
   "codemirror_mode": {
    "name": "ipython",
    "version": 3
   },
   "file_extension": ".py",
   "mimetype": "text/x-python",
   "name": "python",
   "nbconvert_exporter": "python",
   "pygments_lexer": "ipython3",
   "version": "3.11.4"
  }
 },
 "nbformat": 4,
 "nbformat_minor": 5
}
