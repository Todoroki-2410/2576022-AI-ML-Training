{
 "cells": [
  {
   "cell_type": "markdown",
   "id": "c1f96dab",
   "metadata": {},
   "source": [
    "# Functions"
   ]
  },
  {
   "cell_type": "code",
   "execution_count": 7,
   "id": "08224bd2",
   "metadata": {},
   "outputs": [
    {
     "name": "stdout",
     "output_type": "stream",
     "text": [
      "Even numbers: [2, 4, 6, 8, 10]\n",
      "Odd numbers: [1, 3, 5, 7, 9]\n"
     ]
    }
   ],
   "source": [
    "#1\n",
    "\n",
    "def evenOddfunc(numbers):\n",
    "    \n",
    "    even_numbers_list = []\n",
    "    \n",
    "    odd_numbers_list = []\n",
    "\n",
    "    for num in numbers:\n",
    "        \n",
    "        if num % 2 == 0:\n",
    "            \n",
    "            even_numbers_list.append(num)\n",
    "            \n",
    "        else:\n",
    "            \n",
    "            odd_numbers_list.append(num)\n",
    "\n",
    "    return even_numbers_list, odd_numbers_list\n",
    "\n",
    "numbers = [1, 2, 3, 4, 5, 6, 7, 8, 9, 10]\n",
    "\n",
    "even, odd = evenOddfunc(numbers)\n",
    "\n",
    "print(\"Even numbers:\", even)\n",
    "\n",
    "print(\"Odd numbers:\", odd)"
   ]
  },
  {
   "cell_type": "code",
   "execution_count": 3,
   "id": "225d8991",
   "metadata": {},
   "outputs": [
    {
     "name": "stdout",
     "output_type": "stream",
     "text": [
      "Enter integer 1: 10\n",
      "Enter integer 2: 20\n",
      "Enter integer 3: 40\n",
      "Enter integer 4: 50\n",
      "Enter integer 5: 7\n",
      "Enter integer 6: 10\n",
      "Enter integer 7: 102\n",
      "Enter integer 8: 100\n",
      "Number of even numbers: 7\n"
     ]
    }
   ],
   "source": [
    "#2\n",
    "\n",
    "def even_count():\n",
    "    count_even = 0\n",
    "\n",
    "    for i in range(8):\n",
    "        \n",
    "        num = int(input(f\"Enter integer {i + 1}: \"))\n",
    "        \n",
    "        if num % 2 == 0:\n",
    "            \n",
    "            count_even += 1\n",
    "\n",
    "    print(\"Number of even numbers:\", count_even)\n",
    "\n",
    "even_count()\n"
   ]
  },
  {
   "cell_type": "code",
   "execution_count": 1,
   "id": "0b347653",
   "metadata": {},
   "outputs": [
    {
     "name": "stdout",
     "output_type": "stream",
     "text": [
      "Enter a positive integer: 100\n",
      "[100, 50, 25, 76, 38, 19, 58, 29, 88, 44, 22, 11, 34, 17, 52, 26, 13, 40, 20, 10, 5, 16, 8, 4, 2, 1]\n"
     ]
    }
   ],
   "source": [
    "#3\n",
    "\n",
    "def userOP(user_Input):\n",
    "    \n",
    "    new_generated_list = [user_Input]\n",
    "    \n",
    "\n",
    "    while (user_Input != 1):\n",
    "        \n",
    "        if user_Input % 2 == 0:\n",
    "            \n",
    "            user_Input = (user_Input) // 2\n",
    "            \n",
    "        else:\n",
    "            \n",
    "            user_Input = 3 * (user_Input) + 1\n",
    "        \n",
    "        new_generated_list.append(user_Input)\n",
    "    \n",
    "    return new_generated_list\n",
    "\n",
    "user_Input = int(input(\"Enter a positive integer: \"))\n",
    "\n",
    "new_generated_list = userOP(user_Input)\n",
    "\n",
    "print(new_generated_list)"
   ]
  },
  {
   "cell_type": "code",
   "execution_count": 4,
   "id": "55cb8d62",
   "metadata": {},
   "outputs": [
    {
     "name": "stdout",
     "output_type": "stream",
     "text": [
      "The sum of all multiples of 3 or 5 below 500 is: 57918\n"
     ]
    }
   ],
   "source": [
    "#4\n",
    "\n",
    "def sum_multiples_3_and_5():\n",
    "    \n",
    "    sum_total = 0\n",
    "\n",
    "    for number in range(1, 500):\n",
    "    \n",
    "        if number % 3 == 0 or number % 5 == 0:\n",
    "        \n",
    "            sum_total += number\n",
    "\n",
    "    print(\"The sum of all multiples of 3 or 5 below 500 is:\", sum_total)\n",
    "\n",
    "sum_multiples_3_and_5()"
   ]
  },
  {
   "cell_type": "code",
   "execution_count": 2,
   "id": "b8f38178",
   "metadata": {},
   "outputs": [
    {
     "name": "stdout",
     "output_type": "stream",
     "text": [
      "Enter the number of prime numbers to find: 5\n",
      "The first 5 prime numbers from the list are: [2, 3, 5, 7]\n"
     ]
    }
   ],
   "source": [
    "#5\n",
    "\n",
    "def is_prime(num):\n",
    "    \n",
    "    if num <= 1:\n",
    "        \n",
    "        return False\n",
    "    \n",
    "    if num <= 3:\n",
    "        \n",
    "        return True\n",
    "    \n",
    "    if num % 2 == 0 or num % 3 == 0:\n",
    "        \n",
    "        return False\n",
    "    \n",
    "    i = 5\n",
    "    \n",
    "    while i * i <= num:\n",
    "        \n",
    "        if num % i == 0 or num % (i + 2) == 0:\n",
    "            \n",
    "            return False\n",
    "        \n",
    "        i += 6\n",
    "        \n",
    "    return True\n",
    "\n",
    "def find_first_n_primes(numbers, n):\n",
    "    \n",
    "    prime_numbers = []\n",
    "    \n",
    "    for num in numbers:\n",
    "        \n",
    "        if is_prime(num):\n",
    "            \n",
    "            prime_numbers.append(num)\n",
    "            \n",
    "            if len(prime_numbers) == n:\n",
    "                \n",
    "                break\n",
    "                \n",
    "    return prime_numbers\n",
    "\n",
    "numbers = [1, 2, 3, 4, 5, 6, 7, 8, 9, 10] \n",
    "\n",
    "n = int(input(\"Enter the number of prime numbers to find: \"))\n",
    "\n",
    "prime_numbers = find_first_n_primes(numbers, n)\n",
    "\n",
    "print(f\"The first {n} prime numbers from the list are:\", prime_numbers)"
   ]
  },
  {
   "cell_type": "code",
   "execution_count": 8,
   "id": "1e51024d",
   "metadata": {},
   "outputs": [
    {
     "name": "stdout",
     "output_type": "stream",
     "text": [
      "Resultant Matrix C is:\n",
      "[1100, 1400]\n",
      "[2450, 3200]\n",
      "[3800, 5000]\n"
     ]
    }
   ],
   "source": [
    "#6\n",
    "\n",
    "A = [\n",
    "    [10, 20, 30],\n",
    "    [40, 50, 60],\n",
    "    [70, 80, 90]\n",
    "]\n",
    "\n",
    "B = [\n",
    "    [5, 10],\n",
    "    [15, 20],\n",
    "    [25, 30]\n",
    "]\n",
    "\n",
    "def matrix_multiplication():\n",
    "    length_A = len(A)\n",
    "    initial_Item = len(A[0])\n",
    "\n",
    "    length_B = len(B)\n",
    "    second_initial_item = len(B[0])\n",
    "\n",
    "    if initial_Item != length_B:\n",
    "        print(\"Incompatible Matrix Sizes!!\")\n",
    "        return 0\n",
    "\n",
    "    C = []\n",
    "    for row in range(length_A):\n",
    "        curr_row = []\n",
    "        for col in range(second_initial_item):\n",
    "            curr_row.append(0)\n",
    "        C.append(curr_row)\n",
    "\n",
    "    for i in range(length_A):\n",
    "        for j in range(second_initial_item):\n",
    "            curr_val = 0\n",
    "            for k in range(initial_Item):\n",
    "                curr_val += A[i][k] * B[k][j]\n",
    "            C[i][j] = curr_val\n",
    "\n",
    "    print('Resultant Matrix C is:')\n",
    "    for row in C:\n",
    "        print(row)\n",
    "\n",
    "matrix_multiplication()\n"
   ]
  },
  {
   "cell_type": "code",
   "execution_count": 3,
   "id": "f5e95441",
   "metadata": {},
   "outputs": [
    {
     "name": "stdout",
     "output_type": "stream",
     "text": [
      "Enter a string: Python\n",
      "The Number of Vowels in the Python is: 1\n"
     ]
    }
   ],
   "source": [
    "#7\n",
    "\n",
    "def count_vowels(string):\n",
    "    \n",
    "    vowels = \"AEIOUaeiou\" \n",
    "    \n",
    "    vowel_count = 0  \n",
    "    \n",
    "    for char in string:\n",
    "        \n",
    "        if char in vowels:\n",
    "            \n",
    "            vowel_count += 1\n",
    "    \n",
    "    return vowel_count\n",
    "\n",
    "\n",
    "input_string = input(\"Enter a string: \")\n",
    "\n",
    "result = count_vowels(input_string)\n",
    "\n",
    "print(f\"The Number of Vowels in the {input_string} is:\", result)"
   ]
  },
  {
   "cell_type": "code",
   "execution_count": 4,
   "id": "d396e809",
   "metadata": {},
   "outputs": [
    {
     "name": "stdout",
     "output_type": "stream",
     "text": [
      "Enter any positive integer: 5\n",
      "The factorial of 5 is 120\n"
     ]
    }
   ],
   "source": [
    "#8\n",
    "\n",
    "def factorial_OP(n):\n",
    "    \n",
    "    if n == 0 or n == 1:\n",
    "        \n",
    "        return 1\n",
    "    \n",
    "    else:\n",
    "        #Recursive-Operation\n",
    "        \n",
    "        return n * factorial_OP(n - 1)\n",
    "\n",
    "user_Input = int(input(\"Enter any positive integer: \"))\n",
    "\n",
    "factorial = factorial_OP(user_Input)\n",
    "\n",
    "print(f\"The factorial of {user_Input} is {factorial}\")"
   ]
  },
  {
   "cell_type": "code",
   "execution_count": 5,
   "id": "b0bdf877",
   "metadata": {},
   "outputs": [
    {
     "name": "stdout",
     "output_type": "stream",
     "text": [
      "Enter a number to print Fibonacci Series till that: 5\n"
     ]
    },
    {
     "data": {
      "text/plain": [
       "[0, 1, 1, 2, 3, 5]"
      ]
     },
     "execution_count": 5,
     "metadata": {},
     "output_type": "execute_result"
    }
   ],
   "source": [
    "#9\n",
    "\n",
    "def fibonacci_Series(max_value):\n",
    "    \n",
    "    new_fib_numbers = []\n",
    "    \n",
    "    a, b = 0, 1\n",
    "    \n",
    "    while (a <= max_value):\n",
    "        \n",
    "        new_fib_numbers.append(a)\n",
    "        \n",
    "        a, b = b, a + b\n",
    "    \n",
    "    return new_fib_numbers\n",
    "\n",
    "user_Input_fib = int(input(\"Enter a number to print Fibonacci Series till that: \"))\n",
    "\n",
    "fibonacci_Series(user_Input_fib)"
   ]
  },
  {
   "cell_type": "code",
   "execution_count": 1,
   "id": "ea1dca5d",
   "metadata": {},
   "outputs": [
    {
     "name": "stdout",
     "output_type": "stream",
     "text": [
      "Enter any number to reverse: 502\n",
      "The 502 in reverse order is: 205\n"
     ]
    }
   ],
   "source": [
    "#10\n",
    "\n",
    "def integer_reverse(n):\n",
    "    \n",
    "    reversed_n = 0\n",
    "    \n",
    "    while (n > 0):\n",
    "        \n",
    "        digit = n % 10\n",
    "        \n",
    "        reversed_n = (reversed_n * 10) + digit\n",
    "        \n",
    "        n //= 10\n",
    "        \n",
    "    return reversed_n\n",
    "\n",
    "num = int(input(\"Enter any number to reverse: \"))\n",
    "\n",
    "num_rev = integer_reverse(num)\n",
    "\n",
    "print(f\"The {num} in reverse order is: {num_rev}\")"
   ]
  },
  {
   "cell_type": "code",
   "execution_count": 14,
   "id": "7103bf44",
   "metadata": {
    "scrolled": true
   },
   "outputs": [
    {
     "name": "stdout",
     "output_type": "stream",
     "text": [
      "The numbers between 200-300 whose sum of digits are EVEN are: \n",
      "200 202 204 206 208 211 213 215 217 219 220 222 224 226 228 231 233 235 237 239 240 242 244 246 248 251 253 255 257 259 260 262 264 266 268 271 273 275 277 279 280 282 284 286 288 291 293 295 297 299 "
     ]
    }
   ],
   "source": [
    "#11\n",
    "\n",
    "def sum_digits_EVEN(num):\n",
    "    \n",
    "    sum_digit = 0\n",
    "    \n",
    "    while num > 0:\n",
    "        \n",
    "        sum_digit += num % 10\n",
    "        \n",
    "        num //= 10\n",
    "        \n",
    "    return sum_digit % 2 == 0\n",
    "\n",
    "print(\"The numbers between 200-300 whose sum of digits are EVEN are: \")\n",
    "\n",
    "for i in range(200, 301):\n",
    "    \n",
    "    if sum_digits_EVEN(i):\n",
    "        \n",
    "        print(i, end=' ')\n"
   ]
  },
  {
   "cell_type": "code",
   "execution_count": 9,
   "id": "93e18b1c",
   "metadata": {},
   "outputs": [
    {
     "name": "stdout",
     "output_type": "stream",
     "text": [
      "Enter any number to calculate Number of Digits and Sum of Digits: 4\n",
      "Number of digits: 1\n",
      "Sum of digits: 4\n"
     ]
    }
   ],
   "source": [
    "#12\n",
    "\n",
    "def num_and_sum_digits(num):\n",
    "    \n",
    "    num_of_digits = 0\n",
    "    \n",
    "    digit_sum = 0\n",
    "\n",
    "    while num > 0:\n",
    "        \n",
    "        last_digit = num % 10\n",
    "        \n",
    "        digit_sum += last_digit\n",
    "        \n",
    "        num //= 10\n",
    "        \n",
    "        num_of_digits += 1\n",
    "\n",
    "    return num_of_digits, digit_sum\n",
    "\n",
    "num = int(input(\"Enter any number to calculate Number of Digits and Sum of Digits: \"))\n",
    "\n",
    "num_of_digits, digit_sum = num_and_sum_digits(num)\n",
    "\n",
    "print(f\"Number of digits: {num_of_digits}\")\n",
    "\n",
    "print(f\"Sum of digits: {digit_sum}\")\n"
   ]
  },
  {
   "cell_type": "code",
   "execution_count": 15,
   "id": "5bb55aff",
   "metadata": {},
   "outputs": [
    {
     "name": "stdout",
     "output_type": "stream",
     "text": [
      "True\n",
      "False\n",
      "False\n",
      "False\n"
     ]
    }
   ],
   "source": [
    "#13\n",
    "\n",
    "def is_sorted(lst):\n",
    "    \n",
    "    if sorted(lst) == lst:\n",
    "        \n",
    "        return True\n",
    "    \n",
    "    else:\n",
    "        \n",
    "        return False\n",
    "\n",
    "def has_duplicates(lst):\n",
    "    \n",
    "    if len(set(lst)) < len(lst):\n",
    "        \n",
    "        return True\n",
    "    \n",
    "    else:\n",
    "        \n",
    "        return False\n",
    "\n",
    "list1 = [10, 20, 30, 40, 50]\n",
    "\n",
    "list2 = [50, 40, 30, 20, 10]\n",
    "\n",
    "print(is_sorted(list1))    \n",
    "\n",
    "print(has_duplicates(list1))  \n",
    "\n",
    "print(is_sorted(list2))          \n",
    "\n",
    "print(has_duplicates(list2))      "
   ]
  },
  {
   "cell_type": "code",
   "execution_count": 21,
   "id": "4b72c88e",
   "metadata": {},
   "outputs": [
    {
     "name": "stdout",
     "output_type": "stream",
     "text": [
      "Nested Sum: 195\n",
      "The Cumulative Sum of the list is: [4, 12, 24, 40, 60]\n"
     ]
    }
   ],
   "source": [
    "#14\n",
    "\n",
    "def nested_sum(lst):\n",
    "    \n",
    "    total_sum = 0\n",
    "    \n",
    "    for sublist in lst:\n",
    "        \n",
    "        if isinstance(sublist, list):\n",
    "            \n",
    "            total_sum += nested_sum(sublist)\n",
    "            \n",
    "        else:\n",
    "            \n",
    "            total_sum += sublist\n",
    "            \n",
    "    return total_sum\n",
    "\n",
    "def cumsum(lst):\n",
    "    \n",
    "    cumulative_list = []  \n",
    "    \n",
    "    running_sum = 0\n",
    "    \n",
    "    for num in lst:\n",
    "        \n",
    "        running_sum += num\n",
    "        \n",
    "        cumulative_list.append(running_sum)\n",
    "        \n",
    "    return cumulative_list  \n",
    "\n",
    "input1 = [10, 30, [60, 90], 5]\n",
    "\n",
    "print(\"Nested Sum:\", nested_sum(input1))\n",
    "\n",
    "input2 = [4, 8, 12, 16, 20]\n",
    "\n",
    "print(\"The Cumulative Sum of the list is:\", cumsum(input2))\n"
   ]
  },
  {
   "cell_type": "code",
   "execution_count": null,
   "id": "c2716255",
   "metadata": {},
   "outputs": [],
   "source": []
  }
 ],
 "metadata": {
  "kernelspec": {
   "display_name": "Python 3 (ipykernel)",
   "language": "python",
   "name": "python3"
  },
  "language_info": {
   "codemirror_mode": {
    "name": "ipython",
    "version": 3
   },
   "file_extension": ".py",
   "mimetype": "text/x-python",
   "name": "python",
   "nbconvert_exporter": "python",
   "pygments_lexer": "ipython3",
   "version": "3.11.4"
  }
 },
 "nbformat": 4,
 "nbformat_minor": 5
}
