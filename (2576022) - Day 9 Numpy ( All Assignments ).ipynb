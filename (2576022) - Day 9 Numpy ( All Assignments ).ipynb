{
 "cells": [
  {
   "cell_type": "code",
   "execution_count": 1,
   "id": "0df54035",
   "metadata": {},
   "outputs": [
    {
     "name": "stdout",
     "output_type": "stream",
     "text": [
      "Requirement already satisfied: numpy in c:\\users\\asus\\anaconda3\\lib\\site-packages (1.26.0)\n"
     ]
    }
   ],
   "source": [
    "!pip install numpy"
   ]
  },
  {
   "cell_type": "markdown",
   "id": "80368ea6",
   "metadata": {},
   "source": [
    "# 1. Create 3x3 array with random values."
   ]
  },
  {
   "cell_type": "code",
   "execution_count": 16,
   "id": "4e2be4e4",
   "metadata": {},
   "outputs": [
    {
     "name": "stdout",
     "output_type": "stream",
     "text": [
      "[[0.24244869 0.91648183 0.19488056]\n",
      " [0.58924494 0.90512106 0.97123596]\n",
      " [0.71212178 0.92546515 0.18192918]]\n"
     ]
    }
   ],
   "source": [
    "import numpy as np\n",
    "\n",
    "# 3x3 array with random values\n",
    "\n",
    "arr = np.random.rand(3, 3) \n",
    "\n",
    "print(arr)"
   ]
  },
  {
   "cell_type": "markdown",
   "id": "a15a90d6",
   "metadata": {},
   "source": [
    "# 2. Create a 5x5 matrix with values 1,2,3,4 just below the diagonal "
   ]
  },
  {
   "cell_type": "code",
   "execution_count": 19,
   "id": "c4603b28",
   "metadata": {},
   "outputs": [
    {
     "name": "stdout",
     "output_type": "stream",
     "text": [
      "[[0 0 0 0 0]\n",
      " [1 0 0 0 0]\n",
      " [0 2 0 0 0]\n",
      " [0 0 3 0 0]\n",
      " [0 0 0 4 0]]\n"
     ]
    }
   ],
   "source": [
    "import numpy as np\n",
    "\n",
    "# Create a 5x5 matrix filled with zeros\n",
    "\n",
    "arr_matrix = np.zeros((5, 5), dtype=int)\n",
    "\n",
    "# Fill values 1, 2, 3, and 4 just below the diagonal\n",
    "\n",
    "for i in range(1, 5):\n",
    "    \n",
    "    arr_matrix[i, i - 1] = i\n",
    "\n",
    "print(arr_matrix)\n"
   ]
  },
  {
   "cell_type": "markdown",
   "id": "a7b26bc5",
   "metadata": {},
   "source": [
    "# 3. Create a 8x8 matrix and fill it with a checkerboard pattern "
   ]
  },
  {
   "cell_type": "code",
   "execution_count": 23,
   "id": "6744ad85",
   "metadata": {},
   "outputs": [
    {
     "name": "stdout",
     "output_type": "stream",
     "text": [
      "[[0 1 0 1 0 1 0 1]\n",
      " [1 0 1 0 1 0 1 0]\n",
      " [0 1 0 1 0 1 0 1]\n",
      " [1 0 1 0 1 0 1 0]\n",
      " [0 1 0 1 0 1 0 1]\n",
      " [1 0 1 0 1 0 1 0]\n",
      " [0 1 0 1 0 1 0 1]\n",
      " [1 0 1 0 1 0 1 0]]\n",
      "\n",
      "#--------------------- Alternative Way ---------------------#\n",
      "\n",
      "# Using numpy <tile>\n",
      "\n",
      " [[0 1 0 1 0 1 0 1]\n",
      " [1 0 1 0 1 0 1 0]\n",
      " [0 1 0 1 0 1 0 1]\n",
      " [1 0 1 0 1 0 1 0]\n",
      " [0 1 0 1 0 1 0 1]\n",
      " [1 0 1 0 1 0 1 0]\n",
      " [0 1 0 1 0 1 0 1]\n",
      " [1 0 1 0 1 0 1 0]]\n"
     ]
    }
   ],
   "source": [
    "import numpy as np\n",
    "\n",
    "\n",
    "arr_matrix1 = np.zeros((8, 8), dtype=int)\n",
    "\n",
    "# Fill the checkerboard pattern (alternating 1s and 0s)\n",
    "\n",
    "arr_matrix1[1::2, ::2] = 1  # Even-Rows , Odd-Columns \n",
    "\n",
    "arr_matrix1[::2, 1::2] = 1  # Odd-Rows , Even-Columns \n",
    "\n",
    "print(arr_matrix1)\n",
    "\n",
    "\n",
    "print('\\n#--------------------- Alternative Way ---------------------#')\n",
    "\n",
    "\n",
    "print('\\n# Using numpy <tile>')\n",
    "\n",
    "arr_matrix2 = np.tile([[0, 1], [1, 0]], (4, 4))\n",
    "\n",
    "print(\"\\n\",arr_matrix2)\n"
   ]
  },
  {
   "cell_type": "markdown",
   "id": "dc09178e",
   "metadata": {},
   "source": [
    "# 4. Normalize a 5x5 random matrix "
   ]
  },
  {
   "cell_type": "code",
   "execution_count": 27,
   "id": "37feb275",
   "metadata": {},
   "outputs": [
    {
     "name": "stdout",
     "output_type": "stream",
     "text": [
      "\n",
      "Original random matrix:\n",
      "\n",
      " [[0.07672784 0.67739959 0.441549   0.4302562  0.67568841]\n",
      " [0.07007528 0.03141182 0.39528277 0.13448675 0.7852929 ]\n",
      " [0.290371   0.70267155 0.16766872 0.0948301  0.41027134]\n",
      " [0.50593524 0.45369309 0.06680355 0.73040775 0.39604116]\n",
      " [0.21048283 0.37546365 0.53569344 0.17981336 0.59192784]]\n",
      "\n",
      "Normalized matrix:\n",
      "\n",
      " [[0.06011031 0.85688286 0.54403432 0.52905477 0.85461303]\n",
      " [0.05128589 0.         0.4826636  0.13672572 1.        ]\n",
      " [0.34350137 0.89040533 0.18074058 0.0841224  0.50254547]\n",
      " [0.62944069 0.56014308 0.04694604 0.92719655 0.48366957]\n",
      " [0.23753217 0.45637414 0.66891402 0.19685007 0.74350722]]\n"
     ]
    }
   ],
   "source": [
    "import numpy as np\n",
    "\n",
    "# Create a 5x5 random matrix\n",
    "\n",
    "random_matrix = np.random.rand(5, 5)\n",
    "\n",
    "# Find the minimum and maximum values in the matrix\n",
    "\n",
    "min_value = np.min(random_matrix)\n",
    "\n",
    "max_value = np.max(random_matrix)\n",
    "\n",
    "\n",
    "#-------------------- Normalizing Matrix [0, 1] --------------------#\n",
    "\n",
    "\n",
    "normalized_matrix = (random_matrix - min_value) / (max_value - min_value)\n",
    "\n",
    "print(\"\\nOriginal random matrix:\")\n",
    "\n",
    "print(\"\\n\",random_matrix)\n",
    "\n",
    "print(\"\\nNormalized matrix:\")\n",
    "\n",
    "print(\"\\n\",normalized_matrix)\n"
   ]
  },
  {
   "cell_type": "markdown",
   "id": "7bf81c83",
   "metadata": {},
   "source": [
    "# 5. How to find common values between two arrays?"
   ]
  },
  {
   "cell_type": "code",
   "execution_count": 31,
   "id": "b03fcbd3",
   "metadata": {},
   "outputs": [
    {
     "name": "stdout",
     "output_type": "stream",
     "text": [
      "Common values: [3 4 5]\n"
     ]
    }
   ],
   "source": [
    "import numpy as np\n",
    "\n",
    "array1 = np.array([1, 2, 3, 4, 5])\n",
    "\n",
    "array2 = np.array([3, 4, 5, 6, 7])\n",
    "\n",
    "#-------------------- Common Values --------------------#\n",
    "\n",
    "common_values = np.intersect1d(array1, array2)\n",
    "\n",
    "print(\"Common values:\", common_values)\n"
   ]
  },
  {
   "cell_type": "markdown",
   "id": "1af138a8",
   "metadata": {},
   "source": [
    "# 6. How to get the dates of yesterday, today and tomorrow? "
   ]
  },
  {
   "cell_type": "code",
   "execution_count": 33,
   "id": "50fa3c13",
   "metadata": {},
   "outputs": [
    {
     "name": "stdout",
     "output_type": "stream",
     "text": [
      "\n",
      " #---------- Today's Date ----------#\n",
      "2023-09-22 14:44:19.570672\n",
      "\n",
      " #---------- Yesterday Date ----------#\n",
      "2023-09-21\n",
      "\n",
      " #---------- Tomorrow's Date ----------#\n",
      "2023-09-23\n"
     ]
    }
   ],
   "source": [
    "from datetime import datetime\n",
    "\n",
    "import numpy as np\n",
    "\n",
    "\n",
    "print(\"\\n #---------- Today's Date ----------#\")\n",
    "\n",
    "todays_date = datetime.now()\n",
    "\n",
    "print(todays_date)\n",
    "\n",
    "\n",
    "print(\"\\n #---------- Yesterday Date ----------#\")\n",
    "\n",
    "yesterday_date = np.datetime64('today', 'D')- np.timedelta64(1, 'D')\n",
    "\n",
    "print(yesterday_date)\n",
    "\n",
    "\n",
    "print(\"\\n #---------- Tomorrow's Date ----------#\")\n",
    "\n",
    "tomorrow_date = np.datetime64('today', 'D') + np.timedelta64(1, 'D')\n",
    "\n",
    "print(tomorrow_date)"
   ]
  },
  {
   "cell_type": "markdown",
   "id": "6ed59f77",
   "metadata": {},
   "source": [
    "# 7. Consider two random array A and B, check if they are equal "
   ]
  },
  {
   "cell_type": "code",
   "execution_count": 36,
   "id": "74a08577",
   "metadata": {},
   "outputs": [
    {
     "name": "stdout",
     "output_type": "stream",
     "text": [
      "\n",
      " Array 1 & Array 2 are not equal.\n"
     ]
    }
   ],
   "source": [
    "import numpy as np\n",
    "\n",
    "array_1 = np.random.rand(5)  \n",
    "\n",
    "array_2 = np.random.rand(5)  \n",
    "\n",
    "\n",
    "#-------------------- Numpy (array_equal) method --------------------#\n",
    "\n",
    "\n",
    "arr_comparison = np.array_equal(array_1, array_2)\n",
    "\n",
    "if arr_comparison:\n",
    "    \n",
    "    print(\"\\n Array 1 & Array 2 are equal.\")\n",
    "    \n",
    "else:\n",
    "    \n",
    "    print(\"\\n Array 1 & Array 2 are not equal.\")\n"
   ]
  },
  {
   "cell_type": "markdown",
   "id": "09ef2820",
   "metadata": {},
   "source": [
    "# 8. Create random vector of size 10 and replace the maximum value by 0 "
   ]
  },
  {
   "cell_type": "code",
   "execution_count": 38,
   "id": "1b9fbbba",
   "metadata": {},
   "outputs": [
    {
     "name": "stdout",
     "output_type": "stream",
     "text": [
      "\n",
      "#-------------------- Modified Vector --------------------#\n",
      "\n",
      " [0.         0.36482551 0.11994183 0.26375234 0.2205466  0.59894311\n",
      " 0.53820736 0.37725722 0.0058053  0.41685151]\n"
     ]
    }
   ],
   "source": [
    "import numpy as np\n",
    "\n",
    "#-------------------- Random vector (size 10) --------------------#\n",
    "\n",
    "rand_vector = np.random.rand(10)\n",
    "\n",
    "#-------------------- Replace Max with 0 --------------------#\n",
    "\n",
    "rand_vector[np.argmax(rand_vector)] = 0\n",
    "\n",
    "print(\"\\n#-------------------- Modified Vector --------------------#\")\n",
    "\n",
    "print(\"\\n\",rand_vector)"
   ]
  },
  {
   "cell_type": "markdown",
   "id": "731c0059",
   "metadata": {},
   "source": [
    "# 9. How to print all the values of an array? "
   ]
  },
  {
   "cell_type": "code",
   "execution_count": 44,
   "id": "1d9be59e",
   "metadata": {},
   "outputs": [
    {
     "name": "stdout",
     "output_type": "stream",
     "text": [
      "10 20 30 40 50 60 70 80 90 100 "
     ]
    }
   ],
   "source": [
    "import numpy as np\n",
    "\n",
    "my_array = np.array([[10, 20, 30, 40, 50],\n",
    "                     [60, 70, 80, 90, 100]])\n",
    "\n",
    "for row in my_array:\n",
    "    \n",
    "    for value in row:\n",
    "        \n",
    "        print(value,end=' ')\n"
   ]
  },
  {
   "cell_type": "markdown",
   "id": "f7164318",
   "metadata": {},
   "source": [
    "# 10. Subtract the mean of each row of a matrix "
   ]
  },
  {
   "cell_type": "code",
   "execution_count": 45,
   "id": "155abdcc",
   "metadata": {},
   "outputs": [
    {
     "name": "stdout",
     "output_type": "stream",
     "text": [
      "Original matrix:\n",
      "\n",
      "[[0.41765022 0.41617391 0.11869601 0.58866194 0.2526933  0.57717783\n",
      "  0.43231294 0.01791639 0.94957366 0.21924399]\n",
      " [0.5024436  0.76037091 0.98923124 0.87484874 0.12173024 0.75910182\n",
      "  0.8721673  0.40934113 0.34046482 0.94725352]\n",
      " [0.76675941 0.12895654 0.27938681 0.03358857 0.56999141 0.42111891\n",
      "  0.77512015 0.13311689 0.67869523 0.63735004]\n",
      " [0.05177716 0.09725997 0.34589135 0.84334227 0.15790813 0.82451015\n",
      "  0.08643088 0.15325796 0.24474439 0.77161107]\n",
      " [0.39496679 0.93856569 0.93539837 0.27662083 0.3913606  0.57846973\n",
      "  0.62719637 0.79091575 0.83132886 0.82739922]]\n",
      "\n",
      "Subtracted Matrix is:\n",
      "\n",
      "[[ 0.0186402   0.01716389 -0.28031401  0.18965192 -0.14631672  0.17816781\n",
      "   0.03330292 -0.38109363  0.55056364 -0.17976602]\n",
      " [-0.15525173  0.10267558  0.33153591  0.21715341 -0.5359651   0.10140649\n",
      "   0.21447196 -0.2483542  -0.31723051  0.28955819]\n",
      " [ 0.32435102 -0.31345186 -0.16302158 -0.40881983  0.12758301 -0.02128948\n",
      "   0.33271175 -0.30929151  0.23628683  0.19494164]\n",
      " [-0.30589617 -0.26041337 -0.01178198  0.48566894 -0.19976521  0.46683681\n",
      "  -0.27124245 -0.20441537 -0.11292894  0.41393774]\n",
      " [-0.26425543  0.27934347  0.27617615 -0.3826014  -0.26786162 -0.08075249\n",
      "  -0.03202586  0.13169353  0.17210664  0.168177  ]]\n"
     ]
    }
   ],
   "source": [
    "import numpy as np\n",
    "\n",
    "def_matrix = np.random.rand(5, 10)\n",
    "\n",
    "print(\"Original matrix:\\n\")\n",
    "\n",
    "print(def_matrix)\n",
    "\n",
    "#-------------------- Subtract mean of each row of the matrix --------------------\n",
    "\n",
    "print(\"\\nSubtracted Matrix is:\\n\")\n",
    "\n",
    "sub_matrix = def_matrix - def_matrix.mean(axis=1, keepdims=True)\n",
    "\n",
    "print(sub_matrix)\n"
   ]
  },
  {
   "cell_type": "markdown",
   "id": "3e131586",
   "metadata": {},
   "source": [
    "# 11. Consider a given vector, how to add 1 to each element indexed by a second vector (be careful with repeated indices)? "
   ]
  },
  {
   "cell_type": "code",
   "execution_count": 49,
   "id": "bc3b406f",
   "metadata": {},
   "outputs": [
    {
     "name": "stdout",
     "output_type": "stream",
     "text": [
      "\n",
      " Default Vector:\n",
      "[10 20 30 40]\n",
      "\n",
      " Updated Vector <+1 Added>:\n",
      "[11 21 31 41]\n"
     ]
    }
   ],
   "source": [
    "import numpy as np\n",
    "\n",
    "vector = np.array([10, 20, 30, 40])\n",
    "\n",
    "vector_indices = np.array([0, 1, 2, 3])\n",
    "\n",
    "print(\"\\n Default Vector:\")\n",
    "\n",
    "print(vector)\n",
    "\n",
    "#-------------------- Adding 1 to Elements --------------------#\n",
    "\n",
    "result_vector = vector[vector_indices] + 1\n",
    "\n",
    "print(\"\\n Updated Vector <+1 Added>:\")\n",
    "\n",
    "print(result_vector)"
   ]
  },
  {
   "cell_type": "markdown",
   "id": "d91cd468",
   "metadata": {},
   "source": [
    "# 12. How to get the diagonal of a dot product? "
   ]
  },
  {
   "cell_type": "code",
   "execution_count": 52,
   "id": "45de22b3",
   "metadata": {},
   "outputs": [
    {
     "name": "stdout",
     "output_type": "stream",
     "text": [
      "\n",
      " Diagonal Dot product: \n",
      "[0.77312689 0.07806388 0.17844601]\n",
      "[[0.0082905  0.93609463 0.77304894]\n",
      " [0.02374602 0.04136052 0.31383731]\n",
      " [0.05260036 0.63984297 0.06405529]]\n"
     ]
    }
   ],
   "source": [
    "import numpy as np\n",
    "\n",
    "array_1 = np.random.rand(3,3) \n",
    "\n",
    "array_2 = np.random.rand(3,3)\n",
    "\n",
    "print(\"\\n Diagonal Dot product: \")\n",
    "\n",
    "print(np.diag(np.dot(array_1, array_2)))\n",
    "\n",
    "print(array_1)"
   ]
  },
  {
   "cell_type": "markdown",
   "id": "67a20160",
   "metadata": {},
   "source": [
    "# 13. How to find the most frequent value in an array? "
   ]
  },
  {
   "cell_type": "code",
   "execution_count": 55,
   "id": "3fa8ff94",
   "metadata": {},
   "outputs": [
    {
     "name": "stdout",
     "output_type": "stream",
     "text": [
      "Most frequent values from array is : 30\n"
     ]
    }
   ],
   "source": [
    "import numpy as np\n",
    "\n",
    "user_array = np.array([10, 10, 20, 30, 30, 30, 30, 40, 40])\n",
    "\n",
    "#-------------------- Numpy (bincount , argmax) --------------------#\n",
    "\n",
    "most_freq_values = np.bincount(user_array).argmax()\n",
    "\n",
    "# Print the most frequent value(s)\n",
    "\n",
    "print(\"Most frequent values from array is :\", most_freq_values)\n"
   ]
  },
  {
   "cell_type": "markdown",
   "id": "59da1901",
   "metadata": {},
   "source": [
    "# 14. How to get the n largest values of an array"
   ]
  },
  {
   "cell_type": "code",
   "execution_count": 60,
   "id": "9bbf496d",
   "metadata": {},
   "outputs": [
    {
     "name": "stdout",
     "output_type": "stream",
     "text": [
      "\n",
      " N largest values: [498 499]\n"
     ]
    }
   ],
   "source": [
    "import numpy as np\n",
    "\n",
    "array_random= np.arange(500)\n",
    "\n",
    "np.random.shuffle(array_random)\n",
    "\n",
    "n_large = 2\n",
    "\n",
    "print(\"\\n N largest values:\", end=' ')\n",
    "\n",
    "print (array_random[np.argsort(array_random)[-n_large:]])\n"
   ]
  },
  {
   "cell_type": "markdown",
   "id": "6eb13530",
   "metadata": {},
   "source": [
    "# 15. How to create a record array from a regular array? "
   ]
  },
  {
   "cell_type": "code",
   "execution_count": 68,
   "id": "5545cefd",
   "metadata": {},
   "outputs": [
    {
     "name": "stdout",
     "output_type": "stream",
     "text": [
      "((1, 'Emp1', 10), (2, 'Emp2', 20), (3, 'Emp3', 30)) \n",
      "\n"
     ]
    }
   ],
   "source": [
    "import numpy as np\n",
    "\n",
    "regular_array = np.array([(1, 'Emp1', 10),\n",
    "                          (2, 'Emp2', 20),\n",
    "                          (3, 'Emp3', 30)],\n",
    "                         dtype=[('id', int), ('name', 'U10'), ('age', int)])\n",
    "\n",
    "# Create a record array from the regular array\n",
    "\n",
    "record_array = np.rec.fromarrays(regular_array.T, \n",
    "                                 names=regular_array.dtype.names)\n",
    "\n",
    "#--------------- Recorded array ---------------#\n",
    "\n",
    "print(record_array, \"\\n\")\n"
   ]
  },
  {
   "cell_type": "markdown",
   "id": "6fe873b6",
   "metadata": {},
   "source": [
    "# 16. How to swap two rows of an array?"
   ]
  },
  {
   "cell_type": "code",
   "execution_count": 81,
   "id": "e2248361",
   "metadata": {},
   "outputs": [
    {
     "name": "stdout",
     "output_type": "stream",
     "text": [
      "\n",
      "Initial Array:\n",
      "\n",
      "[[3 0 4 0]\n",
      " [3 1 1 0]\n",
      " [1 2 1 3]\n",
      " [0 0 3 4]]\n",
      "\n",
      "Updated Array:\n",
      "\n",
      "[[3 0 4 0]\n",
      " [0 0 3 4]\n",
      " [1 2 1 3]\n",
      " [3 1 1 0]]\n"
     ]
    }
   ],
   "source": [
    "import numpy as np\n",
    "\n",
    "#-------------------- Initial Array --------------------# \n",
    "\n",
    "arr = np.random.randint(0, 5, size=(4, 4))\n",
    "\n",
    "print(\"\\nInitial Array:\\n\")\n",
    "\n",
    "print(arr)\n",
    "\n",
    "#-------------------- Array Indices --------------------# \n",
    "\n",
    "row1_index = 1\n",
    "\n",
    "row2_index = 3\n",
    "\n",
    "#-------------------- Swapping Rows --------------------# \n",
    "\n",
    "arr[[row1_index, row2_index], :] = arr[[row2_index, row1_index], :]\n",
    "\n",
    "\n",
    "#-------------------- Updated Array (Swapped Rows) -------------------- #\n",
    "\n",
    "print(\"\\nUpdated Array:\\n\")\n",
    "\n",
    "print(arr)\n",
    "\n",
    "\n",
    "#-------------------- Alternate Way ------------------------------------#\n",
    "\n",
    "a = np.array([[4,3, 1],[5 ,7, 0],[9, 9, 3],[8, 2, 4]]) \n",
    "\n",
    "print(a)\n",
    "\n",
    "\n",
    "a[[0, 2]] = a[[2, 0]]\n",
    "\n",
    "print(a)"
   ]
  },
  {
   "cell_type": "markdown",
   "id": "27b92386",
   "metadata": {},
   "source": [
    "# 17. Write python code to reshape to the next dimension of numpy array? "
   ]
  },
  {
   "cell_type": "code",
   "execution_count": 87,
   "id": "5222b799",
   "metadata": {},
   "outputs": [
    {
     "name": "stdout",
     "output_type": "stream",
     "text": [
      "\n",
      " Before Reshaping: \n",
      "\n",
      "[[4 4]\n",
      " [3 1]\n",
      " [1 4]]\n",
      "\n",
      " After Reshaping:\n",
      "\n",
      "[[4 4 3]\n",
      " [1 1 4]]\n"
     ]
    }
   ],
   "source": [
    "import numpy as np\n",
    "\n",
    "user_arr = np.random.randint(0, 5, size=(3, 2))\n",
    "\n",
    "print(\"\\n Before Reshaping: \\n\")\n",
    "\n",
    "print(user_arr)\n",
    "\n",
    "#-------------------- Reshape to 2 x 3 --------------------#\n",
    "\n",
    "user_arr = user_arr.reshape((2, 3))\n",
    "\n",
    "print(\"\\n After Reshaping:\\n\")\n",
    "\n",
    "#--------------- Resulting array ---------------#\n",
    "\n",
    "print(user_arr)\n"
   ]
  },
  {
   "cell_type": "markdown",
   "id": "402f591e",
   "metadata": {},
   "source": [
    "# Numpy - Mini Case Study 2 (Practice Assignments)"
   ]
  },
  {
   "cell_type": "code",
   "execution_count": 3,
   "id": "081057f4",
   "metadata": {},
   "outputs": [],
   "source": [
    "import numpy as np \n",
    "\n",
    "np_olympic_country = np.array(['GBR', 'Chine', 'RUS', 'US', 'KOR', 'JPN', 'GER'])\n",
    "\n",
    "np_olympic_country_gold = np.array([29, 38, 24, 46, 13, 7, 11])\n",
    "\n",
    "np_olympic_country_silver = np.array([17, 28, 25, 28, 8, 14, 11])\n",
    "\n",
    "np_olympic_country_bronze = np.array([19, 22, 32, 29, 7, 17, 14])"
   ]
  },
  {
   "cell_type": "markdown",
   "id": "a56d5654",
   "metadata": {},
   "source": [
    "# 1. Find the country index with maximum Gold"
   ]
  },
  {
   "cell_type": "code",
   "execution_count": 4,
   "id": "49848994",
   "metadata": {},
   "outputs": [
    {
     "name": "stdout",
     "output_type": "stream",
     "text": [
      "\n",
      "Country with Maximum Gold Medals: US\n",
      "\n",
      "Index in the Array is : 3\n"
     ]
    }
   ],
   "source": [
    "max_gold_index = np.argmax(np_olympic_country_gold)\n",
    "\n",
    "print(\"\\nCountry with Maximum Gold Medals:\", np_olympic_country[max_gold_index])\n",
    "\n",
    "print(\"\\nIndex in the Array is :\", max_gold_index)"
   ]
  },
  {
   "cell_type": "markdown",
   "id": "0cbbe6cb",
   "metadata": {},
   "source": [
    "# 2. Print Country with Maximum Gold"
   ]
  },
  {
   "cell_type": "code",
   "execution_count": 5,
   "id": "c6f3f93b",
   "metadata": {},
   "outputs": [
    {
     "name": "stdout",
     "output_type": "stream",
     "text": [
      "\n",
      "Country with Maximum Gold Medals is : US\n"
     ]
    }
   ],
   "source": [
    "country_with_max_gold = np_olympic_country[max_gold_index]\n",
    "\n",
    "print(\"\\nCountry with Maximum Gold Medals is :\", country_with_max_gold)"
   ]
  },
  {
   "cell_type": "markdown",
   "id": "1a5cfb8d",
   "metadata": {},
   "source": [
    "# 3. Find countries with more than 20 gold medals"
   ]
  },
  {
   "cell_type": "code",
   "execution_count": 6,
   "id": "b7d6f210",
   "metadata": {},
   "outputs": [
    {
     "name": "stdout",
     "output_type": "stream",
     "text": [
      "\n",
      "Countries with More Than 20 Gold Medals are: ['GBR' 'Chine' 'RUS' 'US']\n"
     ]
    }
   ],
   "source": [
    "countries_with_more_than_20_gold = np_olympic_country[np_olympic_country_gold > 20]\n",
    "\n",
    "print(\"\\nCountries with More Than 20 Gold Medals are:\", countries_with_more_than_20_gold)"
   ]
  },
  {
   "cell_type": "markdown",
   "id": "5f842d06",
   "metadata": {},
   "source": [
    "# 4. Evaluate the dataset and print the medal "
   ]
  },
  {
   "cell_type": "code",
   "execution_count": 8,
   "id": "db25a9c1",
   "metadata": {},
   "outputs": [
    {
     "name": "stdout",
     "output_type": "stream",
     "text": [
      "\n",
      "Country - GBR: \n",
      " Gold: 29, \n",
      " Silver: 17, \n",
      " Bronze: 19\n",
      "\n",
      "Country - Chine: \n",
      " Gold: 38, \n",
      " Silver: 28, \n",
      " Bronze: 22\n",
      "\n",
      "Country - RUS: \n",
      " Gold: 24, \n",
      " Silver: 25, \n",
      " Bronze: 32\n",
      "\n",
      "Country - US: \n",
      " Gold: 46, \n",
      " Silver: 28, \n",
      " Bronze: 29\n",
      "\n",
      "Country - KOR: \n",
      " Gold: 13, \n",
      " Silver: 8, \n",
      " Bronze: 7\n",
      "\n",
      "Country - JPN: \n",
      " Gold: 7, \n",
      " Silver: 14, \n",
      " Bronze: 17\n",
      "\n",
      "Country - GER: \n",
      " Gold: 11, \n",
      " Silver: 11, \n",
      " Bronze: 14\n"
     ]
    }
   ],
   "source": [
    "for i in range(len(np_olympic_country)):\n",
    "    \n",
    "    country = np_olympic_country[i]\n",
    "    \n",
    "    gold = np_olympic_country_gold[i]\n",
    "    \n",
    "    silver = np_olympic_country_silver[i]\n",
    "    \n",
    "    bronze = np_olympic_country_bronze[i]\n",
    "    \n",
    "    print(f\"\\nCountry - {country}: \\n Gold: {gold}, \\n Silver: {silver}, \\n Bronze: {bronze}\")"
   ]
  }
 ],
 "metadata": {
  "kernelspec": {
   "display_name": "Python 3 (ipykernel)",
   "language": "python",
   "name": "python3"
  },
  "language_info": {
   "codemirror_mode": {
    "name": "ipython",
    "version": 3
   },
   "file_extension": ".py",
   "mimetype": "text/x-python",
   "name": "python",
   "nbconvert_exporter": "python",
   "pygments_lexer": "ipython3",
   "version": "3.11.4"
  }
 },
 "nbformat": 4,
 "nbformat_minor": 5
}
